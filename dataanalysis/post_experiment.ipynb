{
 "cells": [
  {
   "cell_type": "markdown",
   "id": "5daea7d4",
   "metadata": {},
   "source": [
    "# Code to run after every experiment on the pair's data\n",
    "\n",
    "1. Immediate feedback on the pair's accuracy, repetition bias, RT distribution and no. of sets of consecutive trials done by each\n",
    "2. Recodes the data \n",
    "3. saves the recoded data in a file named 'pairid.csv'. This file is later used by the HDDM and analysis codes"
   ]
  },
  {
   "cell_type": "code",
   "execution_count": 53,
   "id": "f99aaaf8",
   "metadata": {},
   "outputs": [],
   "source": [
    "import matplotlib.pyplot as plt\n",
    "import matplotlib.ticker as mtick\n",
    "import numpy as np\n",
    "import os\n",
    "import pandas as pd\n",
    "import seaborn as sns\n",
    "sns.set_palette(\"Set2\", desat=0.5)"
   ]
  },
  {
   "cell_type": "code",
   "execution_count": 54,
   "id": "82193496",
   "metadata": {},
   "outputs": [],
   "source": [
    "datasrc = \"~/Documents/Techspace/ddmown/data\"\n",
    "datafile = \"DDM_pair55_2021_Sep_14_1905.csv\"\n",
    "nLags = 6 #number of lag trials to be evaluated"
   ]
  },
  {
   "cell_type": "code",
   "execution_count": 55,
   "id": "06f14dbb",
   "metadata": {},
   "outputs": [],
   "source": [
    "samples_df = pd.read_csv(\"https://raw.githubusercontent.com/104H/dyadicdecisionmaking/2ifc-random-dots/data/DDM_pair179179_2021_Nov_19_0935.csv\")"
   ]
  },
  {
   "cell_type": "code",
   "execution_count": 56,
   "id": "89e4b015",
   "metadata": {},
   "outputs": [
    {
     "data": {
      "text/html": [
       "<div>\n",
       "<style scoped>\n",
       "    .dataframe tbody tr th:only-of-type {\n",
       "        vertical-align: middle;\n",
       "    }\n",
       "\n",
       "    .dataframe tbody tr th {\n",
       "        vertical-align: top;\n",
       "    }\n",
       "\n",
       "    .dataframe thead th {\n",
       "        text-align: right;\n",
       "    }\n",
       "</style>\n",
       "<table border=\"1\" class=\"dataframe\">\n",
       "  <thead>\n",
       "    <tr style=\"text-align: right;\">\n",
       "      <th></th>\n",
       "      <th>block</th>\n",
       "      <th>trial</th>\n",
       "      <th>s1_state</th>\n",
       "      <th>direction</th>\n",
       "      <th>response</th>\n",
       "      <th>rt</th>\n",
       "      <th>pair</th>\n",
       "      <th>Unnamed: 7</th>\n",
       "    </tr>\n",
       "  </thead>\n",
       "  <tbody>\n",
       "    <tr>\n",
       "      <th>0</th>\n",
       "      <td>0</td>\n",
       "      <td>0</td>\n",
       "      <td>True</td>\n",
       "      <td>right</td>\n",
       "      <td>right</td>\n",
       "      <td>1.402240</td>\n",
       "      <td>179179</td>\n",
       "      <td>NaN</td>\n",
       "    </tr>\n",
       "    <tr>\n",
       "      <th>1</th>\n",
       "      <td>0</td>\n",
       "      <td>1</td>\n",
       "      <td>True</td>\n",
       "      <td>right</td>\n",
       "      <td>right</td>\n",
       "      <td>0.879020</td>\n",
       "      <td>179179</td>\n",
       "      <td>NaN</td>\n",
       "    </tr>\n",
       "    <tr>\n",
       "      <th>2</th>\n",
       "      <td>0</td>\n",
       "      <td>2</td>\n",
       "      <td>True</td>\n",
       "      <td>right</td>\n",
       "      <td>right</td>\n",
       "      <td>0.648397</td>\n",
       "      <td>179179</td>\n",
       "      <td>NaN</td>\n",
       "    </tr>\n",
       "    <tr>\n",
       "      <th>3</th>\n",
       "      <td>0</td>\n",
       "      <td>3</td>\n",
       "      <td>True</td>\n",
       "      <td>left</td>\n",
       "      <td>right</td>\n",
       "      <td>0.811260</td>\n",
       "      <td>179179</td>\n",
       "      <td>NaN</td>\n",
       "    </tr>\n",
       "    <tr>\n",
       "      <th>4</th>\n",
       "      <td>0</td>\n",
       "      <td>4</td>\n",
       "      <td>True</td>\n",
       "      <td>right</td>\n",
       "      <td>right</td>\n",
       "      <td>1.370264</td>\n",
       "      <td>179179</td>\n",
       "      <td>NaN</td>\n",
       "    </tr>\n",
       "  </tbody>\n",
       "</table>\n",
       "</div>"
      ],
      "text/plain": [
       "   block  trial  s1_state direction response        rt    pair  Unnamed: 7\n",
       "0      0      0      True     right    right  1.402240  179179         NaN\n",
       "1      0      1      True     right    right  0.879020  179179         NaN\n",
       "2      0      2      True     right    right  0.648397  179179         NaN\n",
       "3      0      3      True      left    right  0.811260  179179         NaN\n",
       "4      0      4      True     right    right  1.370264  179179         NaN"
      ]
     },
     "execution_count": 56,
     "metadata": {},
     "output_type": "execute_result"
    }
   ],
   "source": [
    "pair_id = samples_df['pair'][0]\n",
    "samples_df.head()"
   ]
  },
  {
   "cell_type": "code",
   "execution_count": 57,
   "id": "63a6168b",
   "metadata": {},
   "outputs": [],
   "source": [
    "\"\"\"\n",
    "Key params\n",
    "\"\"\"\n",
    "block_repeat = samples_df['block'].max() - 1\n",
    "trials_per_block = samples_df['trial'].max() + 1"
   ]
  },
  {
   "cell_type": "code",
   "execution_count": 58,
   "id": "0a560fe7",
   "metadata": {},
   "outputs": [],
   "source": [
    "\"\"\"\n",
    "Helper Functions\n",
    "\"\"\"\n",
    "def keep_neccessary_columns(df):\n",
    "    '''\n",
    "    Keep only columns that contain important data.\n",
    "    This targets getting rid mainly columns named \".this...\".\n",
    "    '''\n",
    "    return(df[['pair','block','trial','s1_state','direction','response','rt']])\n",
    "\n",
    "def determine_correct_responses(df):\n",
    "    '''\n",
    "    If the response and direction of dots match then correct else not\n",
    "    '''\n",
    "    condition = df['direction'] == df['response'] \n",
    "    df['correct'] = 0\n",
    "    df.loc[condition, 'correct'] = 1\n",
    "    \n",
    "    return df\n",
    "\n",
    "def segregate_trial_data(df):\n",
    "    \"\"\"\n",
    "    Segregate and arrange data on a per subject basis since analysis is done per subject.\n",
    "    Output: every row is a trial data for the 'DO' subject. the dyad is by default in 'OBSERVE' state\n",
    "    every subject is given a subject id : pair-id_1 or pair-id_2\n",
    "    \"\"\"\n",
    "    temp = df.copy()\n",
    "    temp['subj_idx'] = temp['pair'].apply(str) \n",
    "    #'subj_idx' literal needed for HDDM see https://groups.google.com/g/hddm-users/c/Dhohjq_U2kU\n",
    "    temp.loc[temp['s1_state']==1,'subj_idx'] = temp.loc[temp['s1_state']==1,'subj_idx'] + '_1'\n",
    "    temp.loc[temp['s1_state']==0,'subj_idx'] = temp.loc[temp['s1_state']==0,'subj_idx'] + '_2'\n",
    "    \n",
    "    return temp\n",
    "\n",
    "\"\"\"\n",
    "def determine_response_type(df):\n",
    "\n",
    "    #Is the current response repeat or alternate of the immediate past response\n",
    "\n",
    "    df['repeat'] = df['response'] == df['response'].shift(periods=1)\n",
    "    df['repeat'] = df['repeat'].map({True:'repeat',False:'alternate'})\n",
    "    \n",
    "    return df\n",
    "\"\"\"\n",
    "    \n",
    "def collect_previous_trials(df,nprev=1):\n",
    "    \n",
    "    \"\"\"\n",
    "    Collate data of the n-th previous trial\n",
    "    \"\"\"\n",
    "    \n",
    "    prefix = 'prev' if nprev == 1 else 'prev' + str(nprev) #prefix for the column name\n",
    "    \n",
    "    \"\"\"\n",
    "    What was the stimulus of the n-th previous trial?  \n",
    "    \"\"\"\n",
    "    col_name = prefix + 'stim'\n",
    "    df[col_name] = df['direction'].shift(periods=nprev)\n",
    "    \n",
    "    \"\"\"\n",
    "    What was the response of the n-th previous trial? ?  \n",
    "    \"\"\"\n",
    "    col_name = prefix + 'resp'\n",
    "    df[col_name] = df['response'].shift(periods=nprev)\n",
    "    \n",
    "    \"\"\"\n",
    "    Who did the n-th previous trial?\n",
    "    \"\"\"\n",
    "    col_name = prefix + 'subject'\n",
    "    df[col_name] = df['subj_idx'].shift(periods=nprev)\n",
    "    \n",
    "    \"\"\"\n",
    "    Was the n-th previous trial response correct or incorrect?\n",
    "    \"\"\"\n",
    "    col_name = prefix + 'correct'\n",
    "    condition = df[prefix + 'stim'] == df[prefix + 'resp'] \n",
    "    df[col_name] = 0\n",
    "    df.loc[condition, col_name] = 1\n",
    "    \n",
    "    \"\"\"\n",
    "    Is the current response repeat of the n-th previous response\n",
    "    \"\"\"\n",
    "    col_name = prefix + 'repeat'\n",
    "    df[col_name] = df['response'] == df['response'].shift(periods=nprev)\n",
    "    df[col_name] = df[col_name].map({True:1,False:0})\n",
    "    \n",
    "    return df\n",
    "\n",
    "\"\"\"\n",
    "Remove trials where RTs are outliers. ref Urai paper.\n",
    "\"\"\"\n",
    "def remove_outliers(df):\n",
    "\n",
    "    df['rt'] = df['rt'].astype(float)\n",
    "    RTstd = 4\n",
    "    outlier_dict = {}\n",
    "    subs = df.subj_idx.unique()\n",
    "\n",
    "    for subject in subs:\n",
    "        # create subset of dataframe\n",
    "        subset = df.loc[samples_df.subj_idx==subject]\n",
    "\n",
    "        values = subset.loc[:,'rt'].values\n",
    "        mean = np.mean(values)\n",
    "        std = np.std(values)\n",
    "        thresh = mean + (std*RTstd)\n",
    "\n",
    "        # get indices of outliers\n",
    "        idx = subset.loc[(subset.rt) > thresh].index\n",
    "\n",
    "        # add amount of outliers to dictionary\n",
    "        if len(idx)==0:\n",
    "            outlier_dict[subject] = 0\n",
    "        else:\n",
    "            outlier_dict[subject] = len(idx)\n",
    "            df = df.drop(idx).reset_index(drop=True)\n",
    "\n",
    "    return df, outlier_dict\n",
    "    "
   ]
  },
  {
   "cell_type": "code",
   "execution_count": 59,
   "id": "a34cd64c",
   "metadata": {},
   "outputs": [],
   "source": [
    "samples_df = determine_correct_responses(\n",
    "                segregate_trial_data(\n",
    "                        keep_neccessary_columns(samples_df)))\n",
    "#for i in range(nLags):\n",
    "#    samples_df = collect_previous_trials(samples_df,i+1)\n",
    "    \n",
    "samples_df.drop(['pair','s1_state'],axis=1,inplace=True)\n",
    "subjects = samples_df['subj_idx'].unique()"
   ]
  },
  {
   "cell_type": "code",
   "execution_count": 60,
   "id": "58477af0",
   "metadata": {},
   "outputs": [
    {
     "data": {
      "text/html": [
       "<div>\n",
       "<style scoped>\n",
       "    .dataframe tbody tr th:only-of-type {\n",
       "        vertical-align: middle;\n",
       "    }\n",
       "\n",
       "    .dataframe tbody tr th {\n",
       "        vertical-align: top;\n",
       "    }\n",
       "\n",
       "    .dataframe thead th {\n",
       "        text-align: right;\n",
       "    }\n",
       "</style>\n",
       "<table border=\"1\" class=\"dataframe\">\n",
       "  <thead>\n",
       "    <tr style=\"text-align: right;\">\n",
       "      <th></th>\n",
       "      <th>block</th>\n",
       "      <th>trial</th>\n",
       "      <th>direction</th>\n",
       "      <th>response</th>\n",
       "      <th>rt</th>\n",
       "      <th>subj_idx</th>\n",
       "      <th>correct</th>\n",
       "    </tr>\n",
       "  </thead>\n",
       "  <tbody>\n",
       "    <tr>\n",
       "      <th>0</th>\n",
       "      <td>0</td>\n",
       "      <td>0</td>\n",
       "      <td>right</td>\n",
       "      <td>right</td>\n",
       "      <td>1.402240</td>\n",
       "      <td>179179_1</td>\n",
       "      <td>1</td>\n",
       "    </tr>\n",
       "    <tr>\n",
       "      <th>1</th>\n",
       "      <td>0</td>\n",
       "      <td>1</td>\n",
       "      <td>right</td>\n",
       "      <td>right</td>\n",
       "      <td>0.879020</td>\n",
       "      <td>179179_1</td>\n",
       "      <td>1</td>\n",
       "    </tr>\n",
       "    <tr>\n",
       "      <th>2</th>\n",
       "      <td>0</td>\n",
       "      <td>2</td>\n",
       "      <td>right</td>\n",
       "      <td>right</td>\n",
       "      <td>0.648397</td>\n",
       "      <td>179179_1</td>\n",
       "      <td>1</td>\n",
       "    </tr>\n",
       "    <tr>\n",
       "      <th>3</th>\n",
       "      <td>0</td>\n",
       "      <td>3</td>\n",
       "      <td>left</td>\n",
       "      <td>right</td>\n",
       "      <td>0.811260</td>\n",
       "      <td>179179_1</td>\n",
       "      <td>0</td>\n",
       "    </tr>\n",
       "    <tr>\n",
       "      <th>4</th>\n",
       "      <td>0</td>\n",
       "      <td>4</td>\n",
       "      <td>right</td>\n",
       "      <td>right</td>\n",
       "      <td>1.370264</td>\n",
       "      <td>179179_1</td>\n",
       "      <td>1</td>\n",
       "    </tr>\n",
       "  </tbody>\n",
       "</table>\n",
       "</div>"
      ],
      "text/plain": [
       "   block  trial direction response        rt  subj_idx  correct\n",
       "0      0      0     right    right  1.402240  179179_1        1\n",
       "1      0      1     right    right  0.879020  179179_1        1\n",
       "2      0      2     right    right  0.648397  179179_1        1\n",
       "3      0      3      left    right  0.811260  179179_1        0\n",
       "4      0      4     right    right  1.370264  179179_1        1"
      ]
     },
     "execution_count": 60,
     "metadata": {},
     "output_type": "execute_result"
    }
   ],
   "source": [
    "samples_df.head()"
   ]
  },
  {
   "cell_type": "code",
   "execution_count": 61,
   "id": "7900f8f9",
   "metadata": {},
   "outputs": [
    {
     "data": {
      "image/png": "[encoded data removed]",
      "text/plain": [
       "<Figure size 144x432 with 1 Axes>"
      ]
     },
     "metadata": {
      "needs_background": "light"
     },
     "output_type": "display_data"
    }
   ],
   "source": [
    "fig, ax = plt.subplots(figsize=(2,6))\n",
    "tmpdf = (samples_df\n",
    "         .groupby(['subj_idx'])['correct']\n",
    "         .value_counts(normalize=True)\n",
    "         .unstack(fill_value=0)\n",
    "         .stack()\n",
    "         .rename(\"proportion\")\n",
    "         .reset_index()\n",
    "        )\n",
    "tmpdf[\"proportion\"] = tmpdf[\"proportion\"] * 100\n",
    "sns.barplot(x=\"subj_idx\", y=\"proportion\", data=tmpdf[tmpdf[\"correct\"]==1],ax=ax)\n",
    "ax.axhline(75,color='red',linestyle='--')\n",
    "ax.set_title(\"Overall performance of each subject\", fontsize=14)\n",
    "ax.set_ylim((50,100))\n",
    "ax.set_yticks(np.arange(50,100,2))\n",
    "ax.set_ylabel(\"% Correct\")\n",
    "plt.show()\n"
   ]
  },
  {
   "cell_type": "code",
   "execution_count": 62,
   "id": "46abf294",
   "metadata": {},
   "outputs": [
    {
     "data": {
      "image/png": "[encoded data removed]",
      "text/plain": [
       "<Figure size 720x360 with 2 Axes>"
      ]
     },
     "metadata": {
      "needs_background": "light"
     },
     "output_type": "display_data"
    }
   ],
   "source": [
    "tmpdf = (samples_df\n",
    "         .groupby(['subj_idx','direction'])['correct']\n",
    "         .value_counts(normalize=True)\n",
    "         .unstack(fill_value=0)\n",
    "         .stack()\n",
    "         .rename(\"proportion\")\n",
    "         .reset_index()\n",
    "        )\n",
    "tmpdf[\"proportion\"] = tmpdf[\"proportion\"] * 100\n",
    "g = sns.catplot(\n",
    "    data=tmpdf[tmpdf[\"correct\"]==1],\n",
    "    x='direction',\n",
    "    y='proportion', \n",
    "    hue='correct', \n",
    "    col='subj_idx', \n",
    "    kind='bar',\n",
    "    legend=False\n",
    ")\n",
    "g.fig.subplots_adjust(top=0.86)\n",
    "g.fig.suptitle('Performance of each subject for left and right moving dots', fontsize=14)\n",
    "g.set(ylabel=\"% Correct\")\n",
    "g.axes[0][0].set_yticks(np.arange(0,100,5))\n",
    "g.axes[0][1].set_yticks(np.arange(0,100,5))\n",
    "g.axes[0][0].axhline(y=75, color='red', linestyle='--')\n",
    "g.axes[0][1].axhline(y=75, color='red', linestyle='--')\n",
    "plt.show()"
   ]
  },
  {
   "cell_type": "code",
   "execution_count": 63,
   "id": "0feb32e6",
   "metadata": {},
   "outputs": [],
   "source": [
    "\"\"\"\n",
    "Calculate the features of nth lag trial.\n",
    "n=1 is the immediately previous trial.\n",
    "\"\"\"\n",
    "def get_lag_trial(df,nprev=1): #no need to return the dataframe since it gets modified in place\n",
    "    tmp_list = []\n",
    "    prefix = 'l' + str(nprev) + '_' #prefix for the column name\n",
    "    #there is a gap in experiment between every block, so all lag features are calculated within a block only\n",
    "    for block in df['block'].unique():\n",
    "        block_select = df['block'] == block\n",
    "        df.loc[block_select,prefix + 'stim'] = df.loc[block_select,'direction'].shift(periods=nprev)\n",
    "        df.loc[block_select,prefix + 'resp'] = df.loc[block_select,'response'].shift(periods=nprev)\n",
    "        df.loc[block_select,prefix + 'subject'] = df.loc[block_select,'subj_idx'].shift(periods=nprev)\n",
    "        #is current response repeat of the nth prev response\n",
    "        df.loc[block_select,prefix + 'repeat'] = (df.loc[block_select,'response'] == df.loc[block_select,'response'].shift(periods=nprev)) * 1 # converts to 1 or 0\n",
    "    \n",
    "    for s in subjects:\n",
    "        tmp_dict = {}\n",
    "        tmp_dict['lag'] = nprev\n",
    "        tmpdf = df[(df['subj_idx']==s) & (~df[prefix + 'stim'].isna())] #remove the trials which are NaN\n",
    "        owntrials = tmpdf[prefix + 'subject'] == s\n",
    "        tmp_dict['subj_idx'] = s\n",
    "        tmp_dict['pr'] = tmpdf[prefix + 'repeat'].mean()\n",
    "        tmp_dict['pr_own'] = tmpdf.loc[owntrials, prefix + 'repeat'].mean()\n",
    "        tmp_dict['pr_other'] = tmpdf.loc[~owntrials, prefix + 'repeat'].mean()\n",
    "        tmp_list.append(tmp_dict)\n",
    "         \n",
    "    return tmp_list"
   ]
  },
  {
   "cell_type": "code",
   "execution_count": 64,
   "id": "02af38b8",
   "metadata": {},
   "outputs": [],
   "source": [
    "individual = []\n",
    "for nprev in range(1,nLags+1):\n",
    "    individual.extend(get_lag_trial(samples_df,nprev))\n",
    "    \n",
    "individual_df = pd.DataFrame(individual)\n"
   ]
  },
  {
   "cell_type": "code",
   "execution_count": 65,
   "id": "052ab1b2",
   "metadata": {},
   "outputs": [],
   "source": [
    "#display(individual_df) "
   ]
  },
  {
   "cell_type": "code",
   "execution_count": 66,
   "id": "b038e53f",
   "metadata": {},
   "outputs": [
    {
     "data": {
      "image/png": "[encoded data removed]",
      "text/plain": [
       "<Figure size 720x720 with 3 Axes>"
      ]
     },
     "metadata": {
      "needs_background": "light"
     },
     "output_type": "display_data"
    }
   ],
   "source": [
    "fig, ax = plt.subplots(3,1,figsize=(10,10))\n",
    "g1 = sns.barplot(\n",
    "    data=individual_df,\n",
    "    x='lag',\n",
    "    y= 'pr',\n",
    "    hue='subj_idx',\n",
    "    ax=ax[0])\n",
    "\n",
    "g2 = sns.barplot(\n",
    "    data=individual_df,\n",
    "    x='lag',\n",
    "    y= 'pr_own',\n",
    "    hue='subj_idx',\n",
    "    ax=ax[1])\n",
    "\n",
    "g3 = sns.barplot(\n",
    "    data=individual_df,\n",
    "    x='lag',\n",
    "    y= 'pr_other',\n",
    "    hue='subj_idx',\n",
    "    ax=ax[2])\n",
    "\n",
    "ax[0].set_title(\"P(repeat): Overall\",fontsize=14)\n",
    "ax[1].set_title(\"P(repeat): The n-Lag trial is own\",fontsize=14)\n",
    "ax[2].set_title(\"P(repeat): The n-Lag trial is partner's\",fontsize=14)\n",
    "\n",
    "for i in range(3):\n",
    "    ax[i].axhline(y=0.5, color='red', linestyle='--')\n",
    "    ax[i].set_xlabel(\"Lag\",fontsize=12)\n",
    "    ax[i].set_ylabel(\"p(repeat)\",fontsize=12)\n",
    "    ax[i].legend(loc='upper right',bbox_to_anchor=(1.2, 1),title=\"Subject Id\" )\n",
    "\n",
    "plt.tight_layout()\n",
    "plt.show()"
   ]
  },
  {
   "cell_type": "code",
   "execution_count": 67,
   "id": "42129ac8",
   "metadata": {},
   "outputs": [
    {
     "name": "stdout",
     "output_type": "stream",
     "text": [
      "No. of outliers: {'179179_1': 1, '179179_2': 7}\n"
     ]
    }
   ],
   "source": [
    "#remove RT outliers\n",
    "\"\"\"\n",
    "Should we remove outliers first and then do the rest of the analysis?\n",
    "Problem: in-between some trials get lost so the previous trials are not really previous trials\n",
    "If we remove outliers later?\n",
    "The removed trials continue to impact since they persist in the previous trial calculations\n",
    "\"\"\"\n",
    "samples_df, outlier = remove_outliers(samples_df)\n",
    "print('No. of outliers: ' + str(outlier))"
   ]
  },
  {
   "cell_type": "code",
   "execution_count": 68,
   "id": "710050dd",
   "metadata": {},
   "outputs": [
    {
     "data": {
      "image/png": "[encoded data removed]",
      "text/plain": [
       "<Figure size 1296x432 with 4 Axes>"
      ]
     },
     "metadata": {
      "needs_background": "light"
     },
     "output_type": "display_data"
    }
   ],
   "source": [
    "#plot RT distributions for left and right for each  subject\n",
    "fig, ax = plt.subplots(2,2,figsize=(18,6))\n",
    "fig.suptitle(\"RT Distributions\",fontsize=16)\n",
    "for i,s in enumerate(subjects):\n",
    "    df = samples_df.loc[samples_df['subj_idx']==s]\n",
    "    me = df['rt'].mean()\n",
    "    med = df['rt'].median()\n",
    "    #df.loc[df['direction']== 'left','rt'] *= -1\n",
    "    #n, bins, patches = ax[0][i].hist(df['rt'], 50, density=True, facecolor='g', alpha=0.75)\n",
    "    sns.histplot(data=df,x='rt', hue='direction',stat='count',ax=ax[0][i],hue_order=['left','right'])\n",
    "    ax[0][i].axvline(me,color='red')\n",
    "    ax[0][i].axvline(med,color='blue')\n",
    "    ax[0][i].set_title(\"Subject id: {}, Mean: {:3.2f}s, Median: {:1.3f}s\".format(s,me,med),fontsize=14)\n",
    "    sns.boxplot(data=df,x='rt',ax=ax[1][i])\n",
    "\n",
    "plt.tight_layout()\n",
    "plt.show()\n"
   ]
  },
  {
   "cell_type": "code",
   "execution_count": 69,
   "id": "980ce45b",
   "metadata": {},
   "outputs": [
    {
     "data": {
      "image/png": "[encoded data removed]",
      "text/plain": [
       "<Figure size 432x288 with 1 Axes>"
      ]
     },
     "metadata": {
      "needs_background": "light"
     },
     "output_type": "display_data"
    }
   ],
   "source": [
    "\"\"\"\n",
    "How many runs of n-consecutive trials did each subject did?\n",
    "\n",
    "Call a set of consecutive trials by the same subject a 'run'.\n",
    "A run can be from 1 trial to any number since it is randomly selected which subject will be \"DO\".\n",
    "Sumamrize how many differnt kinds of run did each subject get\n",
    "\"\"\"\n",
    "#assign a run_id to each trial identifying all trials that belong to the same run\n",
    "samples_df['run_id']=(samples_df['subj_idx'] != samples_df['subj_idx'].shift()).cumsum()\n",
    "#summarize per subject: how many trials are in each run_id\n",
    "conseq = samples_df.groupby(['subj_idx'])['run_id'].value_counts().rename('conseq').reset_index()\n",
    "#summarize per subject: how many runs of differnt sizes \n",
    "trials_df = conseq.groupby(['subj_idx'])['conseq'].value_counts().rename('nTrials').reset_index()\n",
    "#plot \n",
    "fig, ax = plt.subplots()\n",
    "sns.barplot(\n",
    "    data=trials_df,\n",
    "    x='conseq',\n",
    "    y= 'nTrials',\n",
    "    hue='subj_idx',\n",
    "    ax=ax)\n",
    "ax.legend(loc='upper right',title=\"Subject Id\")\n",
    "ax.set_ylabel(\"No. of Runs\",fontsize=12)\n",
    "ax.set_xlabel(\"No. of trials in a run\",fontsize=12)\n",
    "plt.title(\"No. of consecutive trials per subject\",fontsize=14)\n",
    "plt.show()\n"
   ]
  },
  {
   "cell_type": "code",
   "execution_count": 70,
   "id": "97c2b4ff",
   "metadata": {},
   "outputs": [],
   "source": [
    "\"\"\"\n",
    "Recode data \n",
    "Codes:\n",
    "for stimulus and response left,right :: -1,1\n",
    "for correctness, correct,incorrect:: 1,0 already done during calculations\n",
    "\"\"\"\n",
    "samples_df.replace({'left':-1,'right':1},inplace=True)"
   ]
  },
  {
   "cell_type": "code",
   "execution_count": 71,
   "id": "85d8909f",
   "metadata": {},
   "outputs": [],
   "source": [
    "#save the file\n",
    "samples_df.drop(columns=['run_id'],axis=1,inplace=True)\n",
    "samples_df.to_csv(os.path.join(datasrc,'coded','pair' + str(pair_id) + '.csv' ),header=True,index=False)"
   ]
  }
 ],
 "metadata": {
  "kernelspec": {
   "display_name": "Python 3 (ipykernel)",
   "language": "python",
   "name": "python3"
  },
  "language_info": {
   "codemirror_mode": {
    "name": "ipython",
    "version": 3
   },
   "file_extension": ".py",
   "mimetype": "text/x-python",
   "name": "python",
   "nbconvert_exporter": "python",
   "pygments_lexer": "ipython3",
   "version": "3.9.7"
  }
 },
 "nbformat": 4,
 "nbformat_minor": 5
}
