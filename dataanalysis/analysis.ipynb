{
  "nbformat": 4,
  "nbformat_minor": 0,
  "metadata": {
    "colab": {
      "name": "analysis.ipynb",
      "provenance": [],
      "mount_file_id": "1Tk_dDaVEWKDSvbJ4Uh7y_JmcaR8rf2nC",
      "authorship_tag": "ABX9TyNAVYibocBQgIWGCgopcP3F",
      "include_colab_link": true
    },
    "kernelspec": {
      "name": "python3",
      "display_name": "Python 3"
    },
    "language_info": {
      "name": "python"
    }
  },
  "cells": [
    {
      "cell_type": "markdown",
      "metadata": {
        "id": "view-in-github",
        "colab_type": "text"
      },
      "source": [
        "<a href=\"https://colab.research.google.com/github/104H/dyadicdecisionmaking/blob/2ifc-random-dots/dataanalysis/analysis.ipynb\" target=\"_parent\"><img src=\"https://colab.research.google.com/assets/colab-badge.svg\" alt=\"Open In Colab\"/></a>"
      ]
    },
    {
      "cell_type": "markdown",
      "source": [
        "**Run the following in the order stated below before this script**\n",
        "\n",
        "\n",
        "1.   post_experiment for every experiment_pair. Ideally this was done already after every experiment for first level checks.\n",
        "2.   fit_hddm (to have the parameter estimate of each subject for various conditions)\n",
        "\n"
      ],
      "metadata": {
        "id": "ziLoO51k-Qrs"
      }
    },
    {
      "cell_type": "code",
      "source": [
        "!pip install scipy==1.7.1"
      ],
      "metadata": {
        "colab": {
          "base_uri": "https://localhost:8080/",
          "height": 346
        },
        "id": "YHFa2xDVK-I7",
        "outputId": "f2621c94-1d2b-4ea3-f2c5-f82cf507f147"
      },
      "execution_count": 49,
      "outputs": [
        {
          "output_type": "stream",
          "name": "stdout",
          "text": [
            "Collecting scipy==1.7.1\n",
            "  Downloading scipy-1.7.1-cp37-cp37m-manylinux_2_5_x86_64.manylinux1_x86_64.whl (28.5 MB)\n",
            "\u001b[K     |████████████████████████████████| 28.5 MB 1.8 MB/s \n",
            "\u001b[?25hRequirement already satisfied: numpy<1.23.0,>=1.16.5 in /usr/local/lib/python3.7/dist-packages (from scipy==1.7.1) (1.19.5)\n",
            "Installing collected packages: scipy\n",
            "  Attempting uninstall: scipy\n",
            "    Found existing installation: scipy 1.4.1\n",
            "    Uninstalling scipy-1.4.1:\n",
            "      Successfully uninstalled scipy-1.4.1\n",
            "\u001b[31mERROR: pip's dependency resolver does not currently take into account all the packages that are installed. This behaviour is the source of the following dependency conflicts.\n",
            "albumentations 0.1.12 requires imgaug<0.2.7,>=0.2.5, but you have imgaug 0.2.9 which is incompatible.\u001b[0m\n",
            "Successfully installed scipy-1.7.1\n"
          ]
        },
        {
          "output_type": "display_data",
          "data": {
            "application/vnd.colab-display-data+json": {
              "pip_warning": {
                "packages": [
                  "scipy"
                ]
              }
            }
          },
          "metadata": {}
        }
      ]
    },
    {
      "cell_type": "code",
      "source": [
        "import glob\n",
        "import matplotlib.pyplot as plt\n",
        "from math import sqrt\n",
        "import numpy as np\n",
        "import os\n",
        "import pandas as pd\n",
        "import scipy\n",
        "import seaborn as sns\n",
        "from scipy.special import erfcinv\n",
        "sns.set_palette(\"Set2\", desat=0.5)"
      ],
      "metadata": {
        "id": "Dr5lzTID-ixU"
      },
      "execution_count": 1,
      "outputs": []
    },
    {
      "cell_type": "markdown",
      "source": [
        "**Part A: Is there a choice history bias in dyadic trials?**\n",
        "\n",
        "\n",
        "Objectives: Test the hypothesis of choice history bias from dyadic interaction and characterise the nature of the bias.\n",
        "\n",
        "Assumes: Choice history bias after own trials\n",
        "\n",
        "Answers the questions:\n",
        "1.   Is there a history bias if the previous trial is done by the partner?\n",
        "\n",
        "\n",
        "\n",
        "    \n",
        "    \n",
        "\n"
      ],
      "metadata": {
        "id": "eG9XVpTk-zVW"
      }
    },
    {
      "cell_type": "code",
      "source": [
        "#calculates dprime given dataframe of a subject's response\n",
        "#filter for na when calculating p(repeat)\n",
        "\n",
        "def dprime(df):\n",
        "    \"\"\"\n",
        "    left (-1): signal present\n",
        "    right (1) : signal absent\n",
        "    \"\"\"\n",
        "    d = 0\n",
        "    c = 0\n",
        "    \n",
        "    #calculate hit rate,HR and false alarm rate, FA\n",
        "    signal = df[df['direction'] == -1].shape[0]\n",
        "    nosignal = df[df['direction'] == 1].shape[0]\n",
        "\n",
        "    hits = df[(df['direction'] == -1) & (df['response'] == -1)].shape[0]\n",
        "    falsealarms = df[(df['direction'] == 1) & (df['response'] == -1)].shape[0]\n",
        "    #print(signal,hits, nosignal,falsealarms)\n",
        "    try:\n",
        "        hit_rate = hits/signal\n",
        "        fa_rate = falsealarms/nosignal\n",
        "\n",
        "        if not (0 <= hit_rate <= 1 and 0 <= fa_rate <= 1):\n",
        "            print(\"Hit Rate and/or False Alarm Rate out of range\")\n",
        "\n",
        "        if hit_rate > 0:\n",
        "            hit_rate = min(hit_rate, 1 - 0.5/signal)\n",
        "        else:\n",
        "            hit_rate = 0.5/signal\n",
        "\n",
        "        if fa_rate < 1:\n",
        "            fa_rate = max(fa_rate, 0.5/nosignal)\n",
        "        else:\n",
        "            fa_rate = 1 - 0.5/nosignal\n",
        "\n",
        "        zHit = -sqrt(2) * erfcinv(2 * hit_rate)\n",
        "        zFA = -sqrt(2) * erfcinv(2 * fa_rate)\n",
        "\n",
        "        d = zHit - zFA\n",
        "        c = - 0.5 * (zHit + zFA)\n",
        "    except Exception as e:\n",
        "        print(\"Couldnt determine dprime and criterion. {}\".format(e))\n",
        "        \n",
        "     \n",
        "    return d,c"
      ],
      "metadata": {
        "id": "vhrQxvqo_Q18"
      },
      "execution_count": 3,
      "outputs": []
    },
    {
      "cell_type": "code",
      "source": [
        "\"\"\"\n",
        "Prepare for running\n",
        "Combine data of all pairs if not done already\n",
        "NOTE: If the combined file doesnt already exist it indicates that fit_HDDM wasnt done. Do that first. \n",
        "\"\"\"\n",
        "datasrc = \"drive/MyDrive/DDM_SP_2021-22/data/coded\"\n",
        "datafile = \"all_trials_data.csv\"\n",
        "\n",
        "#if the concatenated data from each experimnetal run exists, use that, else create the concatenated data first\n",
        "data_loc = os.path.join(datasrc,datafile)\n",
        "if os.path.exists(data_loc):\n",
        "    trials_df = pd.read_csv(data_loc)\n",
        "    print(\"Concatenated datafile with full experiment data found and loaded\")\n",
        "else:\n",
        "    files = glob.glob(os.path.join(datasrc,'pair*.csv'))\n",
        "    mydata = pd.concat([pd.read_csv(f) for f in files ])\n",
        "    mydata.to_csv(data_loc,index=False,header=True)\n",
        "    print(\"Concatenated datafile with full experiment data at --> {}\".format(data_loc))\n",
        "    trials_df = pd.read_csv(data_loc)\n",
        "    \n",
        "\n",
        "prev_trials_window = 1 #shouldnt be more the parameter value in the post_experiment script"
      ],
      "metadata": {
        "colab": {
          "base_uri": "https://localhost:8080/"
        },
        "id": "42ML414D_dm_",
        "outputId": "4ffc6c33-77c9-4972-dcb2-177ebe60cc5f"
      },
      "execution_count": 4,
      "outputs": [
        {
          "output_type": "stream",
          "name": "stdout",
          "text": [
            "Concatenated datafile with full experiment data found and loaded\n"
          ]
        }
      ]
    },
    {
      "cell_type": "code",
      "source": [
        "subjects = trials_df['subj_idx'].unique()\n",
        "print(subjects)"
      ],
      "metadata": {
        "colab": {
          "base_uri": "https://localhost:8080/"
        },
        "id": "oPoOdfff_xea",
        "outputId": "b2158560-b706-4f6f-8ceb-3b72bcddd4de"
      },
      "execution_count": 5,
      "outputs": [
        {
          "output_type": "stream",
          "name": "stdout",
          "text": [
            "['280933_1' '280933_2' '659640_1' '659640_2' '725232_1' '725232_2'\n",
            " '754128_1' '754128_2' '812810_1' '812810_2' '897304_2' '897304_1'\n",
            " '900778_1' '900778_2' '958733_2' '958733_1']\n"
          ]
        }
      ]
    },
    {
      "cell_type": "code",
      "source": [
        "individual_data = []\n",
        "for sid in subjects:\n",
        "    tmpdict = {}\n",
        "    tmpdict['subj_idx'] = sid\n",
        "    tmpdf = trials_df[trials_df['subj_idx'] == sid]\n",
        "    tmpdict['dprime'], tmpdict['criterion'] = dprime(tmpdf[['direction','response']])\n",
        "    tmpdict['accuracy'] = tmpdf['correct'].mean()\n",
        "    tmpdict['rt'] = tmpdf['rt'].median()\n",
        "    tmpdict['bias'] = tmpdf['response'].mean()\n",
        "    for n in range(1,prev_trials_window + 1):\n",
        "        prefix = 'l' + str(n) + '_' #prefix for the column name\n",
        "        col_stim = prefix + 'stim'\n",
        "        t = tmpdf[~tmpdf[col_stim].isna()] #filter out rows where stim is NaN\n",
        "        tmpdict[prefix + 'pr'] = t[prefix + 'repeat'].mean()\n",
        "        own = t[prefix + 'subject'] == sid\n",
        "        tmpdict[prefix + 'pr_own'] = t.loc[own,prefix + 'repeat'].mean()\n",
        "        tmpdict[prefix + 'pr_dyad'] = t.loc[~own,prefix + 'repeat'].mean()\n",
        "        \n",
        "        fastRTs = t['rt'] < tmpdict['rt']\n",
        "        slowRTs = t['rt'] > tmpdict['rt']\n",
        "        \n",
        "        tmpdict[prefix + 'pr_fastRT']= np.NaN\n",
        "        tmpdict[prefix + 'pr_fastRT_own']= np.NaN\n",
        "        tmpdict[prefix + 'pr_fastRT_dyad']= np.NaN\n",
        "        tmpdict[prefix + 'pr_slowRT']= np.NaN\n",
        "        tmpdict[prefix + 'pr_slowRT_own']= np.NaN\n",
        "        tmpdict[prefix + 'pr_slowRT_dyad']= np.NaN\n",
        "        \n",
        "        if not fastRTs.empty:\n",
        "            tmpdict[prefix + 'pr_fastRT']= t.loc[fastRTs,prefix + 'repeat'].mean()\n",
        "            m1 = (t[prefix + 'subject'] == sid) & (t['rt'] < tmpdict['rt'])\n",
        "            m2 = (t[prefix + 'subject'] != sid) & (t['rt'] < tmpdict['rt'])\n",
        "            if not m1.empty:\n",
        "                tmpdict[prefix + 'pr_fastRT_own']= t.loc[m1,prefix + 'repeat'].mean()\n",
        "            if not m2.empty:\n",
        "                tmpdict[prefix + 'pr_fastRT_dyad']= t.loc[m2,prefix + 'repeat'].mean()\n",
        "        \n",
        "        if not slowRTs.empty:\n",
        "            tmpdict[prefix + 'pr_slowRT']= t.loc[slowRTs,prefix + 'repeat'].mean()\n",
        "            m1 = (t[prefix + 'subject'] == sid) & (t['rt'] > tmpdict['rt'])\n",
        "            m2 = (t[prefix + 'subject'] != sid) & (t['rt'] > tmpdict['rt'])\n",
        "        if not m1.empty:\n",
        "            tmpdict[prefix + 'pr_slowRT_own']= t.loc[m1,prefix + 'repeat'].mean()\n",
        "        if not m2.empty:\n",
        "            tmpdict[prefix + 'pr_slowRT_dyad']= t.loc[m2,prefix + 'repeat'].mean()\n",
        "        \n",
        "        \n",
        "    individual_data.append(tmpdict)\n",
        "\n",
        "individual_df = pd.DataFrame(individual_data)\n",
        "display(individual_df)"
      ],
      "metadata": {
        "colab": {
          "base_uri": "https://localhost:8080/",
          "height": 571
        },
        "id": "2u5Et8ki_3M3",
        "outputId": "1727194d-8735-4a49-9a9a-7dab15e97e2a"
      },
      "execution_count": 6,
      "outputs": [
        {
          "output_type": "display_data",
          "data": {
            "text/html": [
              "<div>\n",
              "<style scoped>\n",
              "    .dataframe tbody tr th:only-of-type {\n",
              "        vertical-align: middle;\n",
              "    }\n",
              "\n",
              "    .dataframe tbody tr th {\n",
              "        vertical-align: top;\n",
              "    }\n",
              "\n",
              "    .dataframe thead th {\n",
              "        text-align: right;\n",
              "    }\n",
              "</style>\n",
              "<table border=\"1\" class=\"dataframe\">\n",
              "  <thead>\n",
              "    <tr style=\"text-align: right;\">\n",
              "      <th></th>\n",
              "      <th>subj_idx</th>\n",
              "      <th>dprime</th>\n",
              "      <th>criterion</th>\n",
              "      <th>accuracy</th>\n",
              "      <th>rt</th>\n",
              "      <th>bias</th>\n",
              "      <th>l1_pr</th>\n",
              "      <th>l1_pr_own</th>\n",
              "      <th>l1_pr_dyad</th>\n",
              "      <th>l1_pr_fastRT</th>\n",
              "      <th>l1_pr_fastRT_own</th>\n",
              "      <th>l1_pr_fastRT_dyad</th>\n",
              "      <th>l1_pr_slowRT</th>\n",
              "      <th>l1_pr_slowRT_own</th>\n",
              "      <th>l1_pr_slowRT_dyad</th>\n",
              "    </tr>\n",
              "  </thead>\n",
              "  <tbody>\n",
              "    <tr>\n",
              "      <th>0</th>\n",
              "      <td>280933_1</td>\n",
              "      <td>1.153914</td>\n",
              "      <td>0.146230</td>\n",
              "      <td>0.713402</td>\n",
              "      <td>1.078531</td>\n",
              "      <td>0.076289</td>\n",
              "      <td>0.459459</td>\n",
              "      <td>0.456067</td>\n",
              "      <td>0.462810</td>\n",
              "      <td>0.413223</td>\n",
              "      <td>0.396947</td>\n",
              "      <td>0.432432</td>\n",
              "      <td>0.504202</td>\n",
              "      <td>0.523364</td>\n",
              "      <td>0.488550</td>\n",
              "    </tr>\n",
              "    <tr>\n",
              "      <th>1</th>\n",
              "      <td>280933_2</td>\n",
              "      <td>2.396819</td>\n",
              "      <td>-0.488261</td>\n",
              "      <td>0.852362</td>\n",
              "      <td>0.913726</td>\n",
              "      <td>-0.153543</td>\n",
              "      <td>0.508911</td>\n",
              "      <td>0.469697</td>\n",
              "      <td>0.551867</td>\n",
              "      <td>0.498024</td>\n",
              "      <td>0.476562</td>\n",
              "      <td>0.520000</td>\n",
              "      <td>0.519841</td>\n",
              "      <td>0.463235</td>\n",
              "      <td>0.586207</td>\n",
              "    </tr>\n",
              "    <tr>\n",
              "      <th>2</th>\n",
              "      <td>659640_1</td>\n",
              "      <td>2.270160</td>\n",
              "      <td>-0.048344</td>\n",
              "      <td>0.871456</td>\n",
              "      <td>0.811110</td>\n",
              "      <td>-0.013233</td>\n",
              "      <td>0.455238</td>\n",
              "      <td>0.446043</td>\n",
              "      <td>0.465587</td>\n",
              "      <td>0.452471</td>\n",
              "      <td>0.500000</td>\n",
              "      <td>0.404580</td>\n",
              "      <td>0.459770</td>\n",
              "      <td>0.400000</td>\n",
              "      <td>0.534483</td>\n",
              "    </tr>\n",
              "    <tr>\n",
              "      <th>3</th>\n",
              "      <td>659640_2</td>\n",
              "      <td>1.174778</td>\n",
              "      <td>-0.041515</td>\n",
              "      <td>0.721627</td>\n",
              "      <td>0.726120</td>\n",
              "      <td>-0.036403</td>\n",
              "      <td>0.555315</td>\n",
              "      <td>0.625571</td>\n",
              "      <td>0.491736</td>\n",
              "      <td>0.549356</td>\n",
              "      <td>0.623853</td>\n",
              "      <td>0.483871</td>\n",
              "      <td>0.559471</td>\n",
              "      <td>0.623853</td>\n",
              "      <td>0.500000</td>\n",
              "    </tr>\n",
              "    <tr>\n",
              "      <th>4</th>\n",
              "      <td>725232_1</td>\n",
              "      <td>4.099362</td>\n",
              "      <td>-0.551058</td>\n",
              "      <td>0.964623</td>\n",
              "      <td>0.644632</td>\n",
              "      <td>-0.075472</td>\n",
              "      <td>0.528436</td>\n",
              "      <td>0.520000</td>\n",
              "      <td>0.538071</td>\n",
              "      <td>0.509434</td>\n",
              "      <td>0.523810</td>\n",
              "      <td>0.488372</td>\n",
              "      <td>0.547619</td>\n",
              "      <td>0.515152</td>\n",
              "      <td>0.576577</td>\n",
              "    </tr>\n",
              "    <tr>\n",
              "      <th>5</th>\n",
              "      <td>725232_2</td>\n",
              "      <td>0.019072</td>\n",
              "      <td>0.077703</td>\n",
              "      <td>0.504043</td>\n",
              "      <td>0.679856</td>\n",
              "      <td>0.061995</td>\n",
              "      <td>0.384824</td>\n",
              "      <td>0.344828</td>\n",
              "      <td>0.420513</td>\n",
              "      <td>0.362162</td>\n",
              "      <td>0.305556</td>\n",
              "      <td>0.398230</td>\n",
              "      <td>0.409836</td>\n",
              "      <td>0.376238</td>\n",
              "      <td>0.451220</td>\n",
              "    </tr>\n",
              "    <tr>\n",
              "      <th>6</th>\n",
              "      <td>754128_1</td>\n",
              "      <td>3.103126</td>\n",
              "      <td>0.202819</td>\n",
              "      <td>0.936000</td>\n",
              "      <td>0.438246</td>\n",
              "      <td>0.056000</td>\n",
              "      <td>0.465726</td>\n",
              "      <td>0.465306</td>\n",
              "      <td>0.466135</td>\n",
              "      <td>0.440000</td>\n",
              "      <td>0.406250</td>\n",
              "      <td>0.475410</td>\n",
              "      <td>0.491870</td>\n",
              "      <td>0.529915</td>\n",
              "      <td>0.457364</td>\n",
              "    </tr>\n",
              "    <tr>\n",
              "      <th>7</th>\n",
              "      <td>754128_2</td>\n",
              "      <td>1.196207</td>\n",
              "      <td>-0.372022</td>\n",
              "      <td>0.711968</td>\n",
              "      <td>0.488841</td>\n",
              "      <td>-0.245436</td>\n",
              "      <td>0.489754</td>\n",
              "      <td>0.563559</td>\n",
              "      <td>0.420635</td>\n",
              "      <td>0.522449</td>\n",
              "      <td>0.666667</td>\n",
              "      <td>0.384000</td>\n",
              "      <td>0.454545</td>\n",
              "      <td>0.456897</td>\n",
              "      <td>0.452381</td>\n",
              "    </tr>\n",
              "    <tr>\n",
              "      <th>8</th>\n",
              "      <td>812810_1</td>\n",
              "      <td>1.888245</td>\n",
              "      <td>0.023299</td>\n",
              "      <td>0.827083</td>\n",
              "      <td>0.674502</td>\n",
              "      <td>-0.020833</td>\n",
              "      <td>0.382664</td>\n",
              "      <td>0.391304</td>\n",
              "      <td>0.374486</td>\n",
              "      <td>0.292887</td>\n",
              "      <td>0.318519</td>\n",
              "      <td>0.259615</td>\n",
              "      <td>0.474359</td>\n",
              "      <td>0.494737</td>\n",
              "      <td>0.460432</td>\n",
              "    </tr>\n",
              "    <tr>\n",
              "      <th>9</th>\n",
              "      <td>812810_2</td>\n",
              "      <td>2.140807</td>\n",
              "      <td>-0.115217</td>\n",
              "      <td>0.854932</td>\n",
              "      <td>0.714718</td>\n",
              "      <td>-0.017408</td>\n",
              "      <td>0.403883</td>\n",
              "      <td>0.365672</td>\n",
              "      <td>0.445344</td>\n",
              "      <td>0.333333</td>\n",
              "      <td>0.355705</td>\n",
              "      <td>0.302752</td>\n",
              "      <td>0.472656</td>\n",
              "      <td>0.378151</td>\n",
              "      <td>0.554745</td>\n",
              "    </tr>\n",
              "    <tr>\n",
              "      <th>10</th>\n",
              "      <td>897304_2</td>\n",
              "      <td>2.116607</td>\n",
              "      <td>0.508385</td>\n",
              "      <td>0.823985</td>\n",
              "      <td>0.738864</td>\n",
              "      <td>0.226306</td>\n",
              "      <td>0.536204</td>\n",
              "      <td>0.597656</td>\n",
              "      <td>0.474510</td>\n",
              "      <td>0.529183</td>\n",
              "      <td>0.616000</td>\n",
              "      <td>0.446970</td>\n",
              "      <td>0.545455</td>\n",
              "      <td>0.584615</td>\n",
              "      <td>0.504065</td>\n",
              "    </tr>\n",
              "    <tr>\n",
              "      <th>11</th>\n",
              "      <td>897304_1</td>\n",
              "      <td>2.495647</td>\n",
              "      <td>0.257537</td>\n",
              "      <td>0.887029</td>\n",
              "      <td>0.480641</td>\n",
              "      <td>0.104603</td>\n",
              "      <td>0.515789</td>\n",
              "      <td>0.556561</td>\n",
              "      <td>0.480315</td>\n",
              "      <td>0.476987</td>\n",
              "      <td>0.614035</td>\n",
              "      <td>0.352000</td>\n",
              "      <td>0.555085</td>\n",
              "      <td>0.495327</td>\n",
              "      <td>0.604651</td>\n",
              "    </tr>\n",
              "    <tr>\n",
              "      <th>12</th>\n",
              "      <td>900778_1</td>\n",
              "      <td>1.048346</td>\n",
              "      <td>-0.365687</td>\n",
              "      <td>0.685009</td>\n",
              "      <td>0.660862</td>\n",
              "      <td>-0.240987</td>\n",
              "      <td>0.591171</td>\n",
              "      <td>0.697080</td>\n",
              "      <td>0.473684</td>\n",
              "      <td>0.580153</td>\n",
              "      <td>0.725352</td>\n",
              "      <td>0.408333</td>\n",
              "      <td>0.600775</td>\n",
              "      <td>0.664122</td>\n",
              "      <td>0.535433</td>\n",
              "    </tr>\n",
              "    <tr>\n",
              "      <th>13</th>\n",
              "      <td>900778_2</td>\n",
              "      <td>1.436628</td>\n",
              "      <td>-0.150521</td>\n",
              "      <td>0.762313</td>\n",
              "      <td>0.748128</td>\n",
              "      <td>-0.104925</td>\n",
              "      <td>0.591793</td>\n",
              "      <td>0.654206</td>\n",
              "      <td>0.538153</td>\n",
              "      <td>0.643777</td>\n",
              "      <td>0.728814</td>\n",
              "      <td>0.556522</td>\n",
              "      <td>0.537118</td>\n",
              "      <td>0.557895</td>\n",
              "      <td>0.522388</td>\n",
              "    </tr>\n",
              "    <tr>\n",
              "      <th>14</th>\n",
              "      <td>958733_2</td>\n",
              "      <td>1.137712</td>\n",
              "      <td>-0.075446</td>\n",
              "      <td>0.714286</td>\n",
              "      <td>0.696532</td>\n",
              "      <td>-0.043810</td>\n",
              "      <td>0.462282</td>\n",
              "      <td>0.452899</td>\n",
              "      <td>0.473029</td>\n",
              "      <td>0.511450</td>\n",
              "      <td>0.519737</td>\n",
              "      <td>0.500000</td>\n",
              "      <td>0.413386</td>\n",
              "      <td>0.370968</td>\n",
              "      <td>0.453846</td>\n",
              "    </tr>\n",
              "    <tr>\n",
              "      <th>15</th>\n",
              "      <td>958733_1</td>\n",
              "      <td>0.261649</td>\n",
              "      <td>0.120292</td>\n",
              "      <td>0.551064</td>\n",
              "      <td>0.783573</td>\n",
              "      <td>0.093617</td>\n",
              "      <td>0.480769</td>\n",
              "      <td>0.504464</td>\n",
              "      <td>0.459016</td>\n",
              "      <td>0.459574</td>\n",
              "      <td>0.495238</td>\n",
              "      <td>0.430769</td>\n",
              "      <td>0.502146</td>\n",
              "      <td>0.512605</td>\n",
              "      <td>0.491228</td>\n",
              "    </tr>\n",
              "  </tbody>\n",
              "</table>\n",
              "</div>"
            ],
            "text/plain": [
              "    subj_idx    dprime  ...  l1_pr_slowRT_own  l1_pr_slowRT_dyad\n",
              "0   280933_1  1.153914  ...          0.523364           0.488550\n",
              "1   280933_2  2.396819  ...          0.463235           0.586207\n",
              "2   659640_1  2.270160  ...          0.400000           0.534483\n",
              "3   659640_2  1.174778  ...          0.623853           0.500000\n",
              "4   725232_1  4.099362  ...          0.515152           0.576577\n",
              "5   725232_2  0.019072  ...          0.376238           0.451220\n",
              "6   754128_1  3.103126  ...          0.529915           0.457364\n",
              "7   754128_2  1.196207  ...          0.456897           0.452381\n",
              "8   812810_1  1.888245  ...          0.494737           0.460432\n",
              "9   812810_2  2.140807  ...          0.378151           0.554745\n",
              "10  897304_2  2.116607  ...          0.584615           0.504065\n",
              "11  897304_1  2.495647  ...          0.495327           0.604651\n",
              "12  900778_1  1.048346  ...          0.664122           0.535433\n",
              "13  900778_2  1.436628  ...          0.557895           0.522388\n",
              "14  958733_2  1.137712  ...          0.370968           0.453846\n",
              "15  958733_1  0.261649  ...          0.512605           0.491228\n",
              "\n",
              "[16 rows x 15 columns]"
            ]
          },
          "metadata": {}
        }
      ]
    },
    {
      "cell_type": "code",
      "source": [
        "\"\"\"\n",
        "Check the accuracy the set of subjects\n",
        "\"\"\"\n",
        "print(\"Mean Accuracy: {:5.2%}\".format(individual_df['accuracy'].mean()))\n",
        "print(\"Std Accuracy : {:5.2%}\\n\".format(individual_df['accuracy'].std()))\n",
        "fig, ax = plt.subplots(figsize=(3,6))\n",
        "sns.boxplot(y=individual_df['accuracy']*100,ax=ax)\n",
        "ax.axhline(75,color='r')\n",
        "ax.set_title(\"Overall accuracy across subjects\",fontsize=14)\n",
        "ax.set_ylabel(\"Accuracy (%)\",fontsize=12)\n",
        "plt.show()\n"
      ],
      "metadata": {
        "colab": {
          "base_uri": "https://localhost:8080/",
          "height": 433
        },
        "id": "T8LZ_Q_gAIcg",
        "outputId": "b8128171-7116-4a04-946a-ffd8a78e4c32"
      },
      "execution_count": 7,
      "outputs": [
        {
          "output_type": "stream",
          "name": "stdout",
          "text": [
            "Mean Accuracy: 77.38%\n",
            "Std Accuracy : 12.84%\n",
            "\n"
          ]
        },
        {
          "output_type": "display_data",
          "data": {
            "image/png": "[encoded data removed]",
            "text/plain": [
              "<Figure size 216x432 with 1 Axes>"
            ]
          },
          "metadata": {
            "needs_background": "light"
          }
        }
      ]
    },
    {
      "cell_type": "code",
      "source": [
        "#Is there a response bias?\n",
        "# To test: Is response bias and acccuracy correlated?\n",
        "fig, ax = plt.subplots(figsize=(3,6))\n",
        "sns.barplot(data=individual_df,x='bias',y='subj_idx',ax=ax)\n",
        "ax.set_xticks([])\n",
        "ax.set_xlabel(\"left     |   right\",fontsize=14)\n",
        "ax.set_title(\"response bias across subjects\",fontsize=16)\n",
        "plt.show()\n"
      ],
      "metadata": {
        "colab": {
          "base_uri": "https://localhost:8080/",
          "height": 394
        },
        "id": "Od4YGAkNTw6q",
        "outputId": "261cefd4-4c01-4558-fc1a-c241d7f92d12"
      },
      "execution_count": 75,
      "outputs": [
        {
          "output_type": "display_data",
          "data": {
            "image/png": "[encoded data removed]",
            "text/plain": [
              "<Figure size 216x432 with 1 Axes>"
            ]
          },
          "metadata": {
            "needs_background": "light"
          }
        }
      ]
    },
    {
      "cell_type": "code",
      "source": [
        ""
      ],
      "metadata": {
        "id": "0sMYZ0y0T6f0"
      },
      "execution_count": null,
      "outputs": []
    },
    {
      "cell_type": "code",
      "source": [
        "\"\"\"\n",
        "Plots barplot and boxplot of features in adjacent columns\n",
        "plot_types: The features on which plots are to be made n=len(plot_types)\n",
        "plot_df: dataframe sorted by a key feature \n",
        "\"\"\"\n",
        "def do_nx2_plots(plot_types,labels,suptitle,plot_df):\n",
        "    fig, ax = plt.subplots(len(plot_types),2,figsize=(10,6))\n",
        "    for idx,p in enumerate(plot_types):\n",
        "        sns.barplot(data=plot_df,x=p,y='subj_idx',ax=ax[idx][0])\n",
        "        ax[idx][0].axvline(plot_df[p].mean(), color='red',linestyle='--')\n",
        "        sns.boxplot(data=plot_df,x=p,ax=ax[idx][1])\n",
        "        for i in range(2):\n",
        "            ax[idx][i].set_xlim(0,1)\n",
        "            ax[idx][i].axvline(0.5,color='black')\n",
        "            ax[idx][i].set_xlabel(labels[p],fontsize=14)\n",
        "\n",
        "    plt.suptitle(suptitle,y=1.01,fontsize=16)\n",
        "    plt.tight_layout()\n",
        "    plt.show()\n",
        "    \n",
        "    return  "
      ],
      "metadata": {
        "id": "P3G_nOhlADmI"
      },
      "execution_count": 8,
      "outputs": []
    },
    {
      "cell_type": "code",
      "source": [
        "#repetition bias for all subjects\n",
        "plots = ['l1_pr','l1_pr_own','l1_pr_dyad']\n",
        "plot_labels = {\n",
        "    'l1_pr': \"p(repeat) overall\",\n",
        "    'l1_pr_own': \"p(repeat) after own trials\",\n",
        "    'l1_pr_dyad': \"p(repeat) after partner trials\"\n",
        "    \n",
        "}\n",
        "\n",
        "tmpdf = individual_df.sort_values(by='l1_pr', ascending=False)\n",
        "\n",
        "do_nx2_plots(plots,plot_labels,\"Repetition Bias\",tmpdf)"
      ],
      "metadata": {
        "colab": {
          "base_uri": "https://localhost:8080/",
          "height": 456
        },
        "id": "0vK8tXzKDk3z",
        "outputId": "e06f7ab7-4075-4bab-bd9b-f8b6bbaf7db8"
      },
      "execution_count": 9,
      "outputs": [
        {
          "output_type": "display_data",
          "data": {
            "image/png": "[encoded data removed]",
            "text/plain": [
              "<Figure size 720x432 with 6 Axes>"
            ]
          },
          "metadata": {
            "needs_background": "light"
          }
        }
      ]
    },
    {
      "cell_type": "markdown",
      "source": [
        "**H0: There is no repetition bias after dyadic trials i.e. the p(repeat) after dyadic is 0.5**"
      ],
      "metadata": {
        "id": "8xYiiywmSkvw"
      }
    },
    {
      "cell_type": "code",
      "source": [
        "pr_diff_frm_5 = individual_df['l1_pr_dyad'] - 0.5\n",
        "pr_diff_frm_5.mean()"
      ],
      "metadata": {
        "colab": {
          "base_uri": "https://localhost:8080/"
        },
        "id": "LSzWqE0wRhqw",
        "outputId": "d88ce15c-2ad0-45ee-ef16-37204e97df4c"
      },
      "execution_count": 56,
      "outputs": [
        {
          "output_type": "execute_result",
          "data": {
            "text/plain": [
              "-0.029006829051898532"
            ]
          },
          "metadata": {},
          "execution_count": 56
        }
      ]
    },
    {
      "cell_type": "code",
      "source": [
        "i=0\n",
        "d = []\n",
        "while i < 5000:\n",
        "    df = pr_diff_frm_5.sample(n=pr_diff_frm_5.shape[0],replace=True)\n",
        "    d.append(df.mean())      \n",
        "    i += 1"
      ],
      "metadata": {
        "id": "HvBOQTHdR91A"
      },
      "execution_count": 57,
      "outputs": []
    },
    {
      "cell_type": "code",
      "source": [
        "fig, ax = plt.subplots(figsize=(10,5))\n",
        "n, bins, patches = plt.hist(d, 50, density=True, facecolor='g', alpha=0.75)\n",
        "plt.axvline(np.mean(d),color='red')\n",
        "plt.axvline(pr_diff_frm_5.mean(),color='blue')\n",
        "plt.axvline(0,color='orange')\n",
        "plt.title(\"Empirical Distribution of repeat bias\",fontsize=14)\n",
        "plt.show()"
      ],
      "metadata": {
        "colab": {
          "base_uri": "https://localhost:8080/",
          "height": 337
        },
        "id": "z1lpvtySSIRv",
        "outputId": "80c0c842-06ba-4b92-8780-3b3ee9d4789f"
      },
      "execution_count": 58,
      "outputs": [
        {
          "output_type": "display_data",
          "data": {
            "image/png": "[encoded data removed]",
            "text/plain": [
              "<Figure size 720x360 with 1 Axes>"
            ]
          },
          "metadata": {
            "needs_background": "light"
          }
        }
      ]
    },
    {
      "cell_type": "code",
      "source": [
        "ci = scipy.stats.bootstrap((pr_diff_frm_5.to_numpy(),), np.mean, confidence_level=0.95)\n",
        "print(ci.confidence_interval)"
      ],
      "metadata": {
        "colab": {
          "base_uri": "https://localhost:8080/"
        },
        "id": "X2idaIQHSanF",
        "outputId": "ae72b7ee-25f0-4d4c-82f0-67108b65ee6d"
      },
      "execution_count": 59,
      "outputs": [
        {
          "output_type": "stream",
          "name": "stdout",
          "text": [
            "ConfidenceInterval(low=-0.05131100245485946, high=-0.00754644691908978)\n"
          ]
        }
      ]
    },
    {
      "cell_type": "markdown",
      "source": [
        "**H0: For any subject there is no difference in the p(repeat) after own trial and after partner trial**"
      ],
      "metadata": {
        "id": "WgkVm28ZEQjw"
      }
    },
    {
      "cell_type": "code",
      "source": [
        "pr_diff = individual_df['l1_pr_own'] - individual_df['l1_pr_dyad']"
      ],
      "metadata": {
        "id": "qlBgwRggEetl"
      },
      "execution_count": 10,
      "outputs": []
    },
    {
      "cell_type": "code",
      "source": [
        "pr_diff.mean()"
      ],
      "metadata": {
        "colab": {
          "base_uri": "https://localhost:8080/"
        },
        "id": "1d-Q6FqDEaOV",
        "outputId": "e6536646-308f-4098-ebcf-28b55213fb9f"
      },
      "execution_count": 11,
      "outputs": [
        {
          "output_type": "execute_result",
          "data": {
            "text/plain": [
              "0.03593888837646833"
            ]
          },
          "metadata": {},
          "execution_count": 11
        }
      ]
    },
    {
      "cell_type": "code",
      "source": [
        "i=0\n",
        "d1 = []\n",
        "while i < 5000:\n",
        "    df = pr_diff.sample(n=pr_diff.shape[0],replace=True)\n",
        "    d1.append(df.mean())      \n",
        "    i += 1"
      ],
      "metadata": {
        "id": "2rhoJt8DHvC9"
      },
      "execution_count": 12,
      "outputs": []
    },
    {
      "cell_type": "code",
      "source": [
        "fig, ax = plt.subplots(figsize=(10,5))\n",
        "n, bins, patches = plt.hist(d1, 50, density=True, facecolor='g', alpha=0.75)\n",
        "plt.axvline(np.mean(d1),color='red')\n",
        "plt.axvline(pr_diff.mean(),color='blue')\n",
        "plt.axvline(0,color='orange')\n",
        "plt.title(\"Empirical Distribution of difference in p(repeat)\",fontsize=14)\n",
        "plt.show()"
      ],
      "metadata": {
        "colab": {
          "base_uri": "https://localhost:8080/",
          "height": 337
        },
        "id": "4jdt2YOeIFtI",
        "outputId": "4a15d161-d7e8-4fcb-f400-5598cad0322e"
      },
      "execution_count": 13,
      "outputs": [
        {
          "output_type": "display_data",
          "data": {
            "image/png": "[encoded data removed]",
            "text/plain": [
              "<Figure size 720x360 with 1 Axes>"
            ]
          },
          "metadata": {
            "needs_background": "light"
          }
        }
      ]
    },
    {
      "cell_type": "code",
      "source": [
        "ci = scipy.stats.bootstrap((pr_diff.to_numpy(),), np.mean, confidence_level=0.95)\n",
        "print(ci.confidence_interval)"
      ],
      "metadata": {
        "colab": {
          "base_uri": "https://localhost:8080/"
        },
        "id": "pwG23PuGJYs7",
        "outputId": "53011ee4-92e1-4b1b-90a7-d10e4e8b7b2b"
      },
      "execution_count": 44,
      "outputs": [
        {
          "output_type": "stream",
          "name": "stdout",
          "text": [
            "ConfidenceInterval(low=-0.003812590650760124, high=0.08256668906076972)\n"
          ]
        }
      ]
    },
    {
      "cell_type": "code",
      "source": [
        "#repetition bias for fast resposnes for all subjects\n",
        "plots = ['l1_pr_fastRT','l1_pr_fastRT_own','l1_pr_fastRT_dyad']\n",
        "plot_labels = {\n",
        "    'l1_pr_fastRT': \"p(repeat) overall\",\n",
        "    'l1_pr_fastRT_own': \"p(repeat) after own trials\",\n",
        "    'l1_pr_fastRT_dyad': \"p(repeat) after partner trials\"\n",
        "    \n",
        "}\n",
        "\n",
        "tmpdf = individual_df.sort_values(by='l1_pr_fastRT', ascending=False)\n",
        "\n",
        "do_nx2_plots(plots,plot_labels,\"Repetition Bias after fast responses\",tmpdf)"
      ],
      "metadata": {
        "colab": {
          "base_uri": "https://localhost:8080/",
          "height": 456
        },
        "id": "PjOx8vWcNUNd",
        "outputId": "2e8cf1be-ed1f-4a00-ec52-be54ea65391c"
      },
      "execution_count": 29,
      "outputs": [
        {
          "output_type": "display_data",
          "data": {
            "image/png": "[encoded data removed]",
            "text/plain": [
              "<Figure size 720x432 with 6 Axes>"
            ]
          },
          "metadata": {
            "needs_background": "light"
          }
        }
      ]
    },
    {
      "cell_type": "code",
      "source": [
        "#repetition bias for slow resposnes for all subjects\n",
        "plots = ['l1_pr_slowRT','l1_pr_slowRT_own','l1_pr_slowRT_dyad']\n",
        "plot_labels = {\n",
        "    'l1_pr_slowRT': \"p(repeat) overall\",\n",
        "    'l1_pr_slowRT_own': \"p(repeat) after own trials\",\n",
        "    'l1_pr_slowRT_dyad': \"p(repeat) after partner trials\"\n",
        "    \n",
        "}\n",
        "\n",
        "tmpdf = individual_df.sort_values(by='l1_pr_slowRT', ascending=False)\n",
        "\n",
        "do_nx2_plots(plots,plot_labels,\"Repetition Bias after slow responses\",tmpdf)"
      ],
      "metadata": {
        "colab": {
          "base_uri": "https://localhost:8080/",
          "height": 456
        },
        "id": "Uw_QtBytNi7A",
        "outputId": "e8d2aae7-fcdc-4546-cd87-4788559a86cc"
      },
      "execution_count": 30,
      "outputs": [
        {
          "output_type": "display_data",
          "data": {
            "image/png": "[encoded data removed]",
            "text/plain": [
              "<Figure size 720x432 with 6 Axes>"
            ]
          },
          "metadata": {
            "needs_background": "light"
          }
        }
      ]
    },
    {
      "cell_type": "markdown",
      "source": [
        "**H0: There is no difference in the p(repeat) after own trial between fast and slow responses**"
      ],
      "metadata": {
        "id": "gBG8d0XwO3D5"
      }
    },
    {
      "cell_type": "code",
      "source": [
        "fastslow_diff = individual_df['l1_pr_slowRT_own'] - individual_df['l1_pr_fastRT_own']\n",
        "print(fastslow_diff.mean())"
      ],
      "metadata": {
        "colab": {
          "base_uri": "https://localhost:8080/"
        },
        "id": "H1f28Q0mNyLH",
        "outputId": "12eed570-bd0d-4ca2-a3c4-bd9a36c543eb"
      },
      "execution_count": 33,
      "outputs": [
        {
          "output_type": "stream",
          "name": "stdout",
          "text": [
            "-0.0203730922252504\n"
          ]
        }
      ]
    },
    {
      "cell_type": "code",
      "source": [
        "ci = scipy.stats.bootstrap((fastslow_diff.to_numpy(),), np.mean, confidence_level=0.95)\n",
        "print(ci.confidence_interval)"
      ],
      "metadata": {
        "colab": {
          "base_uri": "https://localhost:8080/"
        },
        "id": "2JIGhjdFObBY",
        "outputId": "d8a82ddd-ec30-4e27-d8d1-5b6417702e4a"
      },
      "execution_count": 45,
      "outputs": [
        {
          "output_type": "stream",
          "name": "stdout",
          "text": [
            "ConfidenceInterval(low=-0.07220982084276807, high=0.034142210663045014)\n"
          ]
        }
      ]
    },
    {
      "cell_type": "markdown",
      "source": [
        "**H0: There is no difference in the p(repeat) after partner's trial between fast and slow responses**"
      ],
      "metadata": {
        "id": "bZLXQ5iFPPuI"
      }
    },
    {
      "cell_type": "code",
      "source": [
        "dyadicfastslow_diff = individual_df['l1_pr_slowRT_dyad'] - individual_df['l1_pr_fastRT_dyad']\n",
        "print(dyadicfastslow_diff.mean())"
      ],
      "metadata": {
        "colab": {
          "base_uri": "https://localhost:8080/"
        },
        "id": "fAUCiMzfPVlG",
        "outputId": "afd63624-9bee-4033-d55c-f14a8a494149"
      },
      "execution_count": 35,
      "outputs": [
        {
          "output_type": "stream",
          "name": "stdout",
          "text": [
            "0.08310694657239943\n"
          ]
        }
      ]
    },
    {
      "cell_type": "code",
      "source": [
        "ci = scipy.stats.bootstrap((dyadicfastslow_diff.to_numpy(),), np.mean, confidence_level=0.95)\n",
        "print(ci.confidence_interval)"
      ],
      "metadata": {
        "colab": {
          "base_uri": "https://localhost:8080/"
        },
        "id": "5sRLJ5vAPhKd",
        "outputId": "b0e55319-dabe-40c0-d6be-d983e5cb229d"
      },
      "execution_count": 46,
      "outputs": [
        {
          "output_type": "stream",
          "name": "stdout",
          "text": [
            "ConfidenceInterval(low=0.044075003337163646, high=0.1321936342045167)\n"
          ]
        }
      ]
    },
    {
      "cell_type": "markdown",
      "source": [
        "**H0: There is no difference in the p(repeat) after slow responses between dyadic and non-dyadic condition**"
      ],
      "metadata": {
        "id": "nsbkUSNUP1Lv"
      }
    },
    {
      "cell_type": "code",
      "source": [
        "slow_diff = individual_df['l1_pr_slowRT_dyad'] - individual_df['l1_pr_slowRT_own']\n",
        "slow_diff.mean()"
      ],
      "metadata": {
        "colab": {
          "base_uri": "https://localhost:8080/"
        },
        "id": "U4pN9UIvP9Vz",
        "outputId": "39344c1f-bd5f-44b5-d344-8add7da754a5"
      },
      "execution_count": 38,
      "outputs": [
        {
          "output_type": "execute_result",
          "data": {
            "text/plain": [
              "0.014155933381045555"
            ]
          },
          "metadata": {},
          "execution_count": 38
        }
      ]
    },
    {
      "cell_type": "code",
      "source": [
        "ci = scipy.stats.bootstrap((slow_diff.to_numpy(),), np.mean, confidence_level=0.95)\n",
        "print(ci.confidence_interval)"
      ],
      "metadata": {
        "colab": {
          "base_uri": "https://localhost:8080/"
        },
        "id": "K7-5KYcrPu2N",
        "outputId": "21cae888-748e-4710-f9ab-5777050e3224"
      },
      "execution_count": 47,
      "outputs": [
        {
          "output_type": "stream",
          "name": "stdout",
          "text": [
            "ConfidenceInterval(low=-0.032657736674149083, high=0.058840229459745194)\n"
          ]
        }
      ]
    },
    {
      "cell_type": "markdown",
      "source": [
        "**H0: There is no difference in the p(repeat) after fast responses between dyadic and non-dyadic condition**"
      ],
      "metadata": {
        "id": "AWMlgVuUQWf6"
      }
    },
    {
      "cell_type": "code",
      "source": [
        "fast_diff = individual_df['l1_pr_fastRT_dyad'] - individual_df['l1_pr_fastRT_own']\n",
        "fast_diff.mean()"
      ],
      "metadata": {
        "colab": {
          "base_uri": "https://localhost:8080/"
        },
        "id": "FRRscaM5QbIB",
        "outputId": "f412cfbd-482b-4d1a-8de2-da4fb8112253"
      },
      "execution_count": 40,
      "outputs": [
        {
          "output_type": "execute_result",
          "data": {
            "text/plain": [
              "-0.08932410541660428"
            ]
          },
          "metadata": {},
          "execution_count": 40
        }
      ]
    },
    {
      "cell_type": "code",
      "source": [
        "ci = scipy.stats.bootstrap((fast_diff.to_numpy(),), np.mean, confidence_level=0.95)\n",
        "print(ci.confidence_interval)"
      ],
      "metadata": {
        "colab": {
          "base_uri": "https://localhost:8080/"
        },
        "id": "pm7wc8yCQjP5",
        "outputId": "c50180cc-bfd1-40ad-f592-ddd1da56f62e"
      },
      "execution_count": 48,
      "outputs": [
        {
          "output_type": "stream",
          "name": "stdout",
          "text": [
            "ConfidenceInterval(low=-0.152708379256186, high=-0.032686765726912835)\n"
          ]
        }
      ]
    }
  ]
}