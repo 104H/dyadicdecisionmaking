{
  "nbformat": 4,
  "nbformat_minor": 0,
  "metadata": {
    "colab": {
      "name": "compact_fitHDDM.ipynb",
      "provenance": [],
      "collapsed_sections": [
        "qD1NJ9zXUqK5",
        "5saG9opnT6lW",
        "llUbFMYdTyv_",
        "5MeqzEX47Xy1"
      ],
      "mount_file_id": "1vjwa85OmCOpk8TaKssq3Hel0dWPuFXHq",
      "authorship_tag": "ABX9TyPCY6frMwWosdh4ij7aDYl4",
      "include_colab_link": true
    },
    "kernelspec": {
      "name": "python3",
      "display_name": "Python 3"
    },
    "language_info": {
      "name": "python"
    }
  },
  "cells": [
    {
      "cell_type": "markdown",
      "metadata": {
        "id": "view-in-github",
        "colab_type": "text"
      },
      "source": [
        "<a href=\"https://colab.research.google.com/github/nataliasc/dyadicdecisionmaking/blob/2ifc-random-dots/dataanalysis/compact_fitHDDM.ipynb\" target=\"_parent\"><img src=\"https://colab.research.google.com/assets/colab-badge.svg\" alt=\"Open In Colab\"/></a>"
      ]
    },
    {
      "cell_type": "markdown",
      "metadata": {
        "id": "UWRG9dqHwx3j"
      },
      "source": [
        "**Estimate DDM parameters using HDDM **\n",
        "\n",
        "adapted from Anne Urai's fitHDDM.py script https://github.com/anne-urai/2019_Urai_choice-history-ddm/blob/master/fitHDDM.py"
      ]
    },
    {
      "cell_type": "markdown",
      "source": [
        "# Set up section"
      ],
      "metadata": {
        "id": "qD1NJ9zXUqK5"
      }
    },
    {
      "cell_type": "code",
      "metadata": {
        "id": "-cFRF1gjwutr",
        "outputId": "6fa7d889-7529-4786-ebe7-30e52618cd19",
        "colab": {
          "base_uri": "https://localhost:8080/"
        }
      },
      "source": [
        "!apt-get install python3.5"
      ],
      "execution_count": null,
      "outputs": [
        {
          "output_type": "stream",
          "name": "stdout",
          "text": [
            "Reading package lists... Done\n",
            "Building dependency tree       \n",
            "Reading state information... Done\n",
            "The following additional packages will be installed:\n",
            "  libpython3.5-minimal libpython3.5-stdlib python3.5-minimal\n",
            "Suggested packages:\n",
            "  python3.5-venv python3.5-doc binfmt-support\n",
            "The following NEW packages will be installed:\n",
            "  libpython3.5-minimal libpython3.5-stdlib python3.5 python3.5-minimal\n",
            "0 upgraded, 4 newly installed, 0 to remove and 37 not upgraded.\n",
            "Need to get 4,135 kB of archives.\n",
            "After this operation, 22.7 MB of additional disk space will be used.\n",
            "Get:1 http://ppa.launchpad.net/deadsnakes/ppa/ubuntu bionic/main amd64 libpython3.5-minimal amd64 3.5.10-1+bionic2 [542 kB]\n",
            "Get:2 http://ppa.launchpad.net/deadsnakes/ppa/ubuntu bionic/main amd64 python3.5-minimal amd64 3.5.10-1+bionic2 [1,273 kB]\n",
            "Get:3 http://ppa.launchpad.net/deadsnakes/ppa/ubuntu bionic/main amd64 libpython3.5-stdlib amd64 3.5.10-1+bionic2 [2,107 kB]\n",
            "Get:4 http://ppa.launchpad.net/deadsnakes/ppa/ubuntu bionic/main amd64 python3.5 amd64 3.5.10-1+bionic2 [213 kB]\n",
            "Fetched 4,135 kB in 4s (968 kB/s)\n",
            "Selecting previously unselected package libpython3.5-minimal:amd64.\n",
            "(Reading database ... 155222 files and directories currently installed.)\n",
            "Preparing to unpack .../libpython3.5-minimal_3.5.10-1+bionic2_amd64.deb ...\n",
            "Unpacking libpython3.5-minimal:amd64 (3.5.10-1+bionic2) ...\n",
            "Selecting previously unselected package python3.5-minimal.\n",
            "Preparing to unpack .../python3.5-minimal_3.5.10-1+bionic2_amd64.deb ...\n",
            "Unpacking python3.5-minimal (3.5.10-1+bionic2) ...\n",
            "Selecting previously unselected package libpython3.5-stdlib:amd64.\n",
            "Preparing to unpack .../libpython3.5-stdlib_3.5.10-1+bionic2_amd64.deb ...\n",
            "Unpacking libpython3.5-stdlib:amd64 (3.5.10-1+bionic2) ...\n",
            "Selecting previously unselected package python3.5.\n",
            "Preparing to unpack .../python3.5_3.5.10-1+bionic2_amd64.deb ...\n",
            "Unpacking python3.5 (3.5.10-1+bionic2) ...\n",
            "Setting up libpython3.5-minimal:amd64 (3.5.10-1+bionic2) ...\n",
            "Setting up libpython3.5-stdlib:amd64 (3.5.10-1+bionic2) ...\n",
            "Setting up python3.5-minimal (3.5.10-1+bionic2) ...\n",
            "Setting up python3.5 (3.5.10-1+bionic2) ...\n",
            "Processing triggers for man-db (2.8.3-2ubuntu0.1) ...\n",
            "Processing triggers for mime-support (3.60ubuntu1) ...\n"
          ]
        }
      ]
    },
    {
      "cell_type": "code",
      "metadata": {
        "colab": {
          "base_uri": "https://localhost:8080/"
        },
        "id": "hr2znaiRnwEJ",
        "outputId": "0c27b36b-7a7c-4750-d63b-97f74635d855"
      },
      "source": [
        "!pip install pymc"
      ],
      "execution_count": null,
      "outputs": [
        {
          "output_type": "stream",
          "name": "stdout",
          "text": [
            "Collecting pymc\n",
            "  Downloading pymc-2.3.8.tar.gz (385 kB)\n",
            "\u001b[?25l\r\u001b[K     |▉                               | 10 kB 21.1 MB/s eta 0:00:01\r\u001b[K     |█▊                              | 20 kB 26.6 MB/s eta 0:00:01\r\u001b[K     |██▌                             | 30 kB 29.6 MB/s eta 0:00:01\r\u001b[K     |███▍                            | 40 kB 22.6 MB/s eta 0:00:01\r\u001b[K     |████▎                           | 51 kB 8.1 MB/s eta 0:00:01\r\u001b[K     |█████                           | 61 kB 9.3 MB/s eta 0:00:01\r\u001b[K     |██████                          | 71 kB 8.1 MB/s eta 0:00:01\r\u001b[K     |██████▉                         | 81 kB 8.9 MB/s eta 0:00:01\r\u001b[K     |███████▋                        | 92 kB 9.8 MB/s eta 0:00:01\r\u001b[K     |████████▌                       | 102 kB 7.5 MB/s eta 0:00:01\r\u001b[K     |█████████▍                      | 112 kB 7.5 MB/s eta 0:00:01\r\u001b[K     |██████████▏                     | 122 kB 7.5 MB/s eta 0:00:01\r\u001b[K     |███████████                     | 133 kB 7.5 MB/s eta 0:00:01\r\u001b[K     |████████████                    | 143 kB 7.5 MB/s eta 0:00:01\r\u001b[K     |████████████▊                   | 153 kB 7.5 MB/s eta 0:00:01\r\u001b[K     |█████████████▋                  | 163 kB 7.5 MB/s eta 0:00:01\r\u001b[K     |██████████████▌                 | 174 kB 7.5 MB/s eta 0:00:01\r\u001b[K     |███████████████▎                | 184 kB 7.5 MB/s eta 0:00:01\r\u001b[K     |████████████████▏               | 194 kB 7.5 MB/s eta 0:00:01\r\u001b[K     |█████████████████               | 204 kB 7.5 MB/s eta 0:00:01\r\u001b[K     |█████████████████▉              | 215 kB 7.5 MB/s eta 0:00:01\r\u001b[K     |██████████████████▊             | 225 kB 7.5 MB/s eta 0:00:01\r\u001b[K     |███████████████████▋            | 235 kB 7.5 MB/s eta 0:00:01\r\u001b[K     |████████████████████▍           | 245 kB 7.5 MB/s eta 0:00:01\r\u001b[K     |█████████████████████▎          | 256 kB 7.5 MB/s eta 0:00:01\r\u001b[K     |██████████████████████          | 266 kB 7.5 MB/s eta 0:00:01\r\u001b[K     |███████████████████████         | 276 kB 7.5 MB/s eta 0:00:01\r\u001b[K     |███████████████████████▉        | 286 kB 7.5 MB/s eta 0:00:01\r\u001b[K     |████████████████████████▋       | 296 kB 7.5 MB/s eta 0:00:01\r\u001b[K     |█████████████████████████▌      | 307 kB 7.5 MB/s eta 0:00:01\r\u001b[K     |██████████████████████████▍     | 317 kB 7.5 MB/s eta 0:00:01\r\u001b[K     |███████████████████████████▏    | 327 kB 7.5 MB/s eta 0:00:01\r\u001b[K     |████████████████████████████    | 337 kB 7.5 MB/s eta 0:00:01\r\u001b[K     |█████████████████████████████   | 348 kB 7.5 MB/s eta 0:00:01\r\u001b[K     |█████████████████████████████▊  | 358 kB 7.5 MB/s eta 0:00:01\r\u001b[K     |██████████████████████████████▋ | 368 kB 7.5 MB/s eta 0:00:01\r\u001b[K     |███████████████████████████████▌| 378 kB 7.5 MB/s eta 0:00:01\r\u001b[K     |████████████████████████████████| 385 kB 7.5 MB/s \n",
            "\u001b[?25hBuilding wheels for collected packages: pymc\n",
            "  Building wheel for pymc (setup.py) ... \u001b[?25l\u001b[?25hdone\n",
            "  Created wheel for pymc: filename=pymc-2.3.8-cp37-cp37m-linux_x86_64.whl size=1353142 sha256=3042175135779452dd3086b2715ebb9688851f196f9f6b8748bd9aa6b4ef6846\n",
            "  Stored in directory: /root/.cache/pip/wheels/3b/9b/1d/2a2ddbe80519db2698745f0988ce50c36ad38aac886a4ee0ca\n",
            "Successfully built pymc\n",
            "Installing collected packages: pymc\n",
            "Successfully installed pymc-2.3.8\n"
          ]
        }
      ]
    },
    {
      "cell_type": "code",
      "metadata": {
        "colab": {
          "base_uri": "https://localhost:8080/"
        },
        "id": "JSMGCgzEo_xO",
        "outputId": "5ad0cb5b-053a-4261-ba9c-39fbd6a509bf"
      },
      "source": [
        "!pip install pandas patsy"
      ],
      "execution_count": null,
      "outputs": [
        {
          "output_type": "stream",
          "name": "stdout",
          "text": [
            "Requirement already satisfied: pandas in /usr/local/lib/python3.7/dist-packages (1.1.5)\n",
            "Requirement already satisfied: patsy in /usr/local/lib/python3.7/dist-packages (0.5.2)\n",
            "Requirement already satisfied: pytz>=2017.2 in /usr/local/lib/python3.7/dist-packages (from pandas) (2018.9)\n",
            "Requirement already satisfied: numpy>=1.15.4 in /usr/local/lib/python3.7/dist-packages (from pandas) (1.19.5)\n",
            "Requirement already satisfied: python-dateutil>=2.7.3 in /usr/local/lib/python3.7/dist-packages (from pandas) (2.8.2)\n",
            "Requirement already satisfied: six>=1.5 in /usr/local/lib/python3.7/dist-packages (from python-dateutil>=2.7.3->pandas) (1.15.0)\n"
          ]
        }
      ]
    },
    {
      "cell_type": "code",
      "metadata": {
        "colab": {
          "base_uri": "https://localhost:8080/"
        },
        "id": "iA7fZWkSpIIN",
        "outputId": "fae83992-a5be-4613-ae88-b45365ea0a38"
      },
      "source": [
        "!pip install kabuki"
      ],
      "execution_count": null,
      "outputs": [
        {
          "output_type": "stream",
          "name": "stdout",
          "text": [
            "Collecting kabuki\n",
            "  Downloading kabuki-0.6.3.tar.gz (44 kB)\n",
            "\u001b[?25l\r\u001b[K     |███████▎                        | 10 kB 18.4 MB/s eta 0:00:01\r\u001b[K     |██████████████▋                 | 20 kB 19.7 MB/s eta 0:00:01\r\u001b[K     |█████████████████████▉          | 30 kB 18.4 MB/s eta 0:00:01\r\u001b[K     |█████████████████████████████▏  | 40 kB 12.1 MB/s eta 0:00:01\r\u001b[K     |████████████████████████████████| 44 kB 2.1 MB/s \n",
            "\u001b[?25hRequirement already satisfied: NumPy>=1.6.0 in /usr/local/lib/python3.7/dist-packages (from kabuki) (1.19.5)\n",
            "Requirement already satisfied: pymc>=2.3.6 in /usr/local/lib/python3.7/dist-packages (from kabuki) (2.3.8)\n",
            "Requirement already satisfied: pandas>=0.12.0 in /usr/local/lib/python3.7/dist-packages (from kabuki) (1.1.5)\n",
            "Requirement already satisfied: matplotlib>=1.0.0 in /usr/local/lib/python3.7/dist-packages (from kabuki) (3.2.2)\n",
            "Requirement already satisfied: python-dateutil>=2.1 in /usr/local/lib/python3.7/dist-packages (from matplotlib>=1.0.0->kabuki) (2.8.2)\n",
            "Requirement already satisfied: cycler>=0.10 in /usr/local/lib/python3.7/dist-packages (from matplotlib>=1.0.0->kabuki) (0.11.0)\n",
            "Requirement already satisfied: kiwisolver>=1.0.1 in /usr/local/lib/python3.7/dist-packages (from matplotlib>=1.0.0->kabuki) (1.3.2)\n",
            "Requirement already satisfied: pyparsing!=2.0.4,!=2.1.2,!=2.1.6,>=2.0.1 in /usr/local/lib/python3.7/dist-packages (from matplotlib>=1.0.0->kabuki) (3.0.6)\n",
            "Requirement already satisfied: pytz>=2017.2 in /usr/local/lib/python3.7/dist-packages (from pandas>=0.12.0->kabuki) (2018.9)\n",
            "Requirement already satisfied: six>=1.5 in /usr/local/lib/python3.7/dist-packages (from python-dateutil>=2.1->matplotlib>=1.0.0->kabuki) (1.15.0)\n",
            "Building wheels for collected packages: kabuki\n",
            "  Building wheel for kabuki (setup.py) ... \u001b[?25l\u001b[?25hdone\n",
            "  Created wheel for kabuki: filename=kabuki-0.6.3-py3-none-any.whl size=36545 sha256=38a708346c6f106d0bbd3a4951fbe367ead0f9adc0f7d008d0b4ad8654c34a48\n",
            "  Stored in directory: /root/.cache/pip/wheels/29/cb/6a/02f80c7cde0e973c5ec0f4202aee3ab1b10d84682052d99af5\n",
            "Successfully built kabuki\n",
            "Installing collected packages: kabuki\n",
            "Successfully installed kabuki-0.6.3\n"
          ]
        }
      ]
    },
    {
      "cell_type": "code",
      "metadata": {
        "colab": {
          "base_uri": "https://localhost:8080/"
        },
        "id": "d349zVjfpi-r",
        "outputId": "bdd21484-1e1e-4ce0-b3bd-dc68acac0b31"
      },
      "source": [
        "!pip install hddm"
      ],
      "execution_count": null,
      "outputs": [
        {
          "output_type": "stream",
          "name": "stdout",
          "text": [
            "Collecting hddm\n",
            "  Downloading HDDM-0.8.0.tar.gz (601 kB)\n",
            "\u001b[K     |████████████████████████████████| 601 kB 9.2 MB/s \n",
            "\u001b[?25hRequirement already satisfied: NumPy>=1.6.0 in /usr/local/lib/python3.7/dist-packages (from hddm) (1.19.5)\n",
            "Requirement already satisfied: SciPy>=0.6.0 in /usr/local/lib/python3.7/dist-packages (from hddm) (1.4.1)\n",
            "Requirement already satisfied: kabuki>=0.6.0 in /usr/local/lib/python3.7/dist-packages (from hddm) (0.6.3)\n",
            "Requirement already satisfied: PyMC>=2.3.3 in /usr/local/lib/python3.7/dist-packages (from hddm) (2.3.8)\n",
            "Requirement already satisfied: pandas>=0.12.0 in /usr/local/lib/python3.7/dist-packages (from hddm) (1.1.5)\n",
            "Requirement already satisfied: patsy in /usr/local/lib/python3.7/dist-packages (from hddm) (0.5.2)\n",
            "Requirement already satisfied: matplotlib>=1.0.0 in /usr/local/lib/python3.7/dist-packages (from kabuki>=0.6.0->hddm) (3.2.2)\n",
            "Requirement already satisfied: kiwisolver>=1.0.1 in /usr/local/lib/python3.7/dist-packages (from matplotlib>=1.0.0->kabuki>=0.6.0->hddm) (1.3.2)\n",
            "Requirement already satisfied: python-dateutil>=2.1 in /usr/local/lib/python3.7/dist-packages (from matplotlib>=1.0.0->kabuki>=0.6.0->hddm) (2.8.2)\n",
            "Requirement already satisfied: pyparsing!=2.0.4,!=2.1.2,!=2.1.6,>=2.0.1 in /usr/local/lib/python3.7/dist-packages (from matplotlib>=1.0.0->kabuki>=0.6.0->hddm) (3.0.6)\n",
            "Requirement already satisfied: cycler>=0.10 in /usr/local/lib/python3.7/dist-packages (from matplotlib>=1.0.0->kabuki>=0.6.0->hddm) (0.11.0)\n",
            "Requirement already satisfied: pytz>=2017.2 in /usr/local/lib/python3.7/dist-packages (from pandas>=0.12.0->hddm) (2018.9)\n",
            "Requirement already satisfied: six>=1.5 in /usr/local/lib/python3.7/dist-packages (from python-dateutil>=2.1->matplotlib>=1.0.0->kabuki>=0.6.0->hddm) (1.15.0)\n",
            "Building wheels for collected packages: hddm\n",
            "  Building wheel for hddm (setup.py) ... \u001b[?25l\u001b[?25hdone\n",
            "  Created wheel for hddm: filename=HDDM-0.8.0-cp37-cp37m-linux_x86_64.whl size=556555 sha256=3235354b27d9f0374cf1f5477f1ed8eb836bffc78e88353e30311e1c8ecdecf5\n",
            "  Stored in directory: /root/.cache/pip/wheels/13/13/8b/4fb929469ddb2844cc33d7e3331aaae7668152b496f4fab402\n",
            "Successfully built hddm\n",
            "Installing collected packages: hddm\n",
            "Successfully installed hddm-0.8.0\n"
          ]
        }
      ]
    },
    {
      "cell_type": "code",
      "metadata": {
        "id": "7ZSNRMVxpxWg",
        "outputId": "5e1155c6-15d8-4582-9e67-0e559cf886a6",
        "colab": {
          "base_uri": "https://localhost:8080/"
        }
      },
      "source": [
        "import glob\n",
        "import hddm\n",
        "import kabuki\n",
        "import numpy as np\n",
        "import os\n",
        "import pandas as pd\n",
        "import time"
      ],
      "execution_count": null,
      "outputs": [
        {
          "output_type": "stream",
          "name": "stderr",
          "text": [
            "/usr/local/lib/python3.7/dist-packages/statsmodels/tools/_testing.py:19: FutureWarning: pandas.util.testing is deprecated. Use the functions in the public API at pandas.testing instead.\n",
            "  import pandas.util.testing as tm\n",
            "/usr/local/lib/python3.7/dist-packages/IPython/parallel.py:13: ShimWarning: The `IPython.parallel` package has been deprecated since IPython 4.0. You should import from ipyparallel instead.\n",
            "  \"You should import from ipyparallel instead.\", ShimWarning)\n"
          ]
        }
      ]
    },
    {
      "cell_type": "code",
      "metadata": {
        "colab": {
          "base_uri": "https://localhost:8080/"
        },
        "id": "VQfqPjc5y9r0",
        "outputId": "78f8b9cb-6990-439f-b3d4-a600bda7323c"
      },
      "source": [
        "print(hddm.__version__)"
      ],
      "execution_count": null,
      "outputs": [
        {
          "output_type": "stream",
          "name": "stdout",
          "text": [
            "0.8.0\n"
          ]
        }
      ]
    },
    {
      "cell_type": "markdown",
      "source": [
        "# Helper functions"
      ],
      "metadata": {
        "id": "5saG9opnT6lW"
      }
    },
    {
      "cell_type": "code",
      "metadata": {
        "id": "I54wfl6oq7sD"
      },
      "source": [
        "def recode_4stimcoding(mydata):\n",
        "    #code stimulus and response direction left as 0, leave direction right as 1.\n",
        "    \n",
        "    mydata.loc[mydata['direction']==-1,'direction'] = 0\n",
        "    mydata.loc[mydata['response']==-1,'response'] = 0\n",
        "    for col in mydata.columns.tolist():\n",
        "        if ('stim' in col) or ('resp' in col):\n",
        "            mydata.loc[mydata[col]==-1,col] = 0\n",
        "    \n",
        "    return mydata\n",
        "\n",
        "def z_link_func(x):\n",
        "    return 1 / (1 + np.exp(-(x.values.ravel())))\n",
        "\n",
        "def aic(self):\n",
        "    k = len(self.get_stochastics())\n",
        "    logp = sum([x.logp for x in self.get_observeds()['node']])\n",
        "    return 2 * k - 2 * logp\n",
        "\n",
        "\n",
        "def bic(self):\n",
        "    k = len(self.get_stochastics())\n",
        "    n = len(self.data)\n",
        "    logp = sum([x.logp for x in self.get_observeds()['node']])\n",
        "    return -2 * logp + k * np.log(n)\n",
        "\n",
        "def concat_models(mypath, model_name, nchains=30):\n",
        "    traces = range(1,nchains+1)\n",
        "\n",
        "    # CHECK IF COMBINED MODEL EXISTS\n",
        "    if os.path.isfile(os.path.join(mypath, model_name, 'modelfit-combined.model')):\n",
        "        print(\"Combined Model exists: {}\".format(os.path.join(mypath, model_name, 'modelfit-combined.model')))\n",
        "    else:\n",
        "        # ============================================ #\n",
        "        # APPEND MODELS\n",
        "        # ============================================ #\n",
        "        allmodels = []\n",
        "        print(\"Combining all traces for %s\" % model_name)\n",
        "        for trace_id in traces:  # how many chains were run?\n",
        "            model_filename = os.path.join(mypath, model_name, 'modelfit-md%d.model' % trace_id)\n",
        "            if os.path.isfile(model_filename) == True:  # if not, this model has to be rerun\n",
        "                print(model_filename)\n",
        "                thism = hddm.load(model_filename)\n",
        "                allmodels.append(thism)  # now append into a list\n",
        "            else:\n",
        "                print(\"Not found: trace_id {:2d}\".format(trace_id))\n",
        "                \n",
        "        if len(allmodels) != nchains:\n",
        "            return None\n",
        "        # ============================================ #\n",
        "        # CHECK CONVERGENCE if all traces were found\n",
        "        # ============================================ #    \n",
        "        print(\"Performing gelman rubin convergence test\\n\")\n",
        "        try:\n",
        "            gr = hddm.analyze.gelman_rubin(allmodels)\n",
        "            # save\n",
        "            text_file = open(os.path.join(mypath, model_name, 'gelman_rubin.txt'), 'w')\n",
        "            for p in gr.items():\n",
        "                text_file.write(\"%s,%s\\n\" % p)\n",
        "                # print a warning when non-convergence is detected\n",
        "                # Values should be close to 1 and not larger than 1.02 which would indicate convergence problems.\n",
        "                # https://www.ncbi.nlm.nih.gov/pmc/articles/PMC3731670/\n",
        "                if abs(p[1] - 1) > 0.02:\n",
        "                    print(\"non-convergence found, %s:%s\" % p)\n",
        "            text_file.close()\n",
        "            print(\"written gelman rubin stats to file\")\n",
        "        except Exception as e:\n",
        "            print(\"Error: {}\".format(e))\n",
        "        m = kabuki.utils.concat_models(allmodels) #creates one model from all chains\n",
        "\n",
        "        # ============================================ #\n",
        "        # SAVE THE FULL MODEL\n",
        "        # ============================================ #\n",
        "\n",
        "        m.save(os.path.join(mypath, model_name, 'modelfit-combined.model'))  # save combined modelto disk\n",
        "        print(\"Concatenated model saved!\")\n",
        "        \n",
        "        # ============================================ #\n",
        "        # SAVE POINT ESTIMATES\n",
        "        # ============================================ #\n",
        "\n",
        "        print(\"saving stats...\")\n",
        "        results = m.gen_stats()  # point estimate for each parameter and subject\n",
        "        results.to_csv(os.path.join(mypath, model_name, 'results-combined.csv'))\n",
        "\n",
        "        # save the DIC for this model\n",
        "        text_file = open(os.path.join(mypath, model_name, 'DIC-combined.txt'), 'w')\n",
        "        text_file.write(\"Combined model: {}\\n\".format(m.dic))\n",
        "        text_file.close()\n",
        "        print('done')\n",
        "        \n",
        "        # ============================================ #\n",
        "        # SAVE TRACES\n",
        "        # ============================================ #\n",
        "\n",
        "        print(\"saving traces...\")\n",
        "        # get the names for all nodes that are available here\n",
        "        group_traces = m.get_group_traces()\n",
        "        group_traces.to_csv(os.path.join(mypath, model_name, 'group_traces.csv'))\n",
        "\n",
        "        all_traces = m.get_traces()\n",
        "        all_traces.to_csv(os.path.join(mypath, model_name, 'all_traces.csv'))\n",
        "        print('done')\n",
        "        \n",
        "        # ============================================ #\n",
        "        # CONCATENATE MODEL COMPARISON\n",
        "        # ============================================ #\n",
        "        # average model comparison values across chains\n",
        "        print('concatenating model comparison...')\n",
        "        fls = glob.glob(os.path.join(mypath, model_name, 'model_comparison_md*.csv'))\n",
        "        tmpdf = pd.concat([pd.read_csv(f) for f in fls ])\n",
        "        # average over chains\n",
        "        df2 = tmpdf.mean()\n",
        "        df2 = tmpdf.describe().loc[['mean']]\n",
        "        df2.to_csv(os.path.join(mypath, model_name, 'model_comparison.csv')) # save comparison to disk\n",
        "        print('done')\n",
        "\n",
        "\n",
        "        # DELETE FILES to save space\n",
        "        print(\"Now deleting files for seperate chains...\")\n",
        "        for fl in glob.glob(os.path.join(mypath, model_name, 'modelfit-md*.model')):\n",
        "            print(fl)\n",
        "            os.remove(fl)\n",
        "        for fl in glob.glob(os.path.join(mypath, model_name, 'modelfit-md*.db')):\n",
        "            if not '-md1.db' in fl: #needed here to load the pickled db in PPC\n",
        "                print(fl)\n",
        "                os.remove(fl)\n",
        "        for fl in glob.glob(os.path.join(mypath, model_name, 'model_comparison_md*.csv')):\n",
        "            print(fl)\n",
        "            os.remove(fl)\n",
        "        for fl in glob.glob(os.path.join(mypath, model_name, 'DIC-md*.txt')):\n",
        "            print(fl)\n",
        "            os.remove(fl)\n",
        "        print('DONE!!!')\n"
      ],
      "execution_count": 97,
      "outputs": []
    },
    {
      "cell_type": "code",
      "metadata": {
        "id": "gg3KavV4rS5F"
      },
      "source": [
        "def make_model(mydata, model_name, trace_id, nlag=0):\n",
        "    \n",
        "    #checks before model is created\n",
        "    if \"nohist\" not in model_name and nlag == 0:\n",
        "        print(\"For all models with history effects, 'nlag' must be non-zero\")\n",
        "        exit(0)\n",
        "    elif \"nohist\" in model_name and nlag != 0:\n",
        "        print(\"'nlag' specified but model is without history effect. 'nlag' value is ignored\\n\")\n",
        "        nlag = 0\n",
        "         \n",
        "    if 'regress' in model_name:\n",
        "        if nlag != 0:\n",
        "            lags = range(1,nlag+1)\n",
        "            resp_cols = ['l' + str(i) + '_resp' for i in lags]\n",
        "            stim_cols = ['l' + str(i) + '_stim' for i in lags]\n",
        "            resps = \" + \".join(resp_cols)\n",
        "            respstim = \" + \".join(resp_cols + stim_cols)\n",
        "            for col in stim_cols:\n",
        "                mydata = mydata[mydata[col].notna()]\n",
        "    else:\n",
        "        mydata = recode_4stimcoding(mydata)\n",
        "        if nlag != 0:\n",
        "            col_resp = 'l' + str(nlag) + '_resp'\n",
        "            col_stim = 'l' + str(nlag) + '_stim'\n",
        "            col_subject = 'l' + str(nlag) + '_subject'\n",
        "            col_repeat = 'l' + str(nlag) + '_repeat'\n",
        "             \n",
        "    if model_name == 'stimcoding_nohist': # NO HISTORY FOR MODEL COMPARISON\n",
        "        m = hddm.HDDMStimCoding(mydata, stim_col='direction', split_param='v',\n",
        "                drift_criterion=True, bias=True, p_outlier=0.05,\n",
        "                include=('sv', 'sz'), group_only_nodes=['sv', 'sz'])\n",
        "    elif model_name == 'stimcoding_dc_resp':\n",
        "        m = hddm.HDDMStimCoding(mydata, stim_col='direction', split_param='v',\n",
        "                drift_criterion=True, bias=True, p_outlier=0.05,\n",
        "                include=('sv', 'sz'), group_only_nodes=['sv', 'sz'],\n",
        "                depends_on={'dc':[col_resp]})\n",
        "    elif model_name == 'stimcoding_z_resp':\n",
        "        m = hddm.HDDMStimCoding(mydata, stim_col='direction', split_param='v',\n",
        "                drift_criterion=True, bias=True, p_outlier=0.05,\n",
        "                include=('sv', 'sz'), group_only_nodes=['sv', 'sz'],\n",
        "                depends_on={'z':[col_resp]})\n",
        "    elif model_name == 'stimcoding_dc_z_resp':\n",
        "        m = hddm.HDDMStimCoding(mydata, stim_col='direction', split_param='v',\n",
        "                drift_criterion=True, bias=True, p_outlier=0.05,\n",
        "                include=('sv', 'sz'), group_only_nodes=['sv', 'sz'],\n",
        "                depends_on={'dc':[col_resp], 'z':[col_resp]})\n",
        "    elif model_name == 'stimcoding_dc_z_st_resp': # also estimate across-trial variability in nondecision time\n",
        "        m = hddm.HDDMStimCoding(mydata, stim_col='direction', split_param='v',\n",
        "                drift_criterion=True, bias=True, p_outlier=0.05,\n",
        "                include=('sv', 'sz', 'st'), group_only_nodes=['sv', 'sz', 'st'],\n",
        "                depends_on={'dc':[col_resp], 'z':[col_resp]})\n",
        "    # ============================================ #\n",
        "    # Dyadic models..depends on whether the lagged trial was own for partner's\n",
        "    # ============================================ #\n",
        "    elif model_name == 'stimcoding_dc_z_resp_dyadic':\n",
        "        m = hddm.HDDMStimCoding(mydata, stim_col='direction', split_param='v',\n",
        "                drift_criterion=True, bias=True, p_outlier=0.05,\n",
        "                include=('sv', 'sz'), group_only_nodes=['sv', 'sz'],\n",
        "                depends_on={'dc':[col_resp, col_subject], 'z':[col_resp, col_subject]})\n",
        "    \n",
        "    return m"
      ],
      "execution_count": null,
      "outputs": []
    },
    {
      "cell_type": "code",
      "metadata": {
        "id": "1HrjepX_sPQC"
      },
      "source": [
        "def get_full_model_name(m,lag):\n",
        "    return m if 'nohist' in m else m + '_l' + str(lag)"
      ],
      "execution_count": null,
      "outputs": []
    },
    {
      "cell_type": "code",
      "metadata": {
        "id": "hIEl9CtwsTQe"
      },
      "source": [
        "def run_model(m, mypath, model_name, trace_id, n_samples):\n",
        "    print(\"Running {:<s}, trace_id {:2d}\".format(model_name,trace_id))\n",
        "    print(\"finding starting values\")\n",
        "    try:\n",
        "        m.find_starting_values() # this should help the sampling\n",
        "    except Exception as e:\n",
        "        print(e) #even if starting values couldnt be found, sampling can continue\n",
        "\n",
        "    print(\"begin sampling\")\n",
        "    #m.sample(n_samples, burn=n_samples/2, thin=3)\n",
        "    \n",
        "    m.sample(n_samples, burn=n_samples/2, thin=3, db='pickle',\n",
        "        dbname=os.path.join(mypath, model_name, 'modelfit-md%d.db'%trace_id))\n",
        "    m.save(os.path.join(mypath, model_name, 'modelfit-md%d.model'%trace_id)) # save the model to disk\n",
        "    \n",
        "    # ============================================ #\n",
        "    # save the output values\n",
        "    # ============================================ #\n",
        "\n",
        "    # save the DIC for this model\n",
        "    text_file = open(os.path.join(mypath, model_name, 'DIC-md%d.txt'%trace_id), 'w')\n",
        "    text_file.write(\"Model {}: {}\\n\".format(trace_id, m.dic))\n",
        "    text_file.close()\n",
        "\n",
        "    # save the other model comparison indices\n",
        "    df = dict()\n",
        "    df['trace_id'] = trace_id\n",
        "    df['dic_original'] = [m.dic]\n",
        "    df['aic'] = [aic(m)]\n",
        "    df['bic'] = [bic(m)]\n",
        "    df2 = pd.DataFrame(df)\n",
        "    df2.to_csv(os.path.join(mypath, model_name, 'model_comparison_md%d.csv'%trace_id),index=False)\n"
      ],
      "execution_count": null,
      "outputs": []
    },
    {
      "cell_type": "markdown",
      "source": [
        "# Prep before running HDDM"
      ],
      "metadata": {
        "id": "llUbFMYdTyv_"
      }
    },
    {
      "cell_type": "code",
      "metadata": {
        "id": "gwh8ys6Rsb7Q"
      },
      "source": [
        "models_collection = {\n",
        "    1: 'stimcoding_nohist',  # no history baseline model\n",
        "    2: 'stimcoding_dc_resp',  #previous response dependent, nlags needed\n",
        "    3: 'stimcoding_z_resp',  #previous response dependent, nlags needed\n",
        "    4: 'stimcoding_dc_z_resp', #previous response dependent, nlags needed\n",
        "    5: 'stimcoding_dc_z_st_resp',  #previous response dependent, nlags needed\n",
        "    6: 'stimcoding_dc_z_resp_dyadic' #previous response dependent, nlags needed, dyadic assessment\n",
        "}\n"
      ],
      "execution_count": 108,
      "outputs": []
    },
    {
      "cell_type": "code",
      "metadata": {
        "id": "SI4OohhismGa"
      },
      "source": [
        "\"\"\"\n",
        "Prepare for running: Part I\n",
        "Select model and the nth prev trial intended to be analyzed\n",
        "\"\"\"\n",
        "model = models_collection[1]\n",
        "lag = 1\n",
        "chains = 2\n",
        "trace_ids = range(1,chains+1)\n",
        "n_samples = 5000\n",
        "\n",
        "mypath = \"drive/MyDrive/DDM_SP_2021-22/data/output\"\n",
        "full_model_name = get_full_model_name(model,lag)\n",
        "thispath = os.path.join(mypath,full_model_name)\n",
        "if not os.path.exists(thispath):\n",
        "    os.makedirs(thispath)\n"
      ],
      "execution_count": 109,
      "outputs": []
    },
    {
      "cell_type": "code",
      "metadata": {
        "id": "d8pboiket-xK",
        "colab": {
          "base_uri": "https://localhost:8080/"
        },
        "outputId": "07e238a0-1b39-4dc7-9295-04b7c3820a09"
      },
      "source": [
        "\"\"\"\n",
        "Prepare for running:Part II\n",
        "Setup the folders and fetch data\n",
        "\"\"\"\n",
        "datasrc = \"drive/MyDrive/DDM_SP_2021-22/data/coded\"\n",
        "datafile = \"all_trials_data.csv\"\n",
        "\n",
        "#if the concatenated data from each experimnetal run exists, use that, else create the concatenated data first\n",
        "data_loc = os.path.join(datasrc,datafile)\n",
        "if os.path.exists(data_loc):\n",
        "    mydata = hddm.load_csv(data_loc)\n",
        "    print(\"Concatenated datafile with full experiment data found and loaded\")\n",
        "else:\n",
        "    files = glob.glob(os.path.join(datasrc,'pair*.csv'))\n",
        "    mydata = pd.concat([pd.read_csv(f) for f in files ])\n",
        "    mydata.to_csv(data_loc,index=False,header=True)\n",
        "    print(\"Concatenated datafile with full experiment data created\")\n"
      ],
      "execution_count": 110,
      "outputs": [
        {
          "output_type": "stream",
          "name": "stdout",
          "text": [
            "Concatenated datafile with full experiment data found and loaded\n"
          ]
        }
      ]
    },
    {
      "cell_type": "markdown",
      "source": [
        "**Data preparation for HDDMStimCoding**"
      ],
      "metadata": {
        "id": "xNsMK4I3wRb9"
      }
    },
    {
      "cell_type": "code",
      "source": [
        "#remove columns not needed\n",
        "col_prefix = 'l' + str(lag) + '_'\n",
        "cols_to_drop = [x for x in mydata.columns if (x[0] == 'l') and (not col_prefix in x)]\n",
        "cols_to_drop.extend(['run_id','correct','block','trial'])\n",
        "mydata.drop(columns=cols_to_drop,axis=1,inplace=True)\n",
        "\n",
        "#recode the subject in lagged trial..own:1, partner:0\n",
        "mask = mydata[col_prefix + 'subject'] == mydata['subj_idx']\n",
        "mydata[col_prefix + 'subject'] = (mydata[col_prefix + 'subject']== mydata['subj_idx']) * 1\n",
        "\n",
        "#Coding for response column. Use stimulus-coding: 1: right, 0:left\n",
        "mydata.loc[mydata['response'] == -1,'response'] = 0\n",
        "mydata.loc[mydata[col_prefix + 'resp'] == -1,col_prefix + 'resp'] = 0\n",
        "\n",
        "\"\"\"\n",
        "HDDMStimCoding: Add a column to your data that codes which stimulus was correct.\n",
        "For identifier 1, drift-rate v will be used while for identifier 0, -v will be used.\n",
        "\"\"\"\n",
        "#Coding for direction column. 1:right,0:left\n",
        "mydata.loc[mydata['direction'] == -1,'direction'] = 0\n",
        "mydata.loc[mydata[col_prefix + 'stim'] == -1,col_prefix + 'stim'] = 0"
      ],
      "metadata": {
        "id": "qSIOPWOPwW6z"
      },
      "execution_count": 111,
      "outputs": []
    },
    {
      "cell_type": "code",
      "source": [
        "mydata"
      ],
      "metadata": {
        "colab": {
          "base_uri": "https://localhost:8080/",
          "height": 513
        },
        "id": "MjA2lh40pk1L",
        "outputId": "b0e19d2a-73bf-4894-8898-5be55e4fe659"
      },
      "execution_count": 112,
      "outputs": [
        {
          "output_type": "execute_result",
          "data": {
            "text/html": [
              "<div>\n",
              "<style scoped>\n",
              "    .dataframe tbody tr th:only-of-type {\n",
              "        vertical-align: middle;\n",
              "    }\n",
              "\n",
              "    .dataframe tbody tr th {\n",
              "        vertical-align: top;\n",
              "    }\n",
              "\n",
              "    .dataframe thead th {\n",
              "        text-align: right;\n",
              "    }\n",
              "</style>\n",
              "<table border=\"1\" class=\"dataframe\">\n",
              "  <thead>\n",
              "    <tr style=\"text-align: right;\">\n",
              "      <th></th>\n",
              "      <th>direction</th>\n",
              "      <th>response</th>\n",
              "      <th>rt</th>\n",
              "      <th>subj_idx</th>\n",
              "      <th>l1_stim</th>\n",
              "      <th>l1_resp</th>\n",
              "      <th>l1_subject</th>\n",
              "      <th>l1_repeat</th>\n",
              "    </tr>\n",
              "  </thead>\n",
              "  <tbody>\n",
              "    <tr>\n",
              "      <th>0</th>\n",
              "      <td>1</td>\n",
              "      <td>1</td>\n",
              "      <td>1.276171</td>\n",
              "      <td>280933_1</td>\n",
              "      <td>NaN</td>\n",
              "      <td>NaN</td>\n",
              "      <td>0</td>\n",
              "      <td>0.0</td>\n",
              "    </tr>\n",
              "    <tr>\n",
              "      <th>1</th>\n",
              "      <td>1</td>\n",
              "      <td>0</td>\n",
              "      <td>1.399132</td>\n",
              "      <td>280933_2</td>\n",
              "      <td>1.0</td>\n",
              "      <td>1.0</td>\n",
              "      <td>0</td>\n",
              "      <td>0.0</td>\n",
              "    </tr>\n",
              "    <tr>\n",
              "      <th>2</th>\n",
              "      <td>1</td>\n",
              "      <td>0</td>\n",
              "      <td>1.317045</td>\n",
              "      <td>280933_2</td>\n",
              "      <td>1.0</td>\n",
              "      <td>0.0</td>\n",
              "      <td>1</td>\n",
              "      <td>1.0</td>\n",
              "    </tr>\n",
              "    <tr>\n",
              "      <th>3</th>\n",
              "      <td>0</td>\n",
              "      <td>1</td>\n",
              "      <td>1.390721</td>\n",
              "      <td>280933_2</td>\n",
              "      <td>1.0</td>\n",
              "      <td>0.0</td>\n",
              "      <td>1</td>\n",
              "      <td>0.0</td>\n",
              "    </tr>\n",
              "    <tr>\n",
              "      <th>4</th>\n",
              "      <td>0</td>\n",
              "      <td>0</td>\n",
              "      <td>1.169879</td>\n",
              "      <td>280933_1</td>\n",
              "      <td>0.0</td>\n",
              "      <td>1.0</td>\n",
              "      <td>0</td>\n",
              "      <td>0.0</td>\n",
              "    </tr>\n",
              "    <tr>\n",
              "      <th>...</th>\n",
              "      <td>...</td>\n",
              "      <td>...</td>\n",
              "      <td>...</td>\n",
              "      <td>...</td>\n",
              "      <td>...</td>\n",
              "      <td>...</td>\n",
              "      <td>...</td>\n",
              "      <td>...</td>\n",
              "    </tr>\n",
              "    <tr>\n",
              "      <th>9544</th>\n",
              "      <td>0</td>\n",
              "      <td>0</td>\n",
              "      <td>0.711276</td>\n",
              "      <td>476030_1</td>\n",
              "      <td>1.0</td>\n",
              "      <td>0.0</td>\n",
              "      <td>0</td>\n",
              "      <td>1.0</td>\n",
              "    </tr>\n",
              "    <tr>\n",
              "      <th>9545</th>\n",
              "      <td>1</td>\n",
              "      <td>1</td>\n",
              "      <td>0.943320</td>\n",
              "      <td>476030_2</td>\n",
              "      <td>0.0</td>\n",
              "      <td>0.0</td>\n",
              "      <td>0</td>\n",
              "      <td>0.0</td>\n",
              "    </tr>\n",
              "    <tr>\n",
              "      <th>9546</th>\n",
              "      <td>0</td>\n",
              "      <td>1</td>\n",
              "      <td>1.134057</td>\n",
              "      <td>476030_1</td>\n",
              "      <td>1.0</td>\n",
              "      <td>1.0</td>\n",
              "      <td>0</td>\n",
              "      <td>1.0</td>\n",
              "    </tr>\n",
              "    <tr>\n",
              "      <th>9547</th>\n",
              "      <td>0</td>\n",
              "      <td>0</td>\n",
              "      <td>0.847869</td>\n",
              "      <td>476030_2</td>\n",
              "      <td>0.0</td>\n",
              "      <td>1.0</td>\n",
              "      <td>0</td>\n",
              "      <td>0.0</td>\n",
              "    </tr>\n",
              "    <tr>\n",
              "      <th>9548</th>\n",
              "      <td>1</td>\n",
              "      <td>1</td>\n",
              "      <td>0.947042</td>\n",
              "      <td>476030_2</td>\n",
              "      <td>0.0</td>\n",
              "      <td>0.0</td>\n",
              "      <td>1</td>\n",
              "      <td>0.0</td>\n",
              "    </tr>\n",
              "  </tbody>\n",
              "</table>\n",
              "<p>9549 rows × 8 columns</p>\n",
              "</div>"
            ],
            "text/plain": [
              "      direction  response        rt  ... l1_resp  l1_subject  l1_repeat\n",
              "0             1         1  1.276171  ...     NaN           0        0.0\n",
              "1             1         0  1.399132  ...     1.0           0        0.0\n",
              "2             1         0  1.317045  ...     0.0           1        1.0\n",
              "3             0         1  1.390721  ...     0.0           1        0.0\n",
              "4             0         0  1.169879  ...     1.0           0        0.0\n",
              "...         ...       ...       ...  ...     ...         ...        ...\n",
              "9544          0         0  0.711276  ...     0.0           0        1.0\n",
              "9545          1         1  0.943320  ...     0.0           0        0.0\n",
              "9546          0         1  1.134057  ...     1.0           0        1.0\n",
              "9547          0         0  0.847869  ...     1.0           0        0.0\n",
              "9548          1         1  0.947042  ...     0.0           1        0.0\n",
              "\n",
              "[9549 rows x 8 columns]"
            ]
          },
          "metadata": {},
          "execution_count": 112
        }
      ]
    },
    {
      "cell_type": "markdown",
      "source": [
        "#DDM param estimations are done for 3 conditions: \n",
        "\n",
        "1. No history condition\n",
        "\n",
        "2. depends on the lagged trial response \n",
        "\n",
        "3. depends on the lagged trial response and own (code 1) or partner (code 0)trial\n"
      ],
      "metadata": {
        "id": "qJXYgz0AhLiT"
      }
    },
    {
      "cell_type": "code",
      "metadata": {
        "id": "3FIBl8iQsvJz",
        "colab": {
          "base_uri": "https://localhost:8080/"
        },
        "outputId": "c14701cc-0277-405c-9745-361d8e82d710"
      },
      "source": [
        "# ============================================ #\n",
        "# Main HDDM parameter estimation\n",
        "# ============================================ #\n",
        "starttime = time.time()\n",
        "for trace_id in trace_ids:\n",
        "    model_filename = os.path.join(mypath, full_model_name, 'modelfit-md%d.model' % trace_id)\n",
        "    m = make_model(mydata, model, trace_id, lag)\n",
        "    run_model(m, mypath, full_model_name, trace_id, n_samples)\n",
        "    elapsed = time.time() - starttime\n",
        "    print(\"\\nElapsed time for %s, trace_id %d, %d samples: %f seconds\\n\" % (model, trace_id, n_samples, elapsed))\n",
        "\n"
      ],
      "execution_count": 113,
      "outputs": [
        {
          "output_type": "stream",
          "name": "stdout",
          "text": [
            "'nlag' specified but model is without history effect. 'nlag' value is ignored\n",
            "\n",
            "Running stimcoding_nohist, trace_id  1\n",
            "finding starting values\n"
          ]
        },
        {
          "output_type": "stream",
          "name": "stderr",
          "text": [
            "/usr/local/lib/python3.7/dist-packages/scipy/optimize/optimize.py:1985: RuntimeWarning: invalid value encountered in double_scalars\n",
            "  tmp2 = (x - v) * (fx - fw)\n"
          ]
        },
        {
          "output_type": "stream",
          "name": "stdout",
          "text": [
            "begin sampling\n",
            " [-----------------100%-----------------] 5001 of 5000 complete in 5799.4 sec\n",
            "Elapsed time for stimcoding_nohist, trace_id 1, 5000 samples: 5811.968464 seconds\n",
            "\n",
            "'nlag' specified but model is without history effect. 'nlag' value is ignored\n",
            "\n",
            "Running stimcoding_nohist, trace_id  2\n",
            "finding starting values\n"
          ]
        },
        {
          "output_type": "stream",
          "name": "stderr",
          "text": [
            "/usr/local/lib/python3.7/dist-packages/scipy/optimize/optimize.py:1985: RuntimeWarning: invalid value encountered in double_scalars\n",
            "  tmp2 = (x - v) * (fx - fw)\n"
          ]
        },
        {
          "output_type": "stream",
          "name": "stdout",
          "text": [
            "begin sampling\n",
            " [-----------------100%-----------------] 5001 of 5000 complete in 5795.1 sec\n",
            "Elapsed time for stimcoding_nohist, trace_id 2, 5000 samples: 11619.558505 seconds\n",
            "\n"
          ]
        }
      ]
    },
    {
      "cell_type": "markdown",
      "source": [
        "#Check the model and convergence"
      ],
      "metadata": {
        "id": "wAxeHqDh6VF8"
      }
    },
    {
      "cell_type": "code",
      "source": [
        "#load all models\n",
        "allmodels = []\n",
        "print(\"Combining all traces for %s\" % full_model_name)\n",
        "modelfiles = glob.glob(os.path.join(mypath, full_model_name, 'modelfit-md*.model'))\n",
        "for m in modelfiles:\n",
        "  try:\n",
        "    allmodels.append(hddm.load(m))\n",
        "  except Exception as e:\n",
        "    print(\"Couldnt load fitted model {}\\n\".format(m))\n",
        "    print(e)\n",
        "    exit(0)\n",
        "\n",
        "print(\"{} traces found and loaded\".format(len(modelfiles)))\n",
        "\n",
        "#GM convergence check\n",
        "# Values should be close to 1 and not larger than 1.02 \n",
        "print(\"\\n#####GELMAN RUBIN TEST OUTPUT#####\")\n",
        "try:\n",
        "  gr = hddm.analyze.gelman_rubin(allmodels)\n",
        "  for p in gr.items():\n",
        "    msg = \"Non-convergence\" if abs(p[1] - 1) > 0.02 else \"OK\"\n",
        "    print(\"{:<24s} {:6.5f} {}\".format(p[0],p[1],msg))\n",
        "except Exception as e:\n",
        "  print(\"Error: {}\".format(e))"
      ],
      "metadata": {
        "colab": {
          "base_uri": "https://localhost:8080/"
        },
        "id": "VlZX2oSMzMQp",
        "outputId": "c379b032-d285-4d3e-83a6-f07a8a1412cb"
      },
      "execution_count": 114,
      "outputs": [
        {
          "output_type": "stream",
          "name": "stdout",
          "text": [
            "Combining all traces for stimcoding_nohist\n",
            "2 traces found and loaded\n",
            "\n",
            "#####GELMAN RUBIN TEST OUTPUT#####\n",
            "a                        0.99967 OK\n",
            "a_std                    0.99970 OK\n",
            "a_subj.268006_1          1.00037 OK\n",
            "a_subj.268006_2          0.99943 OK\n",
            "a_subj.280933_1          0.99999 OK\n",
            "a_subj.280933_2          1.00004 OK\n",
            "a_subj.476030_1          0.99982 OK\n",
            "a_subj.476030_2          1.00006 OK\n",
            "a_subj.659640_1          1.00046 OK\n",
            "a_subj.659640_2          0.99940 OK\n",
            "a_subj.725232_1          1.00201 OK\n",
            "a_subj.725232_2          0.99970 OK\n",
            "a_subj.754128_1          0.99946 OK\n",
            "a_subj.754128_2          1.00035 OK\n",
            "a_subj.812810_1          1.00101 OK\n",
            "a_subj.812810_2          0.99940 OK\n",
            "a_subj.897304_1          1.00251 OK\n",
            "a_subj.897304_2          1.00001 OK\n",
            "a_subj.900778_1          0.99946 OK\n",
            "a_subj.900778_2          0.99944 OK\n",
            "a_subj.958733_1          0.99948 OK\n",
            "a_subj.958733_2          1.00175 OK\n",
            "v                        0.99967 OK\n",
            "v_std                    0.99947 OK\n",
            "v_subj.268006_1          1.00041 OK\n",
            "v_subj.268006_2          1.00346 OK\n",
            "v_subj.280933_1          0.99949 OK\n",
            "v_subj.280933_2          1.00057 OK\n",
            "v_subj.476030_1          0.99945 OK\n",
            "v_subj.476030_2          1.00208 OK\n",
            "v_subj.659640_1          1.00025 OK\n",
            "v_subj.659640_2          0.99941 OK\n",
            "v_subj.725232_1          1.00266 OK\n",
            "v_subj.725232_2          1.00895 OK\n",
            "v_subj.754128_1          1.00061 OK\n",
            "v_subj.754128_2          1.00020 OK\n",
            "v_subj.812810_1          1.00177 OK\n",
            "v_subj.812810_2          0.99956 OK\n",
            "v_subj.897304_1          0.99978 OK\n",
            "v_subj.897304_2          1.00028 OK\n",
            "v_subj.900778_1          1.00070 OK\n",
            "v_subj.900778_2          0.99940 OK\n",
            "v_subj.958733_1          0.99990 OK\n",
            "v_subj.958733_2          0.99940 OK\n",
            "t                        0.99966 OK\n",
            "t_std                    0.99952 OK\n",
            "t_subj.268006_1          0.99940 OK\n",
            "t_subj.268006_2          0.99940 OK\n",
            "t_subj.280933_1          1.00084 OK\n",
            "t_subj.280933_2          1.00001 OK\n",
            "t_subj.476030_1          0.99997 OK\n",
            "t_subj.476030_2          0.99940 OK\n",
            "t_subj.659640_1          0.99996 OK\n",
            "t_subj.659640_2          0.99954 OK\n",
            "t_subj.725232_1          1.00110 OK\n",
            "t_subj.725232_2          1.00155 OK\n",
            "t_subj.754128_1          1.00126 OK\n",
            "t_subj.754128_2          1.00095 OK\n",
            "t_subj.812810_1          0.99940 OK\n",
            "t_subj.812810_2          0.99954 OK\n",
            "t_subj.897304_1          1.00175 OK\n",
            "t_subj.897304_2          1.00036 OK\n",
            "t_subj.900778_1          1.00125 OK\n",
            "t_subj.900778_2          1.00367 OK\n",
            "t_subj.958733_1          1.00051 OK\n",
            "t_subj.958733_2          0.99965 OK\n",
            "sv                       0.99993 OK\n",
            "sz                       1.00058 OK\n",
            "z_trans                  0.99948 OK\n",
            "z_std                    1.00634 OK\n",
            "z_subj_trans.268006_1    0.99958 OK\n",
            "z_subj_trans.268006_2    0.99950 OK\n",
            "z_subj_trans.280933_1    1.00502 OK\n",
            "z_subj_trans.280933_2    0.99957 OK\n",
            "z_subj_trans.476030_1    0.99952 OK\n",
            "z_subj_trans.476030_2    1.00088 OK\n",
            "z_subj_trans.659640_1    1.00296 OK\n",
            "z_subj_trans.659640_2    1.00262 OK\n",
            "z_subj_trans.725232_1    1.00294 OK\n",
            "z_subj_trans.725232_2    1.00047 OK\n",
            "z_subj_trans.754128_1    1.00021 OK\n",
            "z_subj_trans.754128_2    1.00032 OK\n",
            "z_subj_trans.812810_1    1.00061 OK\n",
            "z_subj_trans.812810_2    0.99985 OK\n",
            "z_subj_trans.897304_1    1.00290 OK\n",
            "z_subj_trans.897304_2    0.99981 OK\n",
            "z_subj_trans.900778_1    0.99990 OK\n",
            "z_subj_trans.900778_2    1.00328 OK\n",
            "z_subj_trans.958733_1    1.00291 OK\n",
            "z_subj_trans.958733_2    0.99967 OK\n",
            "dc                       0.99941 OK\n",
            "dc_std                   1.00070 OK\n",
            "dc_subj.268006_1         0.99970 OK\n",
            "dc_subj.268006_2         0.99940 OK\n",
            "dc_subj.280933_1         1.00513 OK\n",
            "dc_subj.280933_2         1.00076 OK\n",
            "dc_subj.476030_1         0.99941 OK\n",
            "dc_subj.476030_2         0.99940 OK\n",
            "dc_subj.659640_1         1.00038 OK\n",
            "dc_subj.659640_2         1.00114 OK\n",
            "dc_subj.725232_1         1.00179 OK\n",
            "dc_subj.725232_2         1.00092 OK\n",
            "dc_subj.754128_1         1.00021 OK\n",
            "dc_subj.754128_2         0.99957 OK\n",
            "dc_subj.812810_1         0.99941 OK\n",
            "dc_subj.812810_2         1.00014 OK\n",
            "dc_subj.897304_1         1.00118 OK\n",
            "dc_subj.897304_2         0.99947 OK\n",
            "dc_subj.900778_1         1.00166 OK\n",
            "dc_subj.900778_2         0.99941 OK\n",
            "dc_subj.958733_1         0.99957 OK\n",
            "dc_subj.958733_2         0.99940 OK\n"
          ]
        }
      ]
    },
    {
      "cell_type": "code",
      "source": [
        "#concat all traces into one model\n",
        "m = kabuki.utils.concat_models(allmodels)"
      ],
      "metadata": {
        "id": "VMjMJpmZ2WDH"
      },
      "execution_count": 118,
      "outputs": []
    },
    {
      "cell_type": "code",
      "source": [
        "#Visually check the model\n",
        "m.plot_posteriors()"
      ],
      "metadata": {
        "colab": {
          "base_uri": "https://localhost:8080/",
          "height": 1000
        },
        "id": "iIxRhFKb2b93",
        "outputId": "879c155f-654e-4bc6-932e-7dbb50fc87db"
      },
      "execution_count": 119,
      "outputs": [
        {
          "output_type": "stream",
          "name": "stdout",
          "text": [
            "Plotting a\n",
            "Plotting a_std\n",
            "Plotting v\n",
            "Plotting v_std\n",
            "Plotting t\n",
            "Plotting t_std\n",
            "Plotting sv\n",
            "Plotting sz\n",
            "Plotting z\n",
            "Plotting z_std\n",
            "Plotting dc\n",
            "Plotting dc_std\n"
          ]
        },
        {
          "output_type": "display_data",
          "data": {
            "image/png": "[encoded data removed]",
            "text/plain": [
              "<Figure size 720x432 with 3 Axes>"
            ]
          },
          "metadata": {
            "needs_background": "light"
          }
        },
        {
          "output_type": "display_data",
          "data": {
            "image/png": "[encoded data removed]",
            "text/plain": [
              "<Figure size 720x432 with 3 Axes>"
            ]
          },
          "metadata": {
            "needs_background": "light"
          }
        },
        {
          "output_type": "display_data",
          "data": {
            "image/png": "[encoded data removed]",
            "text/plain": [
              "<Figure size 720x432 with 3 Axes>"
            ]
          },
          "metadata": {
            "needs_background": "light"
          }
        },
        {
          "output_type": "display_data",
          "data": {
            "image/png": "[encoded data removed]",
            "text/plain": [
              "<Figure size 720x432 with 3 Axes>"
            ]
          },
          "metadata": {
            "needs_background": "light"
          }
        },
        {
          "output_type": "display_data",
          "data": {
            "image/png": "[encoded data removed]",
            "text/plain": [
              "<Figure size 720x432 with 3 Axes>"
            ]
          },
          "metadata": {
            "needs_background": "light"
          }
        },
        {
          "output_type": "display_data",
          "data": {
            "image/png": "[encoded data removed]",
            "text/plain": [
              "<Figure size 720x432 with 3 Axes>"
            ]
          },
          "metadata": {
            "needs_background": "light"
          }
        },
        {
          "output_type": "display_data",
          "data": {
            "image/png": "[encoded data removed]",
            "text/plain": [
              "<Figure size 720x432 with 3 Axes>"
            ]
          },
          "metadata": {
            "needs_background": "light"
          }
        },
        {
          "output_type": "display_data",
          "data": {
            "image/png": "[encoded data removed]",
            "text/plain": [
              "<Figure size 720x432 with 3 Axes>"
            ]
          },
          "metadata": {
            "needs_background": "light"
          }
        },
        {
          "output_type": "display_data",
          "data": {
            "image/png": "[encoded data removed]",
            "text/plain": [
              "<Figure size 720x432 with 3 Axes>"
            ]
          },
          "metadata": {
            "needs_background": "light"
          }
        },
        {
          "output_type": "display_data",
          "data": {
            "image/png": "[encoded data removed]",
            "text/plain": [
              "<Figure size 720x432 with 3 Axes>"
            ]
          },
          "metadata": {
            "needs_background": "light"
          }
        },
        {
          "output_type": "display_data",
          "data": {
            "image/png": "[encoded data removed]",
            "text/plain": [
              "<Figure size 720x432 with 3 Axes>"
            ]
          },
          "metadata": {
            "needs_background": "light"
          }
        },
        {
          "output_type": "display_data",
          "data": {
            "image/png": "[encoded data removed]",
            "text/plain": [
              "<Figure size 720x432 with 3 Axes>"
            ]
          },
          "metadata": {
            "needs_background": "light"
          }
        }
      ]
    },
    {
      "cell_type": "code",
      "source": [
        "\"\"\"\n",
        "If all goes well in previous step then...\n",
        "\"\"\"\n",
        "#save combined model\n",
        "m.save(os.path.join(mypath, full_model_name, 'modelfit-combined.model'))  # save combined modelto disk\n",
        "# SAVE POINT ESTIMATES\n",
        "print(\"saving stats...\")\n",
        "results = m.gen_stats()  # point estimate for each parameter and subject\n",
        "results.to_csv(os.path.join(mypath, full_model_name, 'results-combined.csv'))\n",
        "# save the DIC for this model\n",
        "text_file = open(os.path.join(mypath, full_model_name, 'DIC-combined.txt'), 'w')\n",
        "text_file.write(\"Combined model: {}\\n\".format(m.dic))\n",
        "text_file.close()\n",
        "print('done')\n",
        "# SAVE TRACES\n",
        "print(\"saving traces...\")\n",
        "# get the names for all nodes that are available here\n",
        "group_traces = m.get_group_traces()\n",
        "group_traces.to_csv(os.path.join(mypath, full_model_name, 'group_traces.csv'))\n",
        "all_traces = m.get_traces()\n",
        "all_traces.to_csv(os.path.join(mypath, full_model_name, 'all_traces.csv'))\n",
        "print('done')\n",
        "# CONCATENATE MODEL COMPARISON\n",
        "# average model comparison values across chains\n",
        "print('concatenating model comparison...')\n",
        "fls = glob.glob(os.path.join(mypath, full_model_name, 'model_comparison_md*.csv'))\n",
        "tmpdf = pd.concat([pd.read_csv(f) for f in fls ])\n",
        "# average over chains\n",
        "df2 = tmpdf.describe().loc[['mean']]\n",
        "df2.to_csv(os.path.join(mypath, full_model_name, 'model_comparison.csv')) # save comparison to disk\n",
        "print('done')"
      ],
      "metadata": {
        "colab": {
          "base_uri": "https://localhost:8080/"
        },
        "id": "igwnvr-Z6ghy",
        "outputId": "528aea7a-b3f1-410a-d0c4-1093bf40fccf"
      },
      "execution_count": 120,
      "outputs": [
        {
          "output_type": "stream",
          "name": "stdout",
          "text": [
            "saving stats...\n",
            "done\n",
            "saving traces...\n",
            "done\n",
            "concatenating model comparison...\n",
            "done\n"
          ]
        }
      ]
    },
    {
      "cell_type": "markdown",
      "source": [
        "# POSTERIOR PREDICTIVES TO ASSESS MODEL FIT"
      ],
      "metadata": {
        "id": "ZJeBFg9f7Kl9"
      }
    },
    {
      "cell_type": "code",
      "metadata": {
        "id": "xqNAJn--sw0d",
        "colab": {
          "base_uri": "https://localhost:8080/"
        },
        "outputId": "4ee53e7f-29ef-4548-c563-dc9fb3b77b33"
      },
      "source": [
        "starttime = time.time()\n",
        "print(\"computing ppc\")\n",
        "# specify how many samples are needed\n",
        "m = hddm.load(os.path.join(mypath,full_model_name, 'modelfit-combined.model'))\n",
        "nsmp = 500\n",
        "ppc = hddm.utils.post_pred_gen(m, append_data=True, samples=nsmp)\n",
        "# save as pandas dataframe\n",
        "ppc.to_csv(os.path.join(mypath, full_model_name, 'ppc_data.csv'), index=True)\n",
        "elapsed = time.time() - starttime\n",
        "print( \"\\nElapsed time for %s, PPC: %f seconds\\n\" %(full_model_name,elapsed))"
      ],
      "execution_count": 122,
      "outputs": [
        {
          "output_type": "stream",
          "name": "stdout",
          "text": [
            "computing ppc\n",
            " [------------------107%------------------] 43 of 40 complete in 4192.7 sec\n",
            "Elapsed time for stimcoding_nohist, PPC: 4248.837746 seconds\n",
            "\n"
          ]
        }
      ]
    },
    {
      "cell_type": "code",
      "source": [
        "ppc_compare = hddm.utils.post_pred_stats(mydata, ppc)"
      ],
      "metadata": {
        "id": "5Y5JZCZKUn0C"
      },
      "execution_count": 123,
      "outputs": []
    },
    {
      "cell_type": "code",
      "source": [
        "ppc_compare"
      ],
      "metadata": {
        "colab": {
          "base_uri": "https://localhost:8080/",
          "height": 551
        },
        "id": "ZzZ4Z4RjVC75",
        "outputId": "12b899a3-a5c6-483a-fbc6-f8db2d1b6a79"
      },
      "execution_count": 124,
      "outputs": [
        {
          "output_type": "execute_result",
          "data": {
            "text/html": [
              "<div>\n",
              "<style scoped>\n",
              "    .dataframe tbody tr th:only-of-type {\n",
              "        vertical-align: middle;\n",
              "    }\n",
              "\n",
              "    .dataframe tbody tr th {\n",
              "        vertical-align: top;\n",
              "    }\n",
              "\n",
              "    .dataframe thead th {\n",
              "        text-align: right;\n",
              "    }\n",
              "</style>\n",
              "<table border=\"1\" class=\"dataframe\">\n",
              "  <thead>\n",
              "    <tr style=\"text-align: right;\">\n",
              "      <th></th>\n",
              "      <th>observed</th>\n",
              "      <th>mean</th>\n",
              "      <th>std</th>\n",
              "      <th>SEM</th>\n",
              "      <th>MSE</th>\n",
              "      <th>credible</th>\n",
              "      <th>quantile</th>\n",
              "      <th>mahalanobis</th>\n",
              "    </tr>\n",
              "    <tr>\n",
              "      <th>stat</th>\n",
              "      <th></th>\n",
              "      <th></th>\n",
              "      <th></th>\n",
              "      <th></th>\n",
              "      <th></th>\n",
              "      <th></th>\n",
              "      <th></th>\n",
              "      <th></th>\n",
              "    </tr>\n",
              "  </thead>\n",
              "  <tbody>\n",
              "    <tr>\n",
              "      <th>accuracy</th>\n",
              "      <td>0.490941</td>\n",
              "      <td>0.492048</td>\n",
              "      <td>0.306252</td>\n",
              "      <td>0.000001</td>\n",
              "      <td>0.093795</td>\n",
              "      <td>True</td>\n",
              "      <td>45.0</td>\n",
              "      <td>0.003613</td>\n",
              "    </tr>\n",
              "    <tr>\n",
              "      <th>mean_ub</th>\n",
              "      <td>0.791704</td>\n",
              "      <td>0.815397</td>\n",
              "      <td>0.188656</td>\n",
              "      <td>0.000561</td>\n",
              "      <td>0.036152</td>\n",
              "      <td>True</td>\n",
              "      <td>50.0</td>\n",
              "      <td>0.125589</td>\n",
              "    </tr>\n",
              "    <tr>\n",
              "      <th>std_ub</th>\n",
              "      <td>0.299863</td>\n",
              "      <td>0.236601</td>\n",
              "      <td>0.095085</td>\n",
              "      <td>0.004002</td>\n",
              "      <td>0.013042</td>\n",
              "      <td>True</td>\n",
              "      <td>80.0</td>\n",
              "      <td>0.665326</td>\n",
              "    </tr>\n",
              "    <tr>\n",
              "      <th>10q_ub</th>\n",
              "      <td>0.467477</td>\n",
              "      <td>0.567953</td>\n",
              "      <td>0.147048</td>\n",
              "      <td>0.010096</td>\n",
              "      <td>0.031735</td>\n",
              "      <td>True</td>\n",
              "      <td>17.5</td>\n",
              "      <td>0.683290</td>\n",
              "    </tr>\n",
              "    <tr>\n",
              "      <th>30q_ub</th>\n",
              "      <td>0.607337</td>\n",
              "      <td>0.683959</td>\n",
              "      <td>0.170220</td>\n",
              "      <td>0.005871</td>\n",
              "      <td>0.034853</td>\n",
              "      <td>True</td>\n",
              "      <td>35.0</td>\n",
              "      <td>0.450134</td>\n",
              "    </tr>\n",
              "    <tr>\n",
              "      <th>50q_ub</th>\n",
              "      <td>0.734843</td>\n",
              "      <td>0.776483</td>\n",
              "      <td>0.188123</td>\n",
              "      <td>0.001734</td>\n",
              "      <td>0.037119</td>\n",
              "      <td>True</td>\n",
              "      <td>50.0</td>\n",
              "      <td>0.221343</td>\n",
              "    </tr>\n",
              "    <tr>\n",
              "      <th>70q_ub</th>\n",
              "      <td>0.903195</td>\n",
              "      <td>0.898970</td>\n",
              "      <td>0.227970</td>\n",
              "      <td>0.000018</td>\n",
              "      <td>0.051992</td>\n",
              "      <td>True</td>\n",
              "      <td>52.5</td>\n",
              "      <td>0.018533</td>\n",
              "    </tr>\n",
              "    <tr>\n",
              "      <th>90q_ub</th>\n",
              "      <td>1.181416</td>\n",
              "      <td>1.096264</td>\n",
              "      <td>0.274596</td>\n",
              "      <td>0.007251</td>\n",
              "      <td>0.082652</td>\n",
              "      <td>True</td>\n",
              "      <td>62.5</td>\n",
              "      <td>0.310102</td>\n",
              "    </tr>\n",
              "    <tr>\n",
              "      <th>mean_lb</th>\n",
              "      <td>-0.762101</td>\n",
              "      <td>-0.798749</td>\n",
              "      <td>0.196035</td>\n",
              "      <td>0.001343</td>\n",
              "      <td>0.039770</td>\n",
              "      <td>True</td>\n",
              "      <td>60.0</td>\n",
              "      <td>0.186947</td>\n",
              "    </tr>\n",
              "    <tr>\n",
              "      <th>std_lb</th>\n",
              "      <td>0.293597</td>\n",
              "      <td>0.233182</td>\n",
              "      <td>0.115181</td>\n",
              "      <td>0.003650</td>\n",
              "      <td>0.016915</td>\n",
              "      <td>True</td>\n",
              "      <td>87.5</td>\n",
              "      <td>0.524520</td>\n",
              "    </tr>\n",
              "    <tr>\n",
              "      <th>10q_lb</th>\n",
              "      <td>0.466327</td>\n",
              "      <td>0.569494</td>\n",
              "      <td>0.140032</td>\n",
              "      <td>0.010644</td>\n",
              "      <td>0.030242</td>\n",
              "      <td>True</td>\n",
              "      <td>17.5</td>\n",
              "      <td>0.736744</td>\n",
              "    </tr>\n",
              "    <tr>\n",
              "      <th>30q_lb</th>\n",
              "      <td>0.588226</td>\n",
              "      <td>0.673321</td>\n",
              "      <td>0.178142</td>\n",
              "      <td>0.007241</td>\n",
              "      <td>0.038972</td>\n",
              "      <td>True</td>\n",
              "      <td>30.0</td>\n",
              "      <td>0.477679</td>\n",
              "    </tr>\n",
              "    <tr>\n",
              "      <th>50q_lb</th>\n",
              "      <td>0.703829</td>\n",
              "      <td>0.756517</td>\n",
              "      <td>0.200879</td>\n",
              "      <td>0.002776</td>\n",
              "      <td>0.043123</td>\n",
              "      <td>True</td>\n",
              "      <td>35.0</td>\n",
              "      <td>0.262287</td>\n",
              "    </tr>\n",
              "    <tr>\n",
              "      <th>70q_lb</th>\n",
              "      <td>0.856167</td>\n",
              "      <td>0.872016</td>\n",
              "      <td>0.222508</td>\n",
              "      <td>0.000251</td>\n",
              "      <td>0.049760</td>\n",
              "      <td>True</td>\n",
              "      <td>50.0</td>\n",
              "      <td>0.071230</td>\n",
              "    </tr>\n",
              "    <tr>\n",
              "      <th>90q_lb</th>\n",
              "      <td>1.134415</td>\n",
              "      <td>1.071709</td>\n",
              "      <td>0.253647</td>\n",
              "      <td>0.003932</td>\n",
              "      <td>0.068258</td>\n",
              "      <td>True</td>\n",
              "      <td>65.0</td>\n",
              "      <td>0.247218</td>\n",
              "    </tr>\n",
              "  </tbody>\n",
              "</table>\n",
              "</div>"
            ],
            "text/plain": [
              "          observed      mean       std  ...  credible  quantile mahalanobis\n",
              "stat                                    ...                                \n",
              "accuracy  0.490941  0.492048  0.306252  ...      True      45.0    0.003613\n",
              "mean_ub   0.791704  0.815397  0.188656  ...      True      50.0    0.125589\n",
              "std_ub    0.299863  0.236601  0.095085  ...      True      80.0    0.665326\n",
              "10q_ub    0.467477  0.567953  0.147048  ...      True      17.5    0.683290\n",
              "30q_ub    0.607337  0.683959  0.170220  ...      True      35.0    0.450134\n",
              "50q_ub    0.734843  0.776483  0.188123  ...      True      50.0    0.221343\n",
              "70q_ub    0.903195  0.898970  0.227970  ...      True      52.5    0.018533\n",
              "90q_ub    1.181416  1.096264  0.274596  ...      True      62.5    0.310102\n",
              "mean_lb  -0.762101 -0.798749  0.196035  ...      True      60.0    0.186947\n",
              "std_lb    0.293597  0.233182  0.115181  ...      True      87.5    0.524520\n",
              "10q_lb    0.466327  0.569494  0.140032  ...      True      17.5    0.736744\n",
              "30q_lb    0.588226  0.673321  0.178142  ...      True      30.0    0.477679\n",
              "50q_lb    0.703829  0.756517  0.200879  ...      True      35.0    0.262287\n",
              "70q_lb    0.856167  0.872016  0.222508  ...      True      50.0    0.071230\n",
              "90q_lb    1.134415  1.071709  0.253647  ...      True      65.0    0.247218\n",
              "\n",
              "[15 rows x 8 columns]"
            ]
          },
          "metadata": {},
          "execution_count": 124
        }
      ]
    },
    {
      "cell_type": "code",
      "source": [
        "ppc_compare.to_csv(os.path.join(mypath, full_model_name, 'ppc_compare.csv'), index=False,header=True)"
      ],
      "metadata": {
        "id": "gA86C_edVbvo"
      },
      "execution_count": 125,
      "outputs": []
    },
    {
      "cell_type": "markdown",
      "source": [
        "code in cell below is for debugging purposes only"
      ],
      "metadata": {
        "id": "3WoNhQzdD004"
      }
    },
    {
      "cell_type": "code",
      "source": [
        "\"\"\"\n",
        "import pymc as pm\n",
        "import numpy as np\n",
        "import pymc.progressbar as pbar\n",
        "\n",
        "def _parents_to_random_posterior_sample(bottom_node, pos=None):\n",
        "    \"\"\"Walks through parents and sets them to pos sample.\"\"\"\n",
        "    for i, parent in enumerate(bottom_node.extended_parents):\n",
        "        if not isinstance(parent, pm.Node): # Skip non-stochastic nodes\n",
        "            continue\n",
        "\n",
        "        if pos is None:\n",
        "            # Set to random posterior position\n",
        "            pos = np.random.randint(0, len(parent.trace()))\n",
        "\n",
        "        assert len(parent.trace()) >= pos, \"pos larger than posterior sample size\"\n",
        "        parent.value = parent.trace()[pos]\n",
        "\n",
        "def _post_pred_generate(bottom_node, samples=500, data=None, append_data=True):\n",
        "    \"\"\"Generate posterior predictive data from a single observed node.\"\"\"\n",
        "    datasets = []\n",
        "    ##############################\n",
        "    # Sample and generate stats\n",
        "    for sample in range(samples):\n",
        "        _parents_to_random_posterior_sample(bottom_node)\n",
        "        # Generate data from bottom node\n",
        "        sampled_data = bottom_node.random()\n",
        "        if append_data and data is not None:\n",
        "            sampled_data.reset_index(inplace=True)  # Only modification of original Kabuki code\n",
        "            sampled_data = sampled_data.join(data.reset_index(), lsuffix='_sampled')\n",
        "        datasets.append(sampled_data)\n",
        "    return datasets\n",
        "\n",
        "def pst_pred_gen(model, groupby=None, samples=500, append_data=False, progress_bar=True):\n",
        "    results = {}\n",
        "\n",
        "    # Progress bar\n",
        "    if progress_bar:\n",
        "        n_iter = len(model.get_observeds())\n",
        "        bar = pbar.progress_bar(n_iter)\n",
        "        bar_iter = 0\n",
        "    else:\n",
        "        print(\"Sampling...\")\n",
        "\n",
        "    if groupby is None:\n",
        "        iter_data = ((name, model.data.iloc[obs['node'].value.index]) for name, obs in model.iter_observeds())\n",
        "    else:\n",
        "        iter_data = model.data.groupby(groupby)\n",
        "\n",
        "\n",
        "    for name, data in iter_data:\n",
        "        print(name)\n",
        "        print(data['subj_idx'])\n",
        "        node = model.get_data_nodes(data.index)\n",
        "\n",
        "        if progress_bar:\n",
        "            bar_iter += 1\n",
        "            bar.update(bar_iter)\n",
        "\n",
        "        if node is None or not hasattr(node, 'random'):\n",
        "            continue # Skip\n",
        "\n",
        "        ##############################\n",
        "        # Sample and generate stats\n",
        "        datasets = _post_pred_generate(node, samples=samples, data=data, append_data=append_data)\n",
        "        results[name] = pd.concat(datasets, names=['sample'], keys=list(range(len(datasets))))\n",
        "\n",
        "    if progress_bar:\n",
        "        bar_iter += 1\n",
        "        bar.update(bar_iter)\n",
        "\n",
        "    return pd.concat(results, names=['node'])\n",
        "\n",
        "testm = hddm.load(os.path.join(mypath,full_model_name, 'modelfit-md2.model'))\n",
        "ppc = pst_pred_gen(testm, append_data=True, samples=nsmp)\n",
        "\"\"\""
      ],
      "metadata": {
        "id": "Ho5-fUNx9ISB"
      },
      "execution_count": null,
      "outputs": []
    },
    {
      "cell_type": "markdown",
      "source": [
        "# QUANTILE OPTIMISATION"
      ],
      "metadata": {
        "id": "5MeqzEX47Xy1"
      }
    },
    {
      "cell_type": "code",
      "metadata": {
        "id": "H96p5mrOs0ei",
        "colab": {
          "base_uri": "https://localhost:8080/"
        },
        "outputId": "12d03f17-c6a5-4a34-e4b7-37c8ff70a561"
      },
      "source": [
        "# http://ski.clps.brown.edu/hddm_docs/howto.html#run-quantile-opimization\n",
        "subj_params = []\n",
        "bic_temp = []\n",
        "\n",
        "for subj_idx, subj_data in mydata.groupby('subj_idx'):\n",
        "    m_subj = make_model(subj_data, model, 1,lag)\n",
        "    thismodel = m_subj.optimize('gsquare', quantiles=[0.1, 0.3, 0.5, 0.7, 0.9], n_runs=5)\n",
        "    thismodel.update({'subj_idx':subj_idx}) # keep original subject number\n",
        "    subj_params.append(thismodel)\n",
        "    bic_temp.append(m_subj.bic_info)\n",
        "\n",
        "params = pd.DataFrame(subj_params)\n",
        "params.to_csv(os.path.join(mypath, full_model_name, 'Gsquare.csv'))\n",
        "pd.DataFrame(bic_temp).to_csv(os.path.join(mypath, full_model_name, 'BIC.csv'))\n",
        "print(\"QUANTILE OPTIMISATION. DONE!!!\")"
      ],
      "execution_count": 126,
      "outputs": [
        {
          "output_type": "stream",
          "name": "stdout",
          "text": [
            "'nlag' specified but model is without history effect. 'nlag' value is ignored\n",
            "\n"
          ]
        },
        {
          "output_type": "stream",
          "name": "stderr",
          "text": [
            "/usr/local/lib/python3.7/dist-packages/scipy/optimize/optimize.py:1985: RuntimeWarning: invalid value encountered in double_scalars\n",
            "  tmp2 = (x - v) * (fx - fw)\n",
            "/usr/local/lib/python3.7/dist-packages/scipy/optimize/optimize.py:1986: RuntimeWarning: invalid value encountered in double_scalars\n",
            "  p = (x - v) * tmp2 - (x - w) * tmp1\n"
          ]
        },
        {
          "output_type": "stream",
          "name": "stdout",
          "text": [
            "Optimization terminated successfully.\n",
            "         Current function value: 1873.810783\n",
            "         Iterations: 14\n",
            "         Function evaluations: 1259\n",
            "Optimization terminated successfully.\n",
            "         Current function value: 1937.119078\n",
            "         Iterations: 9\n",
            "         Function evaluations: 833\n",
            "Optimization terminated successfully.\n",
            "         Current function value: 1873.733333\n",
            "         Iterations: 18\n",
            "         Function evaluations: 1756\n",
            "Optimization terminated successfully.\n",
            "         Current function value: 1884.636795\n",
            "         Iterations: 12\n",
            "         Function evaluations: 1047\n",
            "Optimization terminated successfully.\n",
            "         Current function value: 1873.741205\n",
            "         Iterations: 11\n",
            "         Function evaluations: 976\n",
            "'nlag' specified but model is without history effect. 'nlag' value is ignored\n",
            "\n"
          ]
        },
        {
          "output_type": "stream",
          "name": "stderr",
          "text": [
            "/usr/local/lib/python3.7/dist-packages/scipy/optimize/optimize.py:1985: RuntimeWarning: invalid value encountered in double_scalars\n",
            "  tmp2 = (x - v) * (fx - fw)\n"
          ]
        },
        {
          "output_type": "stream",
          "name": "stdout",
          "text": [
            "Optimization terminated successfully.\n",
            "         Current function value: 1934.969549\n",
            "         Iterations: 12\n",
            "         Function evaluations: 1109\n",
            "Optimization terminated successfully.\n",
            "         Current function value: 1936.055586\n",
            "         Iterations: 13\n",
            "         Function evaluations: 1163\n",
            "Optimization terminated successfully.\n",
            "         Current function value: 1949.045033\n",
            "         Iterations: 16\n",
            "         Function evaluations: 2160\n",
            "Optimization terminated successfully.\n",
            "         Current function value: 1935.004682\n",
            "         Iterations: 10\n",
            "         Function evaluations: 894\n",
            "Optimization terminated successfully.\n",
            "         Current function value: 1934.975340\n",
            "         Iterations: 11\n",
            "         Function evaluations: 970\n",
            "'nlag' specified but model is without history effect. 'nlag' value is ignored\n",
            "\n"
          ]
        },
        {
          "output_type": "stream",
          "name": "stderr",
          "text": [
            "/usr/local/lib/python3.7/dist-packages/scipy/optimize/optimize.py:1985: RuntimeWarning: invalid value encountered in double_scalars\n",
            "  tmp2 = (x - v) * (fx - fw)\n"
          ]
        },
        {
          "output_type": "stream",
          "name": "stdout",
          "text": [
            "Optimization terminated successfully.\n",
            "         Current function value: -28606.793805\n",
            "         Iterations: 15\n",
            "         Function evaluations: 2832\n",
            "Optimization terminated successfully.\n",
            "         Current function value: 2420.764696\n",
            "         Iterations: 13\n",
            "         Function evaluations: 1227\n"
          ]
        },
        {
          "output_type": "stream",
          "name": "stderr",
          "text": [
            "/usr/local/lib/python3.7/dist-packages/scipy/optimize/optimize.py:1986: RuntimeWarning: invalid value encountered in double_scalars\n",
            "  p = (x - v) * tmp2 - (x - w) * tmp1\n"
          ]
        },
        {
          "output_type": "stream",
          "name": "stdout",
          "text": [
            "Optimization terminated successfully.\n",
            "         Current function value: -3182.281912\n",
            "         Iterations: 17\n",
            "         Function evaluations: 2884\n"
          ]
        },
        {
          "output_type": "stream",
          "name": "stderr",
          "text": [
            "/usr/local/lib/python3.7/dist-packages/scipy/optimize/optimize.py:2644: RuntimeWarning: invalid value encountered in subtract\n",
            "  if (fx2 - fval) > delta:\n"
          ]
        },
        {
          "output_type": "stream",
          "name": "stdout",
          "text": [
            "Optimization terminated successfully.\n",
            "         Current function value: inf\n",
            "         Iterations: 8\n",
            "         Function evaluations: 1220\n",
            "Optimization terminated successfully.\n",
            "         Current function value: 2428.377057\n",
            "         Iterations: 8\n",
            "         Function evaluations: 859\n",
            "'nlag' specified but model is without history effect. 'nlag' value is ignored\n",
            "\n"
          ]
        },
        {
          "output_type": "stream",
          "name": "stderr",
          "text": [
            "/usr/local/lib/python3.7/dist-packages/scipy/optimize/optimize.py:1985: RuntimeWarning: invalid value encountered in double_scalars\n",
            "  tmp2 = (x - v) * (fx - fw)\n",
            "/usr/local/lib/python3.7/dist-packages/scipy/optimize/optimize.py:1986: RuntimeWarning: invalid value encountered in double_scalars\n",
            "  p = (x - v) * tmp2 - (x - w) * tmp1\n"
          ]
        },
        {
          "output_type": "stream",
          "name": "stdout",
          "text": [
            "Optimization terminated successfully.\n",
            "         Current function value: 2253.190998\n",
            "         Iterations: 15\n",
            "         Function evaluations: 1380\n",
            "Optimization terminated successfully.\n",
            "         Current function value: 2253.117915\n",
            "         Iterations: 15\n",
            "         Function evaluations: 1374\n",
            "Optimization terminated successfully.\n",
            "         Current function value: 2254.328776\n",
            "         Iterations: 6\n",
            "         Function evaluations: 527\n",
            "Optimization terminated successfully.\n",
            "         Current function value: 2259.495066\n",
            "         Iterations: 10\n",
            "         Function evaluations: 919\n",
            "Optimization terminated successfully.\n",
            "         Current function value: 2255.705045\n",
            "         Iterations: 5\n",
            "         Function evaluations: 447\n",
            "'nlag' specified but model is without history effect. 'nlag' value is ignored\n",
            "\n"
          ]
        },
        {
          "output_type": "stream",
          "name": "stderr",
          "text": [
            "/usr/local/lib/python3.7/dist-packages/scipy/optimize/optimize.py:1985: RuntimeWarning: invalid value encountered in double_scalars\n",
            "  tmp2 = (x - v) * (fx - fw)\n"
          ]
        },
        {
          "output_type": "stream",
          "name": "stdout",
          "text": [
            "Optimization terminated successfully.\n",
            "         Current function value: 2422.397954\n",
            "         Iterations: 8\n",
            "         Function evaluations: 849\n",
            "Optimization terminated successfully.\n",
            "         Current function value: 2423.888342\n",
            "         Iterations: 7\n",
            "         Function evaluations: 695\n",
            "Optimization terminated successfully.\n",
            "         Current function value: 2422.316646\n",
            "         Iterations: 9\n",
            "         Function evaluations: 970\n",
            "Optimization terminated successfully.\n",
            "         Current function value: 2422.451622\n",
            "         Iterations: 8\n",
            "         Function evaluations: 820\n",
            "Optimization terminated successfully.\n",
            "         Current function value: 2423.898280\n",
            "         Iterations: 9\n",
            "         Function evaluations: 882\n",
            "'nlag' specified but model is without history effect. 'nlag' value is ignored\n",
            "\n"
          ]
        },
        {
          "output_type": "stream",
          "name": "stderr",
          "text": [
            "/usr/local/lib/python3.7/dist-packages/scipy/optimize/optimize.py:1985: RuntimeWarning: invalid value encountered in double_scalars\n",
            "  tmp2 = (x - v) * (fx - fw)\n"
          ]
        },
        {
          "output_type": "stream",
          "name": "stdout",
          "text": [
            "Optimization terminated successfully.\n",
            "         Current function value: 2150.369438\n",
            "         Iterations: 10\n",
            "         Function evaluations: 1017\n",
            "Optimization terminated successfully.\n",
            "         Current function value: 2132.126067\n",
            "         Iterations: 7\n",
            "         Function evaluations: 613\n",
            "Optimization terminated successfully.\n",
            "         Current function value: 2128.842673\n",
            "         Iterations: 10\n",
            "         Function evaluations: 913\n",
            "Optimization terminated successfully.\n",
            "         Current function value: 2128.218186\n",
            "         Iterations: 11\n",
            "         Function evaluations: 1008\n"
          ]
        },
        {
          "output_type": "stream",
          "name": "stderr",
          "text": [
            "/usr/local/lib/python3.7/dist-packages/scipy/optimize/optimize.py:1986: RuntimeWarning: invalid value encountered in double_scalars\n",
            "  p = (x - v) * tmp2 - (x - w) * tmp1\n"
          ]
        },
        {
          "output_type": "stream",
          "name": "stdout",
          "text": [
            "Optimization terminated successfully.\n",
            "         Current function value: 2128.961483\n",
            "         Iterations: 17\n",
            "         Function evaluations: 1648\n",
            "'nlag' specified but model is without history effect. 'nlag' value is ignored\n",
            "\n"
          ]
        },
        {
          "output_type": "stream",
          "name": "stderr",
          "text": [
            "/usr/local/lib/python3.7/dist-packages/scipy/optimize/optimize.py:1985: RuntimeWarning: invalid value encountered in double_scalars\n",
            "  tmp2 = (x - v) * (fx - fw)\n"
          ]
        },
        {
          "output_type": "stream",
          "name": "stdout",
          "text": [
            "Optimization terminated successfully.\n",
            "         Current function value: 2299.021107\n",
            "         Iterations: 8\n",
            "         Function evaluations: 709\n",
            "Optimization terminated successfully.\n",
            "         Current function value: 2298.783741\n",
            "         Iterations: 8\n",
            "         Function evaluations: 711\n",
            "Optimization terminated successfully.\n",
            "         Current function value: 2293.907842\n",
            "         Iterations: 6\n",
            "         Function evaluations: 547\n",
            "Optimization terminated successfully.\n",
            "         Current function value: 2298.696739\n",
            "         Iterations: 8\n",
            "         Function evaluations: 715\n",
            "Optimization terminated successfully.\n",
            "         Current function value: 2298.373609\n",
            "         Iterations: 8\n",
            "         Function evaluations: 749\n",
            "'nlag' specified but model is without history effect. 'nlag' value is ignored\n",
            "\n"
          ]
        },
        {
          "output_type": "stream",
          "name": "stderr",
          "text": [
            "/usr/local/lib/python3.7/dist-packages/scipy/optimize/optimize.py:1985: RuntimeWarning: invalid value encountered in double_scalars\n",
            "  tmp2 = (x - v) * (fx - fw)\n",
            "/usr/local/lib/python3.7/dist-packages/scipy/optimize/optimize.py:1986: RuntimeWarning: invalid value encountered in double_scalars\n",
            "  p = (x - v) * tmp2 - (x - w) * tmp1\n"
          ]
        },
        {
          "output_type": "stream",
          "name": "stdout",
          "text": [
            "Optimization terminated successfully.\n",
            "         Current function value: 2269.783890\n",
            "         Iterations: 11\n",
            "         Function evaluations: 1030\n",
            "Optimization terminated successfully.\n",
            "         Current function value: 2271.726468\n",
            "         Iterations: 11\n",
            "         Function evaluations: 982\n",
            "Optimization terminated successfully.\n",
            "         Current function value: 2323.459527\n",
            "         Iterations: 12\n",
            "         Function evaluations: 1103\n",
            "Optimization terminated successfully.\n",
            "         Current function value: 2270.511883\n",
            "         Iterations: 7\n",
            "         Function evaluations: 612\n",
            "Optimization terminated successfully.\n",
            "         Current function value: 2269.792871\n",
            "         Iterations: 9\n",
            "         Function evaluations: 816\n",
            "'nlag' specified but model is without history effect. 'nlag' value is ignored\n",
            "\n"
          ]
        },
        {
          "output_type": "stream",
          "name": "stderr",
          "text": [
            "/usr/local/lib/python3.7/dist-packages/scipy/optimize/optimize.py:1985: RuntimeWarning: invalid value encountered in double_scalars\n",
            "  tmp2 = (x - v) * (fx - fw)\n",
            "/usr/local/lib/python3.7/dist-packages/scipy/optimize/optimize.py:1986: RuntimeWarning: invalid value encountered in double_scalars\n",
            "  p = (x - v) * tmp2 - (x - w) * tmp1\n"
          ]
        },
        {
          "output_type": "stream",
          "name": "stdout",
          "text": [
            "Optimization terminated successfully.\n",
            "         Current function value: 1662.584897\n",
            "         Iterations: 13\n",
            "         Function evaluations: 1284\n",
            "Optimization terminated successfully.\n",
            "         Current function value: 1662.559800\n",
            "         Iterations: 14\n",
            "         Function evaluations: 1376\n",
            "Optimization terminated successfully.\n",
            "         Current function value: 1662.694245\n",
            "         Iterations: 10\n",
            "         Function evaluations: 944\n",
            "Optimization terminated successfully.\n",
            "         Current function value: 1662.619246\n",
            "         Iterations: 12\n",
            "         Function evaluations: 1137\n",
            "Optimization terminated successfully.\n",
            "         Current function value: 1662.558709\n",
            "         Iterations: 13\n",
            "         Function evaluations: 1271\n",
            "'nlag' specified but model is without history effect. 'nlag' value is ignored\n",
            "\n"
          ]
        },
        {
          "output_type": "stream",
          "name": "stderr",
          "text": [
            "/usr/local/lib/python3.7/dist-packages/scipy/optimize/optimize.py:1985: RuntimeWarning: invalid value encountered in double_scalars\n",
            "  tmp2 = (x - v) * (fx - fw)\n"
          ]
        },
        {
          "output_type": "stream",
          "name": "stdout",
          "text": [
            "Optimization terminated successfully.\n",
            "         Current function value: 1842.125605\n",
            "         Iterations: 7\n",
            "         Function evaluations: 706\n",
            "Optimization terminated successfully.\n",
            "         Current function value: 1842.086683\n",
            "         Iterations: 7\n",
            "         Function evaluations: 668\n",
            "Optimization terminated successfully.\n",
            "         Current function value: 1883.122358\n",
            "         Iterations: 7\n",
            "         Function evaluations: 688\n",
            "Optimization terminated successfully.\n",
            "         Current function value: 1842.167306\n",
            "         Iterations: 7\n",
            "         Function evaluations: 652\n",
            "Optimization terminated successfully.\n",
            "         Current function value: 1883.118452\n",
            "         Iterations: 4\n",
            "         Function evaluations: 430\n",
            "'nlag' specified but model is without history effect. 'nlag' value is ignored\n",
            "\n"
          ]
        },
        {
          "output_type": "stream",
          "name": "stderr",
          "text": [
            "/usr/local/lib/python3.7/dist-packages/scipy/optimize/optimize.py:1985: RuntimeWarning: invalid value encountered in double_scalars\n",
            "  tmp2 = (x - v) * (fx - fw)\n",
            "/usr/local/lib/python3.7/dist-packages/scipy/optimize/optimize.py:1986: RuntimeWarning: invalid value encountered in double_scalars\n",
            "  p = (x - v) * tmp2 - (x - w) * tmp1\n"
          ]
        },
        {
          "output_type": "stream",
          "name": "stdout",
          "text": [
            "Optimization terminated successfully.\n",
            "         Current function value: 2037.253820\n",
            "         Iterations: 9\n",
            "         Function evaluations: 866\n",
            "Optimization terminated successfully.\n",
            "         Current function value: 2037.235624\n",
            "         Iterations: 6\n",
            "         Function evaluations: 607\n",
            "Optimization terminated successfully.\n",
            "         Current function value: 2037.927687\n",
            "         Iterations: 9\n",
            "         Function evaluations: 922\n",
            "Optimization terminated successfully.\n",
            "         Current function value: 2037.264710\n",
            "         Iterations: 7\n",
            "         Function evaluations: 677\n",
            "Optimization terminated successfully.\n",
            "         Current function value: 7171.320723\n",
            "         Iterations: 1\n",
            "         Function evaluations: 89\n",
            "'nlag' specified but model is without history effect. 'nlag' value is ignored\n",
            "\n"
          ]
        },
        {
          "output_type": "stream",
          "name": "stderr",
          "text": [
            "/usr/local/lib/python3.7/dist-packages/scipy/optimize/optimize.py:1985: RuntimeWarning: invalid value encountered in double_scalars\n",
            "  tmp2 = (x - v) * (fx - fw)\n",
            "/usr/local/lib/python3.7/dist-packages/scipy/optimize/optimize.py:1986: RuntimeWarning: invalid value encountered in double_scalars\n",
            "  p = (x - v) * tmp2 - (x - w) * tmp1\n"
          ]
        },
        {
          "output_type": "stream",
          "name": "stdout",
          "text": [
            "Optimization terminated successfully.\n",
            "         Current function value: 2384.369816\n",
            "         Iterations: 17\n",
            "         Function evaluations: 1689\n",
            "Optimization terminated successfully.\n",
            "         Current function value: 2383.828563\n",
            "         Iterations: 14\n",
            "         Function evaluations: 1272\n"
          ]
        },
        {
          "output_type": "stream",
          "name": "stderr",
          "text": [
            "/usr/local/lib/python3.7/dist-packages/scipy/optimize/optimize.py:1987: RuntimeWarning: invalid value encountered in double_scalars\n",
            "  tmp2 = 2.0 * (tmp2 - tmp1)\n"
          ]
        },
        {
          "output_type": "stream",
          "name": "stdout",
          "text": [
            "Optimization terminated successfully.\n",
            "         Current function value: 2384.067489\n",
            "         Iterations: 14\n",
            "         Function evaluations: 1198\n",
            "Optimization terminated successfully.\n",
            "         Current function value: 2384.433659\n",
            "         Iterations: 14\n",
            "         Function evaluations: 1316\n",
            "Optimization terminated successfully.\n",
            "         Current function value: 2384.216474\n",
            "         Iterations: 17\n",
            "         Function evaluations: 1619\n",
            "'nlag' specified but model is without history effect. 'nlag' value is ignored\n",
            "\n"
          ]
        },
        {
          "output_type": "stream",
          "name": "stderr",
          "text": [
            "/usr/local/lib/python3.7/dist-packages/scipy/optimize/optimize.py:1985: RuntimeWarning: invalid value encountered in double_scalars\n",
            "  tmp2 = (x - v) * (fx - fw)\n",
            "/usr/local/lib/python3.7/dist-packages/scipy/optimize/optimize.py:1986: RuntimeWarning: invalid value encountered in double_scalars\n",
            "  p = (x - v) * tmp2 - (x - w) * tmp1\n"
          ]
        },
        {
          "output_type": "stream",
          "name": "stdout",
          "text": [
            "Optimization terminated successfully.\n",
            "         Current function value: 2160.208857\n",
            "         Iterations: 10\n",
            "         Function evaluations: 879\n",
            "Optimization terminated successfully.\n",
            "         Current function value: 2159.460381\n",
            "         Iterations: 8\n",
            "         Function evaluations: 715\n",
            "Optimization terminated successfully.\n",
            "         Current function value: 2159.938082\n",
            "         Iterations: 8\n",
            "         Function evaluations: 694\n",
            "Optimization terminated successfully.\n",
            "         Current function value: 2163.334850\n",
            "         Iterations: 8\n",
            "         Function evaluations: 790\n",
            "Optimization terminated successfully.\n",
            "         Current function value: 2159.827973\n",
            "         Iterations: 8\n",
            "         Function evaluations: 726\n",
            "'nlag' specified but model is without history effect. 'nlag' value is ignored\n",
            "\n"
          ]
        },
        {
          "output_type": "stream",
          "name": "stderr",
          "text": [
            "/usr/local/lib/python3.7/dist-packages/scipy/optimize/optimize.py:1985: RuntimeWarning: invalid value encountered in double_scalars\n",
            "  tmp2 = (x - v) * (fx - fw)\n",
            "/usr/local/lib/python3.7/dist-packages/scipy/optimize/optimize.py:1986: RuntimeWarning: invalid value encountered in double_scalars\n",
            "  p = (x - v) * tmp2 - (x - w) * tmp1\n"
          ]
        },
        {
          "output_type": "stream",
          "name": "stdout",
          "text": [
            "Optimization terminated successfully.\n",
            "         Current function value: 2280.163950\n",
            "         Iterations: 11\n",
            "         Function evaluations: 989\n",
            "Optimization terminated successfully.\n",
            "         Current function value: 2280.740449\n",
            "         Iterations: 8\n",
            "         Function evaluations: 760\n",
            "Optimization terminated successfully.\n",
            "         Current function value: 2281.415212\n",
            "         Iterations: 8\n",
            "         Function evaluations: 756\n",
            "Optimization terminated successfully.\n",
            "         Current function value: 2280.720712\n",
            "         Iterations: 8\n",
            "         Function evaluations: 750\n",
            "Optimization terminated successfully.\n",
            "         Current function value: 2282.881100\n",
            "         Iterations: 8\n",
            "         Function evaluations: 735\n",
            "'nlag' specified but model is without history effect. 'nlag' value is ignored\n",
            "\n"
          ]
        },
        {
          "output_type": "stream",
          "name": "stderr",
          "text": [
            "/usr/local/lib/python3.7/dist-packages/scipy/optimize/optimize.py:1985: RuntimeWarning: invalid value encountered in double_scalars\n",
            "  tmp2 = (x - v) * (fx - fw)\n",
            "/usr/local/lib/python3.7/dist-packages/scipy/optimize/optimize.py:1986: RuntimeWarning: invalid value encountered in double_scalars\n",
            "  p = (x - v) * tmp2 - (x - w) * tmp1\n"
          ]
        },
        {
          "output_type": "stream",
          "name": "stdout",
          "text": [
            "Optimization terminated successfully.\n",
            "         Current function value: 2058.693219\n",
            "         Iterations: 10\n",
            "         Function evaluations: 925\n",
            "Optimization terminated successfully.\n",
            "         Current function value: 2058.642596\n",
            "         Iterations: 8\n",
            "         Function evaluations: 691\n",
            "Optimization terminated successfully.\n",
            "         Current function value: 2059.291189\n",
            "         Iterations: 8\n",
            "         Function evaluations: 702\n",
            "Optimization terminated successfully.\n",
            "         Current function value: 2058.633428\n",
            "         Iterations: 10\n",
            "         Function evaluations: 917\n",
            "Optimization terminated successfully.\n",
            "         Current function value: 2059.156531\n",
            "         Iterations: 8\n",
            "         Function evaluations: 737\n",
            "'nlag' specified but model is without history effect. 'nlag' value is ignored\n",
            "\n"
          ]
        },
        {
          "output_type": "stream",
          "name": "stderr",
          "text": [
            "/usr/local/lib/python3.7/dist-packages/scipy/optimize/optimize.py:1985: RuntimeWarning: invalid value encountered in double_scalars\n",
            "  tmp2 = (x - v) * (fx - fw)\n"
          ]
        },
        {
          "output_type": "stream",
          "name": "stdout",
          "text": [
            "Optimization terminated successfully.\n",
            "         Current function value: 2360.650044\n",
            "         Iterations: 10\n",
            "         Function evaluations: 1338\n",
            "Optimization terminated successfully.\n",
            "         Current function value: 2305.673018\n",
            "         Iterations: 8\n",
            "         Function evaluations: 691\n",
            "Optimization terminated successfully.\n",
            "         Current function value: 2305.637697\n",
            "         Iterations: 8\n",
            "         Function evaluations: 742\n"
          ]
        },
        {
          "output_type": "stream",
          "name": "stderr",
          "text": [
            "/usr/local/lib/python3.7/dist-packages/scipy/optimize/optimize.py:1986: RuntimeWarning: invalid value encountered in double_scalars\n",
            "  p = (x - v) * tmp2 - (x - w) * tmp1\n"
          ]
        },
        {
          "output_type": "stream",
          "name": "stdout",
          "text": [
            "Optimization terminated successfully.\n",
            "         Current function value: 2305.656083\n",
            "         Iterations: 8\n",
            "         Function evaluations: 672\n",
            "Optimization terminated successfully.\n",
            "         Current function value: 2306.081429\n",
            "         Iterations: 9\n",
            "         Function evaluations: 768\n",
            "'nlag' specified but model is without history effect. 'nlag' value is ignored\n",
            "\n"
          ]
        },
        {
          "output_type": "stream",
          "name": "stderr",
          "text": [
            "/usr/local/lib/python3.7/dist-packages/scipy/optimize/optimize.py:1985: RuntimeWarning: invalid value encountered in double_scalars\n",
            "  tmp2 = (x - v) * (fx - fw)\n"
          ]
        },
        {
          "output_type": "stream",
          "name": "stdout",
          "text": [
            "Optimization terminated successfully.\n",
            "         Current function value: 2526.922191\n",
            "         Iterations: 6\n",
            "         Function evaluations: 628\n",
            "Optimization terminated successfully.\n",
            "         Current function value: 2516.187385\n",
            "         Iterations: 11\n",
            "         Function evaluations: 1013\n",
            "Optimization terminated successfully.\n",
            "         Current function value: 2513.116784\n",
            "         Iterations: 4\n",
            "         Function evaluations: 356\n",
            "Optimization terminated successfully.\n",
            "         Current function value: 2515.659088\n",
            "         Iterations: 10\n",
            "         Function evaluations: 904\n",
            "Optimization terminated successfully.\n",
            "         Current function value: 2521.182342\n",
            "         Iterations: 9\n",
            "         Function evaluations: 808\n",
            "'nlag' specified but model is without history effect. 'nlag' value is ignored\n",
            "\n"
          ]
        },
        {
          "output_type": "stream",
          "name": "stderr",
          "text": [
            "/usr/local/lib/python3.7/dist-packages/scipy/optimize/optimize.py:1985: RuntimeWarning: invalid value encountered in double_scalars\n",
            "  tmp2 = (x - v) * (fx - fw)\n",
            "/usr/local/lib/python3.7/dist-packages/scipy/optimize/optimize.py:1986: RuntimeWarning: invalid value encountered in double_scalars\n",
            "  p = (x - v) * tmp2 - (x - w) * tmp1\n"
          ]
        },
        {
          "output_type": "stream",
          "name": "stdout",
          "text": [
            "Optimization terminated successfully.\n",
            "         Current function value: 2188.224103\n",
            "         Iterations: 8\n",
            "         Function evaluations: 703\n",
            "Optimization terminated successfully.\n",
            "         Current function value: 2184.787081\n",
            "         Iterations: 11\n",
            "         Function evaluations: 1005\n",
            "Optimization terminated successfully.\n",
            "         Current function value: 2188.185767\n",
            "         Iterations: 8\n",
            "         Function evaluations: 697\n",
            "Optimization terminated successfully.\n",
            "         Current function value: 2187.424261\n",
            "         Iterations: 8\n",
            "         Function evaluations: 703\n",
            "Optimization terminated successfully.\n",
            "         Current function value: 2184.691426\n",
            "         Iterations: 12\n",
            "         Function evaluations: 1076\n",
            "'nlag' specified but model is without history effect. 'nlag' value is ignored\n",
            "\n"
          ]
        },
        {
          "output_type": "stream",
          "name": "stderr",
          "text": [
            "/usr/local/lib/python3.7/dist-packages/scipy/optimize/optimize.py:1985: RuntimeWarning: invalid value encountered in double_scalars\n",
            "  tmp2 = (x - v) * (fx - fw)\n"
          ]
        },
        {
          "output_type": "stream",
          "name": "stdout",
          "text": [
            "Optimization terminated successfully.\n",
            "         Current function value: 2331.532216\n",
            "         Iterations: 9\n",
            "         Function evaluations: 1136\n",
            "Optimization terminated successfully.\n",
            "         Current function value: 2329.941491\n",
            "         Iterations: 10\n",
            "         Function evaluations: 1249\n",
            "Optimization terminated successfully.\n",
            "         Current function value: 2327.064127\n",
            "         Iterations: 15\n",
            "         Function evaluations: 2067\n"
          ]
        },
        {
          "output_type": "stream",
          "name": "stderr",
          "text": [
            "/usr/local/lib/python3.7/dist-packages/scipy/optimize/optimize.py:1986: RuntimeWarning: invalid value encountered in double_scalars\n",
            "  p = (x - v) * tmp2 - (x - w) * tmp1\n"
          ]
        },
        {
          "output_type": "stream",
          "name": "stdout",
          "text": [
            "Optimization terminated successfully.\n",
            "         Current function value: 2329.336787\n",
            "         Iterations: 10\n",
            "         Function evaluations: 1261\n",
            "Optimization terminated successfully.\n",
            "         Current function value: 2327.846837\n",
            "         Iterations: 13\n",
            "         Function evaluations: 2082\n",
            "'nlag' specified but model is without history effect. 'nlag' value is ignored\n",
            "\n"
          ]
        },
        {
          "output_type": "stream",
          "name": "stderr",
          "text": [
            "/usr/local/lib/python3.7/dist-packages/scipy/optimize/optimize.py:1985: RuntimeWarning: invalid value encountered in double_scalars\n",
            "  tmp2 = (x - v) * (fx - fw)\n"
          ]
        },
        {
          "output_type": "stream",
          "name": "stdout",
          "text": [
            "Optimization terminated successfully.\n",
            "         Current function value: 2577.765973\n",
            "         Iterations: 8\n",
            "         Function evaluations: 727\n"
          ]
        },
        {
          "output_type": "stream",
          "name": "stderr",
          "text": [
            "/usr/local/lib/python3.7/dist-packages/scipy/optimize/optimize.py:1986: RuntimeWarning: invalid value encountered in double_scalars\n",
            "  p = (x - v) * tmp2 - (x - w) * tmp1\n"
          ]
        },
        {
          "output_type": "stream",
          "name": "stdout",
          "text": [
            "Optimization terminated successfully.\n",
            "         Current function value: 2500.216225\n",
            "         Iterations: 10\n",
            "         Function evaluations: 838\n",
            "Optimization terminated successfully.\n",
            "         Current function value: 2577.543145\n",
            "         Iterations: 8\n",
            "         Function evaluations: 746\n",
            "Optimization terminated successfully.\n",
            "         Current function value: 2578.047894\n",
            "         Iterations: 8\n",
            "         Function evaluations: 753\n",
            "Optimization terminated successfully.\n",
            "         Current function value: 2579.682546\n",
            "         Iterations: 9\n",
            "         Function evaluations: 833\n",
            "QUANTILE OPTIMISATION. DONE!!!\n"
          ]
        }
      ]
    },
    {
      "cell_type": "code",
      "source": [
        "del bic"
      ],
      "metadata": {
        "id": "A07qrDUTKKY6"
      },
      "execution_count": 95,
      "outputs": []
    }
  ]
}