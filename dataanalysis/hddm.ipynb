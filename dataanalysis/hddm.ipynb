{
 "cells": [
  {
   "cell_type": "markdown",
   "metadata": {},
   "source": [
    "### This book implements the hddm tutorial on dummy data\n",
    "http://ski.clps.brown.edu/hddm_docs/tutorial_python.html"
   ]
  },
  {
   "cell_type": "code",
   "execution_count": 3,
   "metadata": {},
   "outputs": [
    {
     "name": "stderr",
     "output_type": "stream",
     "text": [
      "/usr/lib/python3/dist-packages/IPython/parallel.py:12: ShimWarning: The `IPython.parallel` package has been deprecated since IPython 4.0. You should import from ipyparallel instead.\n",
      "  warn(\"The `IPython.parallel` package has been deprecated since IPython 4.0. \"\n"
     ]
    }
   ],
   "source": [
    "import pandas as pd\n",
    "import matplotlib.pyplot as plt\n",
    "import hddm"
   ]
  },
  {
   "cell_type": "code",
   "execution_count": 4,
   "metadata": {},
   "outputs": [],
   "source": [
    "data = hddm.load_csv('dummydata')"
   ]
  },
  {
   "cell_type": "code",
   "execution_count": 5,
   "metadata": {},
   "outputs": [
    {
     "data": {
      "text/html": [
       "<div>\n",
       "<style scoped>\n",
       "    .dataframe tbody tr th:only-of-type {\n",
       "        vertical-align: middle;\n",
       "    }\n",
       "\n",
       "    .dataframe tbody tr th {\n",
       "        vertical-align: top;\n",
       "    }\n",
       "\n",
       "    .dataframe thead th {\n",
       "        text-align: right;\n",
       "    }\n",
       "</style>\n",
       "<table border=\"1\" class=\"dataframe\">\n",
       "  <thead>\n",
       "    <tr style=\"text-align: right;\">\n",
       "      <th></th>\n",
       "      <th>Unnamed: 0</th>\n",
       "      <th>experiment</th>\n",
       "      <th>subject1</th>\n",
       "      <th>subject1_threshold</th>\n",
       "      <th>subject2</th>\n",
       "      <th>subject2_threshold</th>\n",
       "      <th>trial_number</th>\n",
       "      <th>s1_condition</th>\n",
       "      <th>signalpresence</th>\n",
       "      <th>selection</th>\n",
       "      <th>rt</th>\n",
       "      <th>repeatc</th>\n",
       "      <th>correct</th>\n",
       "      <th>obsc</th>\n",
       "    </tr>\n",
       "  </thead>\n",
       "  <tbody>\n",
       "    <tr>\n",
       "      <th>0</th>\n",
       "      <td>0</td>\n",
       "      <td>0</td>\n",
       "      <td>2</td>\n",
       "      <td>52.113312</td>\n",
       "      <td>0</td>\n",
       "      <td>43.751788</td>\n",
       "      <td>0</td>\n",
       "      <td>obs</td>\n",
       "      <td>no</td>\n",
       "      <td>no</td>\n",
       "      <td>-121.987091</td>\n",
       "      <td>0</td>\n",
       "      <td>True</td>\n",
       "      <td>NaN</td>\n",
       "    </tr>\n",
       "    <tr>\n",
       "      <th>1</th>\n",
       "      <td>1</td>\n",
       "      <td>0</td>\n",
       "      <td>2</td>\n",
       "      <td>52.113312</td>\n",
       "      <td>0</td>\n",
       "      <td>43.751788</td>\n",
       "      <td>1</td>\n",
       "      <td>obs</td>\n",
       "      <td>no</td>\n",
       "      <td>yes</td>\n",
       "      <td>801.638673</td>\n",
       "      <td>1</td>\n",
       "      <td>False</td>\n",
       "      <td>NaN</td>\n",
       "    </tr>\n",
       "    <tr>\n",
       "      <th>2</th>\n",
       "      <td>2</td>\n",
       "      <td>0</td>\n",
       "      <td>2</td>\n",
       "      <td>52.113312</td>\n",
       "      <td>0</td>\n",
       "      <td>43.751788</td>\n",
       "      <td>2</td>\n",
       "      <td>act</td>\n",
       "      <td>no</td>\n",
       "      <td>no</td>\n",
       "      <td>1164.054775</td>\n",
       "      <td>0</td>\n",
       "      <td>True</td>\n",
       "      <td>2.0</td>\n",
       "    </tr>\n",
       "    <tr>\n",
       "      <th>3</th>\n",
       "      <td>3</td>\n",
       "      <td>0</td>\n",
       "      <td>2</td>\n",
       "      <td>52.113312</td>\n",
       "      <td>0</td>\n",
       "      <td>43.751788</td>\n",
       "      <td>3</td>\n",
       "      <td>act</td>\n",
       "      <td>yes</td>\n",
       "      <td>yes</td>\n",
       "      <td>73.921898</td>\n",
       "      <td>1</td>\n",
       "      <td>True</td>\n",
       "      <td>NaN</td>\n",
       "    </tr>\n",
       "    <tr>\n",
       "      <th>4</th>\n",
       "      <td>4</td>\n",
       "      <td>0</td>\n",
       "      <td>2</td>\n",
       "      <td>52.113312</td>\n",
       "      <td>0</td>\n",
       "      <td>43.751788</td>\n",
       "      <td>4</td>\n",
       "      <td>act</td>\n",
       "      <td>yes</td>\n",
       "      <td>yes</td>\n",
       "      <td>478.708290</td>\n",
       "      <td>2</td>\n",
       "      <td>True</td>\n",
       "      <td>NaN</td>\n",
       "    </tr>\n",
       "  </tbody>\n",
       "</table>\n",
       "</div>"
      ],
      "text/plain": [
       "   Unnamed: 0  experiment  subject1  subject1_threshold  subject2  \\\n",
       "0           0           0         2           52.113312         0   \n",
       "1           1           0         2           52.113312         0   \n",
       "2           2           0         2           52.113312         0   \n",
       "3           3           0         2           52.113312         0   \n",
       "4           4           0         2           52.113312         0   \n",
       "\n",
       "   subject2_threshold  trial_number s1_condition signalpresence selection  \\\n",
       "0           43.751788             0          obs             no        no   \n",
       "1           43.751788             1          obs             no       yes   \n",
       "2           43.751788             2          act             no        no   \n",
       "3           43.751788             3          act            yes       yes   \n",
       "4           43.751788             4          act            yes       yes   \n",
       "\n",
       "            rt  repeatc  correct  obsc  \n",
       "0  -121.987091        0     True   NaN  \n",
       "1   801.638673        1    False   NaN  \n",
       "2  1164.054775        0     True   2.0  \n",
       "3    73.921898        1     True   NaN  \n",
       "4   478.708290        2     True   NaN  "
      ]
     },
     "execution_count": 5,
     "metadata": {},
     "output_type": "execute_result"
    }
   ],
   "source": [
    "data.head()"
   ]
  },
  {
   "cell_type": "code",
   "execution_count": 24,
   "metadata": {},
   "outputs": [
    {
     "name": "stdout",
     "output_type": "stream",
     "text": [
      "-1384.358743486435\n",
      "-1384.358491106128\n",
      " [-----------------100%-----------------] 2001 of 2000 complete in 604.7 sec"
     ]
    },
    {
     "data": {
      "text/plain": [
       "<pymc.MCMC.MCMC at 0x7f80b68e8e20>"
      ]
     },
     "execution_count": 24,
     "metadata": {},
     "output_type": "execute_result"
    }
   ],
   "source": [
    "# Instantiate model object passing it our data (no need to call flip_errors() before passing it).\n",
    "# This will tailor an individual hierarchical DDM around your dataset.\n",
    "m = hddm.HDDM(data, depends_on={'v': 'repeatc'})\n",
    "# find a good starting point which helps with the convergence.\n",
    "m.find_starting_values()\n",
    "# start drawing 7000 samples and discarding 5000 as burn-in\n",
    "m.sample(2000, burn=20)"
   ]
  },
  {
   "cell_type": "code",
   "execution_count": 25,
   "metadata": {},
   "outputs": [
    {
     "data": {
      "text/html": [
       "<div>\n",
       "<style scoped>\n",
       "    .dataframe tbody tr th:only-of-type {\n",
       "        vertical-align: middle;\n",
       "    }\n",
       "\n",
       "    .dataframe tbody tr th {\n",
       "        vertical-align: top;\n",
       "    }\n",
       "\n",
       "    .dataframe thead th {\n",
       "        text-align: right;\n",
       "    }\n",
       "</style>\n",
       "<table border=\"1\" class=\"dataframe\">\n",
       "  <thead>\n",
       "    <tr style=\"text-align: right;\">\n",
       "      <th></th>\n",
       "      <th>mean</th>\n",
       "      <th>std</th>\n",
       "      <th>2.5q</th>\n",
       "      <th>25q</th>\n",
       "      <th>50q</th>\n",
       "      <th>75q</th>\n",
       "      <th>97.5q</th>\n",
       "      <th>mc err</th>\n",
       "    </tr>\n",
       "  </thead>\n",
       "  <tbody>\n",
       "    <tr>\n",
       "      <th>a</th>\n",
       "      <td>1.5898</td>\n",
       "      <td>0.805166</td>\n",
       "      <td>0.703992</td>\n",
       "      <td>1.08067</td>\n",
       "      <td>1.35178</td>\n",
       "      <td>1.80894</td>\n",
       "      <td>3.85212</td>\n",
       "      <td>0.0547668</td>\n",
       "    </tr>\n",
       "    <tr>\n",
       "      <th>v(0)</th>\n",
       "      <td>5.21669</td>\n",
       "      <td>1.93703</td>\n",
       "      <td>2.05349</td>\n",
       "      <td>3.78063</td>\n",
       "      <td>4.96822</td>\n",
       "      <td>6.47494</td>\n",
       "      <td>9.43087</td>\n",
       "      <td>0.0701239</td>\n",
       "    </tr>\n",
       "    <tr>\n",
       "      <th>v(1)</th>\n",
       "      <td>4.68971</td>\n",
       "      <td>2.05885</td>\n",
       "      <td>1.11062</td>\n",
       "      <td>3.25122</td>\n",
       "      <td>4.58675</td>\n",
       "      <td>6.0082</td>\n",
       "      <td>9.096</td>\n",
       "      <td>0.0852233</td>\n",
       "    </tr>\n",
       "    <tr>\n",
       "      <th>v(2)</th>\n",
       "      <td>4.20536</td>\n",
       "      <td>1.99033</td>\n",
       "      <td>1.10271</td>\n",
       "      <td>2.66235</td>\n",
       "      <td>3.95307</td>\n",
       "      <td>5.5153</td>\n",
       "      <td>8.50541</td>\n",
       "      <td>0.0583023</td>\n",
       "    </tr>\n",
       "    <tr>\n",
       "      <th>v(3)</th>\n",
       "      <td>4.96078</td>\n",
       "      <td>2.62123</td>\n",
       "      <td>0.518125</td>\n",
       "      <td>2.96573</td>\n",
       "      <td>4.75956</td>\n",
       "      <td>6.74231</td>\n",
       "      <td>10.4828</td>\n",
       "      <td>0.102058</td>\n",
       "    </tr>\n",
       "    <tr>\n",
       "      <th>v(4)</th>\n",
       "      <td>3.24417</td>\n",
       "      <td>2.36672</td>\n",
       "      <td>-0.678611</td>\n",
       "      <td>1.50706</td>\n",
       "      <td>3.02607</td>\n",
       "      <td>4.75605</td>\n",
       "      <td>8.37398</td>\n",
       "      <td>0.062123</td>\n",
       "    </tr>\n",
       "    <tr>\n",
       "      <th>t</th>\n",
       "      <td>0.163086</td>\n",
       "      <td>0.197982</td>\n",
       "      <td>0.0254442</td>\n",
       "      <td>0.0546745</td>\n",
       "      <td>0.071775</td>\n",
       "      <td>0.198564</td>\n",
       "      <td>0.726922</td>\n",
       "      <td>0.0140971</td>\n",
       "    </tr>\n",
       "  </tbody>\n",
       "</table>\n",
       "</div>"
      ],
      "text/plain": [
       "          mean       std       2.5q        25q       50q       75q     97.5q  \\\n",
       "a       1.5898  0.805166   0.703992    1.08067   1.35178   1.80894   3.85212   \n",
       "v(0)   5.21669   1.93703    2.05349    3.78063   4.96822   6.47494   9.43087   \n",
       "v(1)   4.68971   2.05885    1.11062    3.25122   4.58675    6.0082     9.096   \n",
       "v(2)   4.20536   1.99033    1.10271    2.66235   3.95307    5.5153   8.50541   \n",
       "v(3)   4.96078   2.62123   0.518125    2.96573   4.75956   6.74231   10.4828   \n",
       "v(4)   3.24417   2.36672  -0.678611    1.50706   3.02607   4.75605   8.37398   \n",
       "t     0.163086  0.197982  0.0254442  0.0546745  0.071775  0.198564  0.726922   \n",
       "\n",
       "         mc err  \n",
       "a     0.0547668  \n",
       "v(0)  0.0701239  \n",
       "v(1)  0.0852233  \n",
       "v(2)  0.0583023  \n",
       "v(3)   0.102058  \n",
       "v(4)   0.062123  \n",
       "t     0.0140971  "
      ]
     },
     "execution_count": 25,
     "metadata": {},
     "output_type": "execute_result"
    }
   ],
   "source": [
    "stats = m.gen_stats()\n",
    "\n",
    "stats"
   ]
  },
  {
   "cell_type": "code",
   "execution_count": 28,
   "metadata": {
    "scrolled": false
   },
   "outputs": [],
   "source": [
    "# m.plot_posteriors(['a', 't', 'v', 'a_std'])"
   ]
  },
  {
   "cell_type": "code",
   "execution_count": 29,
   "metadata": {
    "scrolled": false
   },
   "outputs": [],
   "source": [
    "# m.plot_posterior_predictive(figsize=(14, 10))"
   ]
  },
  {
   "cell_type": "code",
   "execution_count": 33,
   "metadata": {},
   "outputs": [
    {
     "data": {
      "text/plain": [
       "Text(0.5, 1.0, 'Posterior of drift-rate group means')"
      ]
     },
     "execution_count": 33,
     "metadata": {},
     "output_type": "execute_result"
    },
    {
     "data": {
      "image/png": "[encoded data removed]",
      "text/plain": [
       "<Figure size 432x288 with 1 Axes>"
      ]
     },
     "metadata": {
      "needs_background": "light"
     },
     "output_type": "display_data"
    }
   ],
   "source": [
    "v1, v2, v3, v4 = m.nodes_db.node[['v(0)', 'v(1)', 'v(2)', 'v(3)']]\n",
    "hddm.analyze.plot_posterior_nodes([v1, v2, v3, v4])\n",
    "plt.xlabel('drift-rate')\n",
    "plt.ylabel('Posterior probability')\n",
    "plt.title('Posterior of drift-rate group means')"
   ]
  }
 ],
 "metadata": {
  "kernelspec": {
   "display_name": "Python 3",
   "language": "python",
   "name": "python3"
  },
  "language_info": {
   "codemirror_mode": {
    "name": "ipython",
    "version": 3
   },
   "file_extension": ".py",
   "mimetype": "text/x-python",
   "name": "python",
   "nbconvert_exporter": "python",
   "pygments_lexer": "ipython3",
   "version": "3.8.5"
  }
 },
 "nbformat": 4,
 "nbformat_minor": 4
}
