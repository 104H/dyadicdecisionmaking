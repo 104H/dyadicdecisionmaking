{
  "nbformat": 4,
  "nbformat_minor": 0,
  "metadata": {
    "colab": {
      "name": "preprocessing.ipynb",
      "provenance": [],
      "collapsed_sections": [],
      "include_colab_link": true
    },
    "kernelspec": {
      "name": "python3",
      "display_name": "Python 3"
    },
    "language_info": {
      "name": "python"
    }
  },
  "cells": [
    {
      "cell_type": "markdown",
      "metadata": {
        "id": "view-in-github",
        "colab_type": "text"
      },
      "source": [
        "<a href=\"https://colab.research.google.com/github/104H/dyadicdecisionmaking/blob/main/dataanalysis/preprocessing.ipynb\" target=\"_parent\"><img src=\"https://colab.research.google.com/assets/colab-badge.svg\" alt=\"Open In Colab\"/></a>"
      ]
    },
    {
      "cell_type": "code",
      "metadata": {
        "id": "hIAVeZz70EU7"
      },
      "source": [
        "import io\n",
        "import pandas as pd\n",
        "import numpy as np\n",
        "import seaborn as sns\n",
        "import matplotlib.pyplot as plt\n",
        "from google.colab import files\n",
        "sns.set_palette(\"Set2\", desat=0.5)"
      ],
      "execution_count": 1,
      "outputs": []
    },
    {
      "cell_type": "code",
      "metadata": {
        "id": "NxL2CW1jHUXZ"
      },
      "source": [
        "\"\"\"\n",
        "Fetch data from git\n",
        "\"\"\"\n",
        "\n",
        "datasrc = 'https://raw.githubusercontent.com/104H/dyadicdecisionmaking/main/experiment_files/data/DDM_pair2_2021_May_27_1821.csv'\n",
        "samples_df = pd.read_csv(datasrc)\n",
        "\n",
        "\"\"\"\n",
        "Key params\n",
        "\"\"\"\n",
        "block_repeat = 2\n",
        "trials_per_block = 80"
      ],
      "execution_count": 2,
      "outputs": []
    },
    {
      "cell_type": "markdown",
      "metadata": {
        "id": "-pxF3ZOcaPBO"
      },
      "source": [
        "**Preprocessing**"
      ]
    },
    {
      "cell_type": "code",
      "metadata": {
        "id": "sciBJKEB0ABG"
      },
      "source": [
        "\"\"\"\n",
        "Remove columns that are not needed\n",
        "\"\"\"\n",
        "samples_df.drop(\n",
        "    columns=['.thisRepN', '.thisTrialN', '.thisN', '.thisIndex', 'Unnamed: 13'],\n",
        "    inplace=True\n",
        ")\n",
        "\n",
        "\"\"\"\n",
        "Determine correct responses and create a column to store correctness\n",
        "\"\"\"\n",
        "conditions = [\n",
        "    (samples_df['condition'] == 'signal') & (samples_df['response'] == 'yes'),\n",
        "    (samples_df['condition'] == 'signal') & (samples_df['response'] == 'no'),\n",
        "    (samples_df['condition'] == 'noise')  & (samples_df['response'] == 'yes'),\n",
        "    (samples_df['condition'] == 'noise')  & (samples_df['response'] == 'no')\n",
        "]\n",
        "values = [True, False, False, True]\n",
        "samples_df['correct_response'] = np.select(conditions, values).astype('bool')"
      ],
      "execution_count": 3,
      "outputs": []
    },
    {
      "cell_type": "code",
      "metadata": {
        "id": "DFI4iLyOh2Y2",
        "colab": {
          "base_uri": "https://localhost:8080/",
          "height": 204
        },
        "outputId": "9e5bde60-c770-4445-a224-21d32dc74024"
      },
      "source": [
        "\"\"\"\n",
        "Determine repeated conditions\n",
        "\"\"\"\n",
        "pairs = samples_df.pair.unique()\n",
        "repeatc = []\n",
        "counter = 0\n",
        "\n",
        "for pair in pairs:\n",
        "    for ind in samples_df.query('pair == @pair').index:\n",
        "        if ind == 0:\n",
        "            condition = samples_df['condition'][ind]\n",
        "            repeatc.append(counter)\n",
        "        else:\n",
        "            if samples_df['condition'][ind] != condition:\n",
        "                condition = samples_df['condition'][ind]\n",
        "                counter = 0\n",
        "                repeatc.append(counter)\n",
        "            else:\n",
        "                counter += 1\n",
        "                repeatc.append(counter)\n",
        "            \n",
        "samples_df['repeated_condition'] = repeatc\n",
        "samples_df.head()"
      ],
      "execution_count": 4,
      "outputs": [
        {
          "output_type": "execute_result",
          "data": {
            "text/html": [
              "<div>\n",
              "<style scoped>\n",
              "    .dataframe tbody tr th:only-of-type {\n",
              "        vertical-align: middle;\n",
              "    }\n",
              "\n",
              "    .dataframe tbody tr th {\n",
              "        vertical-align: top;\n",
              "    }\n",
              "\n",
              "    .dataframe thead th {\n",
              "        text-align: right;\n",
              "    }\n",
              "</style>\n",
              "<table border=\"1\" class=\"dataframe\">\n",
              "  <thead>\n",
              "    <tr style=\"text-align: right;\">\n",
              "      <th></th>\n",
              "      <th>condition</th>\n",
              "      <th>block</th>\n",
              "      <th>trial</th>\n",
              "      <th>totalTrials</th>\n",
              "      <th>s1_state</th>\n",
              "      <th>s2_state</th>\n",
              "      <th>response</th>\n",
              "      <th>rt</th>\n",
              "      <th>pair</th>\n",
              "      <th>correct_response</th>\n",
              "      <th>repeated_condition</th>\n",
              "    </tr>\n",
              "  </thead>\n",
              "  <tbody>\n",
              "    <tr>\n",
              "      <th>0</th>\n",
              "      <td>noise</td>\n",
              "      <td>1</td>\n",
              "      <td>1</td>\n",
              "      <td>1</td>\n",
              "      <td>1</td>\n",
              "      <td>0</td>\n",
              "      <td>no</td>\n",
              "      <td>0.784115</td>\n",
              "      <td>2</td>\n",
              "      <td>True</td>\n",
              "      <td>0</td>\n",
              "    </tr>\n",
              "    <tr>\n",
              "      <th>1</th>\n",
              "      <td>signal</td>\n",
              "      <td>1</td>\n",
              "      <td>2</td>\n",
              "      <td>2</td>\n",
              "      <td>1</td>\n",
              "      <td>0</td>\n",
              "      <td>yes</td>\n",
              "      <td>1.117488</td>\n",
              "      <td>2</td>\n",
              "      <td>True</td>\n",
              "      <td>0</td>\n",
              "    </tr>\n",
              "    <tr>\n",
              "      <th>2</th>\n",
              "      <td>signal</td>\n",
              "      <td>1</td>\n",
              "      <td>3</td>\n",
              "      <td>3</td>\n",
              "      <td>0</td>\n",
              "      <td>1</td>\n",
              "      <td>yes</td>\n",
              "      <td>0.738012</td>\n",
              "      <td>2</td>\n",
              "      <td>True</td>\n",
              "      <td>1</td>\n",
              "    </tr>\n",
              "    <tr>\n",
              "      <th>3</th>\n",
              "      <td>noise</td>\n",
              "      <td>1</td>\n",
              "      <td>4</td>\n",
              "      <td>4</td>\n",
              "      <td>1</td>\n",
              "      <td>0</td>\n",
              "      <td>no</td>\n",
              "      <td>0.900919</td>\n",
              "      <td>2</td>\n",
              "      <td>True</td>\n",
              "      <td>0</td>\n",
              "    </tr>\n",
              "    <tr>\n",
              "      <th>4</th>\n",
              "      <td>noise</td>\n",
              "      <td>1</td>\n",
              "      <td>5</td>\n",
              "      <td>5</td>\n",
              "      <td>1</td>\n",
              "      <td>0</td>\n",
              "      <td>no</td>\n",
              "      <td>2.321921</td>\n",
              "      <td>2</td>\n",
              "      <td>True</td>\n",
              "      <td>1</td>\n",
              "    </tr>\n",
              "  </tbody>\n",
              "</table>\n",
              "</div>"
            ],
            "text/plain": [
              "  condition  block  trial  ...  pair  correct_response  repeated_condition\n",
              "0     noise      1      1  ...     2              True                   0\n",
              "1    signal      1      2  ...     2              True                   0\n",
              "2    signal      1      3  ...     2              True                   1\n",
              "3     noise      1      4  ...     2              True                   0\n",
              "4     noise      1      5  ...     2              True                   1\n",
              "\n",
              "[5 rows x 11 columns]"
            ]
          },
          "metadata": {
            "tags": []
          },
          "execution_count": 4
        }
      ]
    },
    {
      "cell_type": "code",
      "metadata": {
        "colab": {
          "base_uri": "https://localhost:8080/",
          "height": 272
        },
        "id": "h1jHn1JGX1LY",
        "outputId": "85940a00-f4f4-498e-d001-866944310f53"
      },
      "source": [
        "\"\"\"\n",
        "Segregate and arrange data on a per subject basis since analysis is done per subject.\n",
        "Output: every row is a trial data for the 'DO' subject. the dyad is by default in 'OBSERVE' state\n",
        "every subject is given a subject id : pair-id_1 or pair-id_2\n",
        "\"\"\"\n",
        "temp = samples_df.melt(id_vars=['pair','totalTrials','condition','rt','response','correct_response','repeated_condition'],value_vars=['s1_state'])\n",
        "temp['subject_id'] = temp['pair'].apply(str)\n",
        "temp.loc[temp['value']==1,'subject_id'] = temp.loc[temp['value']==1,'subject_id'] + '_1'\n",
        "temp.loc[temp['value']==0,'subject_id'] = temp.loc[temp['value']==0,'subject_id'] + '_2'\n",
        "\n",
        "\"\"\"\n",
        "Encode whether the trial previous to current one was 'DO' by own or by the partner.\n",
        "After block_repeats num. of blocks subjects take break, so for every \n",
        "t + block_repeat*trials_per_block*d th trial (t0 = 1, d = 0,1,...)\n",
        "doesnt make sense to have the previous trial encoding. \n",
        "\"\"\"\n",
        "temp['prev_trial'] = temp['value']\n",
        "temp['prev_trial'] = temp['prev_trial'].diff(periods=1)\n",
        "temp['prev_trial'] = temp['prev_trial'].map({0:'own'}).fillna('partner')\n",
        "temp.loc[((temp['totalTrials'] - 1) % (block_repeat*trials_per_block))==0,'prev_trial'] = np.NaN\n",
        "\n",
        "\"\"\"\n",
        "Create a column which tells if previous response was correct or error\n",
        "After block_repeats num. of blocks subjects take break, so for every \n",
        "t + block_repeat*trials_per_block*d th trial (t0 = 1, d = 0,1,...) set to NaN\n",
        "\"\"\"\n",
        "temp['prev_correct'] = temp['correct_response'].shift(periods=1)\n",
        "temp.loc[((temp['totalTrials'] - 1) % (block_repeat*trials_per_block))==0,'prev_correct'] = np.NaN\n",
        "\n",
        "\"\"\"\n",
        "Encode responses as 'repeat' or 'alternate'.\n",
        "'repeat' if response is same as immediate previous response, otherwise 'alternate'.\n",
        "After block_repeats num. of blocks subjects take break, so every \n",
        "t + block_repeat*trials_per_block*d th trial (t0 = 1, d = 0,1,...)\n",
        "for a given pair is neither repeat nor alternate. \n",
        "\"\"\"\n",
        "temp['response_code'] = temp['response'] == temp['response'].shift(periods=1)\n",
        "temp['response_code'] = temp['response_code'].map({True:'repeat'}).fillna('alternate')\n",
        "temp.loc[((temp['totalTrials'] - 1) % (block_repeat*trials_per_block))==0,'response_code'] = np.NaN\n",
        "\n",
        "\"\"\"\n",
        "Create dump of all experiment data, every line is a DO trial\n",
        "\"\"\"\n",
        "experiment_data = temp.drop(['variable','value'],axis=1)\n",
        "experiment_data = experiment_data[['subject_id','pair','totalTrials','condition','response','rt',\n",
        "                                   'correct_response','repeated_condition','response_code','prev_trial','prev_correct']]\n",
        "del temp\n",
        "\n",
        "display(experiment_data.head())\n",
        "print(experiment_data.columns)\n",
        "subjects = experiment_data['subject_id'].unique() #store the subject ids for later use\n"
      ],
      "execution_count": 5,
      "outputs": [
        {
          "output_type": "display_data",
          "data": {
            "text/html": [
              "<div>\n",
              "<style scoped>\n",
              "    .dataframe tbody tr th:only-of-type {\n",
              "        vertical-align: middle;\n",
              "    }\n",
              "\n",
              "    .dataframe tbody tr th {\n",
              "        vertical-align: top;\n",
              "    }\n",
              "\n",
              "    .dataframe thead th {\n",
              "        text-align: right;\n",
              "    }\n",
              "</style>\n",
              "<table border=\"1\" class=\"dataframe\">\n",
              "  <thead>\n",
              "    <tr style=\"text-align: right;\">\n",
              "      <th></th>\n",
              "      <th>subject_id</th>\n",
              "      <th>pair</th>\n",
              "      <th>totalTrials</th>\n",
              "      <th>condition</th>\n",
              "      <th>response</th>\n",
              "      <th>rt</th>\n",
              "      <th>correct_response</th>\n",
              "      <th>repeated_condition</th>\n",
              "      <th>response_code</th>\n",
              "      <th>prev_trial</th>\n",
              "      <th>prev_correct</th>\n",
              "    </tr>\n",
              "  </thead>\n",
              "  <tbody>\n",
              "    <tr>\n",
              "      <th>0</th>\n",
              "      <td>2_1</td>\n",
              "      <td>2</td>\n",
              "      <td>1</td>\n",
              "      <td>noise</td>\n",
              "      <td>no</td>\n",
              "      <td>0.784115</td>\n",
              "      <td>True</td>\n",
              "      <td>0</td>\n",
              "      <td>NaN</td>\n",
              "      <td>NaN</td>\n",
              "      <td>NaN</td>\n",
              "    </tr>\n",
              "    <tr>\n",
              "      <th>1</th>\n",
              "      <td>2_1</td>\n",
              "      <td>2</td>\n",
              "      <td>2</td>\n",
              "      <td>signal</td>\n",
              "      <td>yes</td>\n",
              "      <td>1.117488</td>\n",
              "      <td>True</td>\n",
              "      <td>0</td>\n",
              "      <td>alternate</td>\n",
              "      <td>own</td>\n",
              "      <td>True</td>\n",
              "    </tr>\n",
              "    <tr>\n",
              "      <th>2</th>\n",
              "      <td>2_2</td>\n",
              "      <td>2</td>\n",
              "      <td>3</td>\n",
              "      <td>signal</td>\n",
              "      <td>yes</td>\n",
              "      <td>0.738012</td>\n",
              "      <td>True</td>\n",
              "      <td>1</td>\n",
              "      <td>repeat</td>\n",
              "      <td>partner</td>\n",
              "      <td>True</td>\n",
              "    </tr>\n",
              "    <tr>\n",
              "      <th>3</th>\n",
              "      <td>2_1</td>\n",
              "      <td>2</td>\n",
              "      <td>4</td>\n",
              "      <td>noise</td>\n",
              "      <td>no</td>\n",
              "      <td>0.900919</td>\n",
              "      <td>True</td>\n",
              "      <td>0</td>\n",
              "      <td>alternate</td>\n",
              "      <td>partner</td>\n",
              "      <td>True</td>\n",
              "    </tr>\n",
              "    <tr>\n",
              "      <th>4</th>\n",
              "      <td>2_1</td>\n",
              "      <td>2</td>\n",
              "      <td>5</td>\n",
              "      <td>noise</td>\n",
              "      <td>no</td>\n",
              "      <td>2.321921</td>\n",
              "      <td>True</td>\n",
              "      <td>1</td>\n",
              "      <td>repeat</td>\n",
              "      <td>own</td>\n",
              "      <td>True</td>\n",
              "    </tr>\n",
              "  </tbody>\n",
              "</table>\n",
              "</div>"
            ],
            "text/plain": [
              "  subject_id  pair  totalTrials  ... response_code prev_trial  prev_correct\n",
              "0        2_1     2            1  ...           NaN        NaN           NaN\n",
              "1        2_1     2            2  ...     alternate        own          True\n",
              "2        2_2     2            3  ...        repeat    partner          True\n",
              "3        2_1     2            4  ...     alternate    partner          True\n",
              "4        2_1     2            5  ...        repeat        own          True\n",
              "\n",
              "[5 rows x 11 columns]"
            ]
          },
          "metadata": {
            "tags": []
          }
        },
        {
          "output_type": "stream",
          "text": [
            "Index(['subject_id', 'pair', 'totalTrials', 'condition', 'response', 'rt',\n",
            "       'correct_response', 'repeated_condition', 'response_code', 'prev_trial',\n",
            "       'prev_correct'],\n",
            "      dtype='object')\n"
          ],
          "name": "stdout"
        }
      ]
    },
    {
      "cell_type": "code",
      "metadata": {
        "colab": {
          "base_uri": "https://localhost:8080/"
        },
        "id": "DZhEDRBtbgJ9",
        "outputId": "f173e7f3-53dd-4a89-baa0-ab1ce8834eb3"
      },
      "source": [
        "\"\"\"\n",
        "Remove no-response trials (this needs to be discussed with A&A!)\n",
        "\"\"\"\n",
        "noresponse_dict = {}\n",
        "\n",
        "for pair in pairs:\n",
        "    subs = experiment_data.query('pair==@pair').subject_id.unique()\n",
        "\n",
        "    for subject in subs:\n",
        "        # create subset of dataframe\n",
        "        subset = experiment_data.loc[(experiment_data.pair==pair) & (experiment_data.subject_id==subject)]\n",
        "\n",
        "        # get indices of no-response trials\n",
        "        idx = subset[subset['response'] == 'noresponse'].index\n",
        "\n",
        "        # add amount of no-response trials to dictionary\n",
        "        if len(idx)==0:\n",
        "            continue\n",
        "        else:\n",
        "            noresponse_dict[subject] = len(idx)\n",
        "\n",
        "        experiment_data.drop(idx, inplace=True)\n",
        "\n",
        "experiment_data.reset_index(drop=True, inplace=True)\n",
        "print(noresponse_dict)"
      ],
      "execution_count": 6,
      "outputs": [
        {
          "output_type": "stream",
          "text": [
            "{'2_1': 1}\n"
          ],
          "name": "stdout"
        }
      ]
    },
    {
      "cell_type": "code",
      "metadata": {
        "colab": {
          "base_uri": "https://localhost:8080/"
        },
        "id": "xkPLk9hhetKG",
        "outputId": "df21f9db-7374-457d-f8cc-c58274b4aa70"
      },
      "source": [
        "\"\"\"\n",
        "Remove outliers\n",
        "\"\"\"\n",
        "RTstd = 4\n",
        "outlier_dict = {}\n",
        "\n",
        "for pair in pairs:\n",
        "    subs = experiment_data.query('pair==@pair').subject_id.unique()\n",
        "\n",
        "    for subject in subs:\n",
        "        # create subset of dataframe\n",
        "        subset = experiment_data.loc[(experiment_data.pair==pair) & (experiment_data.subject_id==subject)]\n",
        "\n",
        "        values = subset.loc[:,'rt'].values\n",
        "        mean = np.mean(values)\n",
        "        std = np.std(values)\n",
        "        thresh = mean + (std*RTstd)\n",
        "\n",
        "        # get indices of outliers\n",
        "        idx = subset.loc[(subset.rt) > thresh].index\n",
        "\n",
        "        # add amount of outliers to dictionary\n",
        "        if len(idx)==0:\n",
        "            continue\n",
        "        else:\n",
        "            outlier_dict[subject] = len(idx)\n",
        "\n",
        "        experiment_data.drop(idx, inplace=True)\n",
        "        #idx = remove_outliers(pair, subject)\n",
        "        #outlier_idx.extend(idx)\n",
        "\n",
        "experiment_data.reset_index(drop=True, inplace=True)\n",
        "print(outlier_dict)"
      ],
      "execution_count": 7,
      "outputs": [
        {
          "output_type": "stream",
          "text": [
            "{'2_2': 2}\n"
          ],
          "name": "stdout"
        }
      ]
    },
    {
      "cell_type": "markdown",
      "metadata": {
        "id": "8sxg5G3NhL3a"
      },
      "source": [
        "**Exploring the data**"
      ]
    },
    {
      "cell_type": "code",
      "metadata": {
        "colab": {
          "base_uri": "https://localhost:8080/",
          "height": 419
        },
        "id": "kio-C0X2r3YG",
        "outputId": "0a4d428d-61de-43a5-a388-6d9f1fb0ef4e"
      },
      "source": [
        "experiment_data.head(170)"
      ],
      "execution_count": 8,
      "outputs": [
        {
          "output_type": "execute_result",
          "data": {
            "text/html": [
              "<div>\n",
              "<style scoped>\n",
              "    .dataframe tbody tr th:only-of-type {\n",
              "        vertical-align: middle;\n",
              "    }\n",
              "\n",
              "    .dataframe tbody tr th {\n",
              "        vertical-align: top;\n",
              "    }\n",
              "\n",
              "    .dataframe thead th {\n",
              "        text-align: right;\n",
              "    }\n",
              "</style>\n",
              "<table border=\"1\" class=\"dataframe\">\n",
              "  <thead>\n",
              "    <tr style=\"text-align: right;\">\n",
              "      <th></th>\n",
              "      <th>subject_id</th>\n",
              "      <th>pair</th>\n",
              "      <th>totalTrials</th>\n",
              "      <th>condition</th>\n",
              "      <th>response</th>\n",
              "      <th>rt</th>\n",
              "      <th>correct_response</th>\n",
              "      <th>repeated_condition</th>\n",
              "      <th>response_code</th>\n",
              "      <th>prev_trial</th>\n",
              "      <th>prev_correct</th>\n",
              "    </tr>\n",
              "  </thead>\n",
              "  <tbody>\n",
              "    <tr>\n",
              "      <th>0</th>\n",
              "      <td>2_1</td>\n",
              "      <td>2</td>\n",
              "      <td>1</td>\n",
              "      <td>noise</td>\n",
              "      <td>no</td>\n",
              "      <td>0.784115</td>\n",
              "      <td>True</td>\n",
              "      <td>0</td>\n",
              "      <td>NaN</td>\n",
              "      <td>NaN</td>\n",
              "      <td>NaN</td>\n",
              "    </tr>\n",
              "    <tr>\n",
              "      <th>1</th>\n",
              "      <td>2_1</td>\n",
              "      <td>2</td>\n",
              "      <td>2</td>\n",
              "      <td>signal</td>\n",
              "      <td>yes</td>\n",
              "      <td>1.117488</td>\n",
              "      <td>True</td>\n",
              "      <td>0</td>\n",
              "      <td>alternate</td>\n",
              "      <td>own</td>\n",
              "      <td>True</td>\n",
              "    </tr>\n",
              "    <tr>\n",
              "      <th>2</th>\n",
              "      <td>2_2</td>\n",
              "      <td>2</td>\n",
              "      <td>3</td>\n",
              "      <td>signal</td>\n",
              "      <td>yes</td>\n",
              "      <td>0.738012</td>\n",
              "      <td>True</td>\n",
              "      <td>1</td>\n",
              "      <td>repeat</td>\n",
              "      <td>partner</td>\n",
              "      <td>True</td>\n",
              "    </tr>\n",
              "    <tr>\n",
              "      <th>3</th>\n",
              "      <td>2_1</td>\n",
              "      <td>2</td>\n",
              "      <td>4</td>\n",
              "      <td>noise</td>\n",
              "      <td>no</td>\n",
              "      <td>0.900919</td>\n",
              "      <td>True</td>\n",
              "      <td>0</td>\n",
              "      <td>alternate</td>\n",
              "      <td>partner</td>\n",
              "      <td>True</td>\n",
              "    </tr>\n",
              "    <tr>\n",
              "      <th>4</th>\n",
              "      <td>2_1</td>\n",
              "      <td>2</td>\n",
              "      <td>5</td>\n",
              "      <td>noise</td>\n",
              "      <td>no</td>\n",
              "      <td>2.321921</td>\n",
              "      <td>True</td>\n",
              "      <td>1</td>\n",
              "      <td>repeat</td>\n",
              "      <td>own</td>\n",
              "      <td>True</td>\n",
              "    </tr>\n",
              "    <tr>\n",
              "      <th>...</th>\n",
              "      <td>...</td>\n",
              "      <td>...</td>\n",
              "      <td>...</td>\n",
              "      <td>...</td>\n",
              "      <td>...</td>\n",
              "      <td>...</td>\n",
              "      <td>...</td>\n",
              "      <td>...</td>\n",
              "      <td>...</td>\n",
              "      <td>...</td>\n",
              "      <td>...</td>\n",
              "    </tr>\n",
              "    <tr>\n",
              "      <th>152</th>\n",
              "      <td>2_1</td>\n",
              "      <td>2</td>\n",
              "      <td>156</td>\n",
              "      <td>signal</td>\n",
              "      <td>yes</td>\n",
              "      <td>1.067578</td>\n",
              "      <td>True</td>\n",
              "      <td>1</td>\n",
              "      <td>alternate</td>\n",
              "      <td>own</td>\n",
              "      <td>False</td>\n",
              "    </tr>\n",
              "    <tr>\n",
              "      <th>153</th>\n",
              "      <td>2_1</td>\n",
              "      <td>2</td>\n",
              "      <td>157</td>\n",
              "      <td>signal</td>\n",
              "      <td>yes</td>\n",
              "      <td>0.900643</td>\n",
              "      <td>True</td>\n",
              "      <td>2</td>\n",
              "      <td>repeat</td>\n",
              "      <td>own</td>\n",
              "      <td>True</td>\n",
              "    </tr>\n",
              "    <tr>\n",
              "      <th>154</th>\n",
              "      <td>2_1</td>\n",
              "      <td>2</td>\n",
              "      <td>158</td>\n",
              "      <td>signal</td>\n",
              "      <td>yes</td>\n",
              "      <td>1.067442</td>\n",
              "      <td>True</td>\n",
              "      <td>3</td>\n",
              "      <td>repeat</td>\n",
              "      <td>own</td>\n",
              "      <td>True</td>\n",
              "    </tr>\n",
              "    <tr>\n",
              "      <th>155</th>\n",
              "      <td>2_2</td>\n",
              "      <td>2</td>\n",
              "      <td>159</td>\n",
              "      <td>signal</td>\n",
              "      <td>yes</td>\n",
              "      <td>0.750670</td>\n",
              "      <td>True</td>\n",
              "      <td>4</td>\n",
              "      <td>repeat</td>\n",
              "      <td>partner</td>\n",
              "      <td>True</td>\n",
              "    </tr>\n",
              "    <tr>\n",
              "      <th>156</th>\n",
              "      <td>2_2</td>\n",
              "      <td>2</td>\n",
              "      <td>160</td>\n",
              "      <td>signal</td>\n",
              "      <td>yes</td>\n",
              "      <td>0.750528</td>\n",
              "      <td>True</td>\n",
              "      <td>5</td>\n",
              "      <td>repeat</td>\n",
              "      <td>own</td>\n",
              "      <td>True</td>\n",
              "    </tr>\n",
              "  </tbody>\n",
              "</table>\n",
              "<p>157 rows × 11 columns</p>\n",
              "</div>"
            ],
            "text/plain": [
              "    subject_id  pair  totalTrials  ... response_code prev_trial  prev_correct\n",
              "0          2_1     2            1  ...           NaN        NaN           NaN\n",
              "1          2_1     2            2  ...     alternate        own          True\n",
              "2          2_2     2            3  ...        repeat    partner          True\n",
              "3          2_1     2            4  ...     alternate    partner          True\n",
              "4          2_1     2            5  ...        repeat        own          True\n",
              "..         ...   ...          ...  ...           ...        ...           ...\n",
              "152        2_1     2          156  ...     alternate        own         False\n",
              "153        2_1     2          157  ...        repeat        own          True\n",
              "154        2_1     2          158  ...        repeat        own          True\n",
              "155        2_2     2          159  ...        repeat    partner          True\n",
              "156        2_2     2          160  ...        repeat        own          True\n",
              "\n",
              "[157 rows x 11 columns]"
            ]
          },
          "metadata": {
            "tags": []
          },
          "execution_count": 8
        }
      ]
    },
    {
      "cell_type": "code",
      "metadata": {
        "colab": {
          "base_uri": "https://localhost:8080/",
          "height": 441
        },
        "id": "5zT6aTaihPKa",
        "outputId": "8fbf2af5-1c86-4fa3-ab51-5e1c36a96f20"
      },
      "source": [
        "fig, ax = plt.subplots(figsize=(8, 6))\n",
        "\n",
        "sns.countplot(data=experiment_data, x='subject_id', hue='condition', ax=ax)\n",
        "sns.despine(offset=10)\n",
        "\n",
        "ax.set_xlabel('participant')\n",
        "ax.set_title('Distribution of trials', fontsize=18)\n",
        "\n",
        "fig.tight_layout()"
      ],
      "execution_count": 9,
      "outputs": [
        {
          "output_type": "display_data",
          "data": {
            "image/png": "[encoded data removed]",
            "text/plain": [
              "<Figure size 576x432 with 1 Axes>"
            ]
          },
          "metadata": {
            "tags": [],
            "needs_background": "light"
          }
        }
      ]
    },
    {
      "cell_type": "code",
      "metadata": {
        "colab": {
          "base_uri": "https://localhost:8080/",
          "height": 441
        },
        "id": "41E99i5vihEg",
        "outputId": "f7401f0b-0f0e-42eb-9c9d-fedf819cf1cc"
      },
      "source": [
        "\"\"\"\n",
        "Plot proportion of correct responses per subject.\n",
        "Check if 75% correctness is maintained\n",
        "\"\"\"\n",
        "fig, ax = plt.subplots(figsize=(8, 6))\n",
        "tmpdf = experiment_data.groupby(['subject_id'])['correct_response'].value_counts(normalize=True).reset_index(name='proportion')\n",
        "\n",
        "sns.barplot(data=tmpdf.query('correct_response'), \n",
        "              x='subject_id',\n",
        "              y='proportion',\n",
        "              ax=ax)\n",
        "sns.despine(offset=10)\n",
        "ax.axhline(y=0.75,color='black',linestyle='dotted')\n",
        "ax.set_xlabel('participant')\n",
        "ax.set_title('Proportion of correct response', fontsize=18)\n",
        "\n",
        "fig.tight_layout()\n",
        "\n",
        "del tmpdf\n"
      ],
      "execution_count": 10,
      "outputs": [
        {
          "output_type": "display_data",
          "data": {
            "image/png": "[encoded data removed]",
            "text/plain": [
              "<Figure size 576x432 with 1 Axes>"
            ]
          },
          "metadata": {
            "tags": [],
            "needs_background": "light"
          }
        }
      ]
    },
    {
      "cell_type": "code",
      "metadata": {
        "colab": {
          "base_uri": "https://localhost:8080/",
          "height": 729
        },
        "id": "f4tHwUGHdyWp",
        "outputId": "04b80c60-7fd5-470f-fa25-9bf7e80aa894"
      },
      "source": [
        "\"\"\"\n",
        "SB: Copied FB's code and modified\n",
        "Plot RT for each subject, seperately for error and corerct repsonses.\n",
        "Things to check:\n",
        "1. Positive skew (median before mean)\n",
        "2. Error RTs usually are longer and the histrograms are flatter\n",
        "\"\"\"\n",
        "\n",
        "fig, axes = plt.subplots(len(subjects),2,figsize=(10,10),sharex=True,sharey=True)\n",
        "axes = axes.flatten()\n",
        "graph_counter = 0\n",
        "\n",
        "for sub in subjects:\n",
        "  tmpdf_corr = (\n",
        "      experiment_data\n",
        "      .query('subject_id==@sub and correct_response')\n",
        "      .reset_index()\n",
        "  )\n",
        "  tmpdf_err = (\n",
        "      experiment_data\n",
        "      .query('subject_id==@sub and not correct_response')\n",
        "      .reset_index()\n",
        "  )\n",
        "  if tmpdf_corr.shape[0] != 0:\n",
        "    sns.histplot(data=tmpdf_corr,x=\"rt\", kde=True, ax=axes[graph_counter])\n",
        "    sns.despine(offset=10)\n",
        "    mean = tmpdf_corr['rt'].mean()\n",
        "    median = tmpdf_corr['rt'].median()\n",
        "    axes[graph_counter].axvline(x=mean,color='red')\n",
        "    axes[graph_counter].axvline(x=median,color='blue')\n",
        "    axes[graph_counter].set_title('Subject: {}, Correct RTs. Mean: {:0.2f}, Median: {:0.2f}'.format(sub,mean,median))\n",
        "    graph_counter += 1\n",
        "  else:\n",
        "    axes[graph_counter].set_title('Subject: {}, Correct RTs.'.format(sub))\n",
        "    axes[graph_counter].text(x=1,y=20,s='No Correct Responses!!')\n",
        "    graph_counter += 1\n",
        "\n",
        "  if tmpdf_err.shape[0] != 0:\n",
        "    sns.histplot(x=tmpdf_err['rt'], kde=True, ax=axes[graph_counter])\n",
        "    sns.despine(offset=10)\n",
        "    mean = tmpdf_err['rt'].mean()\n",
        "    median = tmpdf_err['rt'].median()\n",
        "    axes[graph_counter].axvline(x=mean,color='red')\n",
        "    axes[graph_counter].axvline(x=median,color='blue')\n",
        "    axes[graph_counter].set_title('Subject: {}, Error RTs. Mean: {:0.2f}, Median: {:0.2f}'.format(sub,mean,median))\n",
        "    graph_counter += 1\n",
        "  else:\n",
        "    axes[graph_counter].set_title('Subject: {}, Error RTs.'.format(sub))\n",
        "    axes[graph_counter].text(x=1,y=20,s='No Error Responses')\n",
        "    graph_counter += 1\n",
        "\n",
        "axes[graph_counter-1].set_xlabel('reaction time [s]')\n",
        "axes[graph_counter-2].set_xlabel('reaction time [s]')\n",
        "fig.tight_layout(h_pad=1.5)\n",
        "plt.show()\n",
        "\n",
        "del tmpdf_corr, tmpdf_err"
      ],
      "execution_count": 11,
      "outputs": [
        {
          "output_type": "display_data",
          "data": {
            "image/png": "[encoded data removed]",
            "text/plain": [
              "<Figure size 720x720 with 4 Axes>"
            ]
          },
          "metadata": {
            "tags": [],
            "needs_background": "light"
          }
        }
      ]
    },
    {
      "cell_type": "code",
      "metadata": {
        "colab": {
          "base_uri": "https://localhost:8080/",
          "height": 187
        },
        "id": "kLKE8qw1qIGZ",
        "outputId": "22cf4d13-4baf-4f60-b846-eab1b067737a"
      },
      "source": [
        "\"\"\"\n",
        "Calculate probability of repeat for each subject, for overall, for prev trial own and prev trial partner\n",
        "Calculate the probabilities of repeat under the various conditions and store ina DF, to analyze and plot\n",
        "Since sample size differ for subjects and conditions, calculations are weighted by sample size.\n",
        "Plot for all subjects their individual probability of repeat. \n",
        "\n",
        "Refer: AU Fig 2.b\n",
        "\"\"\"\n",
        "\n",
        "#calculate p(repeat) for own and dyadic conditions\n",
        "tmpdf = experiment_data.groupby(['subject_id','prev_trial'])['response_code'].value_counts().unstack(level=2).reset_index()\n",
        "tmpdf['n'] = tmpdf.sum(axis=1)\n",
        "tmpdf['pr'] = tmpdf['repeat']/tmpdf['n']\n",
        "tmpdf.drop(['alternate'],axis=1,inplace=True)\n",
        "\n",
        "#calculate p(repeat) for overall\n",
        "tmpdf1 = experiment_data.groupby(['subject_id'])['response_code'].value_counts().unstack(level=1).reset_index()\n",
        "tmpdf1['n'] = tmpdf1.sum(axis=1)\n",
        "tmpdf1['pr'] = tmpdf1['repeat']/tmpdf1['n']\n",
        "tmpdf1.drop(['alternate'],axis=1,inplace=True)\n",
        "\n",
        "#plot the 3 charts\n",
        "fig, axes = plt.subplots(1,3,figsize=(20,2),sharex=True,subplot_kw=dict(xlabel=\"P(repeat)\",ylabel=\"Subject Id\"))\n",
        "axes = axes.flatten()\n",
        "\n",
        "sns.barplot(x='pr',y='subject_id',data=tmpdf1,ax=axes[0])\n",
        "mean = np.average(a=tmpdf1['pr'],weights= tmpdf1['n'])\n",
        "axes[0].axvline(x=mean,color='red')\n",
        "axes[0].axvline(x=0.5,color='black',linestyle='dotted')\n",
        "axes[0].set_title('P(repeat) overall. Mean: {:0.2%}'.format(mean))\n",
        "\n",
        "for i,typ in enumerate(tmpdf['prev_trial'].unique()):\n",
        "  sns.barplot(x='pr',y='subject_id',data=tmpdf[tmpdf['prev_trial']==typ],ax=axes[i+1])\n",
        "  mean = np.average(a=tmpdf[tmpdf['prev_trial']==typ]['pr'],weights=tmpdf[tmpdf['prev_trial']==typ]['n'])\n",
        "  axes[i+1].axvline(x=mean,color='red')\n",
        "  axes[i+1].axvline(x=0.5,color='black',linestyle='dotted')\n",
        "  axes[i+1].set_title('P(repeat) following {} trial. Mean: {:0.2%}'.format(typ, mean))\n",
        "\n",
        "plt.show()\n",
        "\n",
        "del tmpdf, tmpdf1\n"
      ],
      "execution_count": 12,
      "outputs": [
        {
          "output_type": "display_data",
          "data": {
            "image/png": "[encoded data removed]",
            "text/plain": [
              "<Figure size 1440x144 with 3 Axes>"
            ]
          },
          "metadata": {
            "tags": [],
            "needs_background": "light"
          }
        }
      ]
    },
    {
      "cell_type": "code",
      "metadata": {
        "colab": {
          "base_uri": "https://localhost:8080/",
          "height": 283
        },
        "id": "yXSTAlwpQlWF",
        "outputId": "24671766-917a-4433-b107-6b6f900a31f3"
      },
      "source": [
        "\"\"\"\n",
        "Plot each individual’s tendency to repeat their choices after correct vs. error trials. \n",
        "Reponses following own trial and partner trial are color coded\n",
        "Refer: AU Fig 2.c\n",
        "\"\"\"\n",
        "#calculate p(repeat) after correct and error trials\n",
        "tmpdf = experiment_data.groupby(['subject_id','prev_trial','prev_correct'])['response_code'].value_counts(normalize=True)\n",
        "tmpdf = tmpdf.unstack(level=2).fillna(0).reset_index()\n",
        "tmpdf = tmpdf[tmpdf['response_code']=='repeat']\n",
        "\n",
        "#scatter plot\n",
        "fig, ax = plt.subplots(1)\n",
        "sns.scatterplot(x=tmpdf[True],y=tmpdf[False],hue=tmpdf['prev_trial'],ax=ax)\n",
        "ax.set_xticks(np.linspace(0,1,11))\n",
        "ax.set_yticks(np.linspace(0,1,11))\n",
        "ax.axvline(x=0.5,color='black')\n",
        "ax.axhline(y=0.5,color='black')\n",
        "ax.set_xlabel(\"P(repeat) after correct\")\n",
        "ax.set_ylabel(\"P(repeat) after error\")\n",
        "plt.show()\n",
        "\n",
        "del tmpdf"
      ],
      "execution_count": 13,
      "outputs": [
        {
          "output_type": "display_data",
          "data": {
            "image/png": "[encoded data removed]",
            "text/plain": [
              "<Figure size 432x288 with 1 Axes>"
            ]
          },
          "metadata": {
            "tags": [],
            "needs_background": "light"
          }
        }
      ]
    },
    {
      "cell_type": "code",
      "metadata": {
        "colab": {
          "base_uri": "https://localhost:8080/"
        },
        "id": "zqYchMO7nDZt",
        "outputId": "16c8687a-9ae5-44dc-89df-93d365717f44"
      },
      "source": [
        "experiment_data['rt'].quantile(q=[0.2,0.4,0.6,0.8])"
      ],
      "execution_count": 14,
      "outputs": [
        {
          "output_type": "execute_result",
          "data": {
            "text/plain": [
              "0.2    0.700776\n",
              "0.4    0.768857\n",
              "0.6    0.884138\n",
              "0.8    1.053946\n",
              "Name: rt, dtype: float64"
            ]
          },
          "metadata": {
            "tags": []
          },
          "execution_count": 14
        }
      ]
    }
  ]
}